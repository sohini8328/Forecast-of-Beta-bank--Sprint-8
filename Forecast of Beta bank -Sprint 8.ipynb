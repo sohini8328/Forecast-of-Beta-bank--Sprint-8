{
 "cells": [
  {
   "cell_type": "markdown",
   "metadata": {},
   "source": [
    "## Project Title \n",
    "### Forecasting the customer loyality towards Beta bank"
   ]
  },
  {
   "cell_type": "markdown",
   "metadata": {},
   "source": [
    "## Introduction\n",
    "\n",
    "#### The objective of this project is to develop a machine learning model for Beta Bank to analyze customer loyalty. This model aims to identify customers who may be considering moving their business to another financial institution. By doing so, Beta Bank can investigate the underlying reasons for potential customer churn and devise strategic plans to address these issues, ultimately enhancing customer retention.\n"
   ]
  },
  {
   "cell_type": "code",
   "execution_count": 1,
   "metadata": {
    "trusted": true
   },
   "outputs": [],
   "source": [
    "## importing libraries\n",
    "import pandas as pd\n",
    "import matplotlib.pyplot as plt\n",
    "import numpy as np\n",
    "import seaborn as sns\n",
    "from scipy import stats as st\n",
    "from sklearn.model_selection import train_test_split\n",
    "\n",
    "from sklearn.tree import DecisionTreeClassifier\n",
    "from sklearn.linear_model import LogisticRegression\n",
    "from sklearn.ensemble import RandomForestClassifier\n",
    "from sklearn.preprocessing import OrdinalEncoder\n",
    "\n",
    "from sklearn.linear_model import LinearRegression\n",
    "from sklearn.preprocessing import StandardScaler\n",
    "from sklearn.metrics import mean_squared_error\n",
    "from sklearn.metrics import accuracy_score\n",
    "from sklearn.utils import shuffle\n",
    "from sklearn.metrics import f1_score\n",
    "from sklearn.metrics import roc_auc_score"
   ]
  },
  {
   "cell_type": "code",
   "execution_count": 2,
   "metadata": {
    "trusted": true
   },
   "outputs": [
    {
     "ename": "FileNotFoundError",
     "evalue": "[Errno 2] No such file or directory: '/datasets/Churn.csv'",
     "output_type": "error",
     "traceback": [
      "\u001b[1;31m---------------------------------------------------------------------------\u001b[0m",
      "\u001b[1;31mFileNotFoundError\u001b[0m                         Traceback (most recent call last)",
      "Cell \u001b[1;32mIn[2], line 2\u001b[0m\n\u001b[0;32m      1\u001b[0m \u001b[38;5;66;03m## creating the dataframe\u001b[39;00m\n\u001b[1;32m----> 2\u001b[0m df \u001b[38;5;241m=\u001b[39m \u001b[43mpd\u001b[49m\u001b[38;5;241;43m.\u001b[39;49m\u001b[43mread_csv\u001b[49m\u001b[43m(\u001b[49m\u001b[38;5;124;43m'\u001b[39;49m\u001b[38;5;124;43m/datasets/Churn.csv\u001b[39;49m\u001b[38;5;124;43m'\u001b[39;49m\u001b[43m)\u001b[49m\n",
      "File \u001b[1;32mc:\\Users\\Sohin\\anaconda3\\Lib\\site-packages\\pandas\\io\\parsers\\readers.py:1026\u001b[0m, in \u001b[0;36mread_csv\u001b[1;34m(filepath_or_buffer, sep, delimiter, header, names, index_col, usecols, dtype, engine, converters, true_values, false_values, skipinitialspace, skiprows, skipfooter, nrows, na_values, keep_default_na, na_filter, verbose, skip_blank_lines, parse_dates, infer_datetime_format, keep_date_col, date_parser, date_format, dayfirst, cache_dates, iterator, chunksize, compression, thousands, decimal, lineterminator, quotechar, quoting, doublequote, escapechar, comment, encoding, encoding_errors, dialect, on_bad_lines, delim_whitespace, low_memory, memory_map, float_precision, storage_options, dtype_backend)\u001b[0m\n\u001b[0;32m   1013\u001b[0m kwds_defaults \u001b[38;5;241m=\u001b[39m _refine_defaults_read(\n\u001b[0;32m   1014\u001b[0m     dialect,\n\u001b[0;32m   1015\u001b[0m     delimiter,\n\u001b[1;32m   (...)\u001b[0m\n\u001b[0;32m   1022\u001b[0m     dtype_backend\u001b[38;5;241m=\u001b[39mdtype_backend,\n\u001b[0;32m   1023\u001b[0m )\n\u001b[0;32m   1024\u001b[0m kwds\u001b[38;5;241m.\u001b[39mupdate(kwds_defaults)\n\u001b[1;32m-> 1026\u001b[0m \u001b[38;5;28;01mreturn\u001b[39;00m \u001b[43m_read\u001b[49m\u001b[43m(\u001b[49m\u001b[43mfilepath_or_buffer\u001b[49m\u001b[43m,\u001b[49m\u001b[43m \u001b[49m\u001b[43mkwds\u001b[49m\u001b[43m)\u001b[49m\n",
      "File \u001b[1;32mc:\\Users\\Sohin\\anaconda3\\Lib\\site-packages\\pandas\\io\\parsers\\readers.py:620\u001b[0m, in \u001b[0;36m_read\u001b[1;34m(filepath_or_buffer, kwds)\u001b[0m\n\u001b[0;32m    617\u001b[0m _validate_names(kwds\u001b[38;5;241m.\u001b[39mget(\u001b[38;5;124m\"\u001b[39m\u001b[38;5;124mnames\u001b[39m\u001b[38;5;124m\"\u001b[39m, \u001b[38;5;28;01mNone\u001b[39;00m))\n\u001b[0;32m    619\u001b[0m \u001b[38;5;66;03m# Create the parser.\u001b[39;00m\n\u001b[1;32m--> 620\u001b[0m parser \u001b[38;5;241m=\u001b[39m \u001b[43mTextFileReader\u001b[49m\u001b[43m(\u001b[49m\u001b[43mfilepath_or_buffer\u001b[49m\u001b[43m,\u001b[49m\u001b[43m \u001b[49m\u001b[38;5;241;43m*\u001b[39;49m\u001b[38;5;241;43m*\u001b[39;49m\u001b[43mkwds\u001b[49m\u001b[43m)\u001b[49m\n\u001b[0;32m    622\u001b[0m \u001b[38;5;28;01mif\u001b[39;00m chunksize \u001b[38;5;129;01mor\u001b[39;00m iterator:\n\u001b[0;32m    623\u001b[0m     \u001b[38;5;28;01mreturn\u001b[39;00m parser\n",
      "File \u001b[1;32mc:\\Users\\Sohin\\anaconda3\\Lib\\site-packages\\pandas\\io\\parsers\\readers.py:1620\u001b[0m, in \u001b[0;36mTextFileReader.__init__\u001b[1;34m(self, f, engine, **kwds)\u001b[0m\n\u001b[0;32m   1617\u001b[0m     \u001b[38;5;28mself\u001b[39m\u001b[38;5;241m.\u001b[39moptions[\u001b[38;5;124m\"\u001b[39m\u001b[38;5;124mhas_index_names\u001b[39m\u001b[38;5;124m\"\u001b[39m] \u001b[38;5;241m=\u001b[39m kwds[\u001b[38;5;124m\"\u001b[39m\u001b[38;5;124mhas_index_names\u001b[39m\u001b[38;5;124m\"\u001b[39m]\n\u001b[0;32m   1619\u001b[0m \u001b[38;5;28mself\u001b[39m\u001b[38;5;241m.\u001b[39mhandles: IOHandles \u001b[38;5;241m|\u001b[39m \u001b[38;5;28;01mNone\u001b[39;00m \u001b[38;5;241m=\u001b[39m \u001b[38;5;28;01mNone\u001b[39;00m\n\u001b[1;32m-> 1620\u001b[0m \u001b[38;5;28mself\u001b[39m\u001b[38;5;241m.\u001b[39m_engine \u001b[38;5;241m=\u001b[39m \u001b[38;5;28;43mself\u001b[39;49m\u001b[38;5;241;43m.\u001b[39;49m\u001b[43m_make_engine\u001b[49m\u001b[43m(\u001b[49m\u001b[43mf\u001b[49m\u001b[43m,\u001b[49m\u001b[43m \u001b[49m\u001b[38;5;28;43mself\u001b[39;49m\u001b[38;5;241;43m.\u001b[39;49m\u001b[43mengine\u001b[49m\u001b[43m)\u001b[49m\n",
      "File \u001b[1;32mc:\\Users\\Sohin\\anaconda3\\Lib\\site-packages\\pandas\\io\\parsers\\readers.py:1880\u001b[0m, in \u001b[0;36mTextFileReader._make_engine\u001b[1;34m(self, f, engine)\u001b[0m\n\u001b[0;32m   1878\u001b[0m     \u001b[38;5;28;01mif\u001b[39;00m \u001b[38;5;124m\"\u001b[39m\u001b[38;5;124mb\u001b[39m\u001b[38;5;124m\"\u001b[39m \u001b[38;5;129;01mnot\u001b[39;00m \u001b[38;5;129;01min\u001b[39;00m mode:\n\u001b[0;32m   1879\u001b[0m         mode \u001b[38;5;241m+\u001b[39m\u001b[38;5;241m=\u001b[39m \u001b[38;5;124m\"\u001b[39m\u001b[38;5;124mb\u001b[39m\u001b[38;5;124m\"\u001b[39m\n\u001b[1;32m-> 1880\u001b[0m \u001b[38;5;28mself\u001b[39m\u001b[38;5;241m.\u001b[39mhandles \u001b[38;5;241m=\u001b[39m \u001b[43mget_handle\u001b[49m\u001b[43m(\u001b[49m\n\u001b[0;32m   1881\u001b[0m \u001b[43m    \u001b[49m\u001b[43mf\u001b[49m\u001b[43m,\u001b[49m\n\u001b[0;32m   1882\u001b[0m \u001b[43m    \u001b[49m\u001b[43mmode\u001b[49m\u001b[43m,\u001b[49m\n\u001b[0;32m   1883\u001b[0m \u001b[43m    \u001b[49m\u001b[43mencoding\u001b[49m\u001b[38;5;241;43m=\u001b[39;49m\u001b[38;5;28;43mself\u001b[39;49m\u001b[38;5;241;43m.\u001b[39;49m\u001b[43moptions\u001b[49m\u001b[38;5;241;43m.\u001b[39;49m\u001b[43mget\u001b[49m\u001b[43m(\u001b[49m\u001b[38;5;124;43m\"\u001b[39;49m\u001b[38;5;124;43mencoding\u001b[39;49m\u001b[38;5;124;43m\"\u001b[39;49m\u001b[43m,\u001b[49m\u001b[43m \u001b[49m\u001b[38;5;28;43;01mNone\u001b[39;49;00m\u001b[43m)\u001b[49m\u001b[43m,\u001b[49m\n\u001b[0;32m   1884\u001b[0m \u001b[43m    \u001b[49m\u001b[43mcompression\u001b[49m\u001b[38;5;241;43m=\u001b[39;49m\u001b[38;5;28;43mself\u001b[39;49m\u001b[38;5;241;43m.\u001b[39;49m\u001b[43moptions\u001b[49m\u001b[38;5;241;43m.\u001b[39;49m\u001b[43mget\u001b[49m\u001b[43m(\u001b[49m\u001b[38;5;124;43m\"\u001b[39;49m\u001b[38;5;124;43mcompression\u001b[39;49m\u001b[38;5;124;43m\"\u001b[39;49m\u001b[43m,\u001b[49m\u001b[43m \u001b[49m\u001b[38;5;28;43;01mNone\u001b[39;49;00m\u001b[43m)\u001b[49m\u001b[43m,\u001b[49m\n\u001b[0;32m   1885\u001b[0m \u001b[43m    \u001b[49m\u001b[43mmemory_map\u001b[49m\u001b[38;5;241;43m=\u001b[39;49m\u001b[38;5;28;43mself\u001b[39;49m\u001b[38;5;241;43m.\u001b[39;49m\u001b[43moptions\u001b[49m\u001b[38;5;241;43m.\u001b[39;49m\u001b[43mget\u001b[49m\u001b[43m(\u001b[49m\u001b[38;5;124;43m\"\u001b[39;49m\u001b[38;5;124;43mmemory_map\u001b[39;49m\u001b[38;5;124;43m\"\u001b[39;49m\u001b[43m,\u001b[49m\u001b[43m \u001b[49m\u001b[38;5;28;43;01mFalse\u001b[39;49;00m\u001b[43m)\u001b[49m\u001b[43m,\u001b[49m\n\u001b[0;32m   1886\u001b[0m \u001b[43m    \u001b[49m\u001b[43mis_text\u001b[49m\u001b[38;5;241;43m=\u001b[39;49m\u001b[43mis_text\u001b[49m\u001b[43m,\u001b[49m\n\u001b[0;32m   1887\u001b[0m \u001b[43m    \u001b[49m\u001b[43merrors\u001b[49m\u001b[38;5;241;43m=\u001b[39;49m\u001b[38;5;28;43mself\u001b[39;49m\u001b[38;5;241;43m.\u001b[39;49m\u001b[43moptions\u001b[49m\u001b[38;5;241;43m.\u001b[39;49m\u001b[43mget\u001b[49m\u001b[43m(\u001b[49m\u001b[38;5;124;43m\"\u001b[39;49m\u001b[38;5;124;43mencoding_errors\u001b[39;49m\u001b[38;5;124;43m\"\u001b[39;49m\u001b[43m,\u001b[49m\u001b[43m \u001b[49m\u001b[38;5;124;43m\"\u001b[39;49m\u001b[38;5;124;43mstrict\u001b[39;49m\u001b[38;5;124;43m\"\u001b[39;49m\u001b[43m)\u001b[49m\u001b[43m,\u001b[49m\n\u001b[0;32m   1888\u001b[0m \u001b[43m    \u001b[49m\u001b[43mstorage_options\u001b[49m\u001b[38;5;241;43m=\u001b[39;49m\u001b[38;5;28;43mself\u001b[39;49m\u001b[38;5;241;43m.\u001b[39;49m\u001b[43moptions\u001b[49m\u001b[38;5;241;43m.\u001b[39;49m\u001b[43mget\u001b[49m\u001b[43m(\u001b[49m\u001b[38;5;124;43m\"\u001b[39;49m\u001b[38;5;124;43mstorage_options\u001b[39;49m\u001b[38;5;124;43m\"\u001b[39;49m\u001b[43m,\u001b[49m\u001b[43m \u001b[49m\u001b[38;5;28;43;01mNone\u001b[39;49;00m\u001b[43m)\u001b[49m\u001b[43m,\u001b[49m\n\u001b[0;32m   1889\u001b[0m \u001b[43m\u001b[49m\u001b[43m)\u001b[49m\n\u001b[0;32m   1890\u001b[0m \u001b[38;5;28;01massert\u001b[39;00m \u001b[38;5;28mself\u001b[39m\u001b[38;5;241m.\u001b[39mhandles \u001b[38;5;129;01mis\u001b[39;00m \u001b[38;5;129;01mnot\u001b[39;00m \u001b[38;5;28;01mNone\u001b[39;00m\n\u001b[0;32m   1891\u001b[0m f \u001b[38;5;241m=\u001b[39m \u001b[38;5;28mself\u001b[39m\u001b[38;5;241m.\u001b[39mhandles\u001b[38;5;241m.\u001b[39mhandle\n",
      "File \u001b[1;32mc:\\Users\\Sohin\\anaconda3\\Lib\\site-packages\\pandas\\io\\common.py:873\u001b[0m, in \u001b[0;36mget_handle\u001b[1;34m(path_or_buf, mode, encoding, compression, memory_map, is_text, errors, storage_options)\u001b[0m\n\u001b[0;32m    868\u001b[0m \u001b[38;5;28;01melif\u001b[39;00m \u001b[38;5;28misinstance\u001b[39m(handle, \u001b[38;5;28mstr\u001b[39m):\n\u001b[0;32m    869\u001b[0m     \u001b[38;5;66;03m# Check whether the filename is to be opened in binary mode.\u001b[39;00m\n\u001b[0;32m    870\u001b[0m     \u001b[38;5;66;03m# Binary mode does not support 'encoding' and 'newline'.\u001b[39;00m\n\u001b[0;32m    871\u001b[0m     \u001b[38;5;28;01mif\u001b[39;00m ioargs\u001b[38;5;241m.\u001b[39mencoding \u001b[38;5;129;01mand\u001b[39;00m \u001b[38;5;124m\"\u001b[39m\u001b[38;5;124mb\u001b[39m\u001b[38;5;124m\"\u001b[39m \u001b[38;5;129;01mnot\u001b[39;00m \u001b[38;5;129;01min\u001b[39;00m ioargs\u001b[38;5;241m.\u001b[39mmode:\n\u001b[0;32m    872\u001b[0m         \u001b[38;5;66;03m# Encoding\u001b[39;00m\n\u001b[1;32m--> 873\u001b[0m         handle \u001b[38;5;241m=\u001b[39m \u001b[38;5;28;43mopen\u001b[39;49m\u001b[43m(\u001b[49m\n\u001b[0;32m    874\u001b[0m \u001b[43m            \u001b[49m\u001b[43mhandle\u001b[49m\u001b[43m,\u001b[49m\n\u001b[0;32m    875\u001b[0m \u001b[43m            \u001b[49m\u001b[43mioargs\u001b[49m\u001b[38;5;241;43m.\u001b[39;49m\u001b[43mmode\u001b[49m\u001b[43m,\u001b[49m\n\u001b[0;32m    876\u001b[0m \u001b[43m            \u001b[49m\u001b[43mencoding\u001b[49m\u001b[38;5;241;43m=\u001b[39;49m\u001b[43mioargs\u001b[49m\u001b[38;5;241;43m.\u001b[39;49m\u001b[43mencoding\u001b[49m\u001b[43m,\u001b[49m\n\u001b[0;32m    877\u001b[0m \u001b[43m            \u001b[49m\u001b[43merrors\u001b[49m\u001b[38;5;241;43m=\u001b[39;49m\u001b[43merrors\u001b[49m\u001b[43m,\u001b[49m\n\u001b[0;32m    878\u001b[0m \u001b[43m            \u001b[49m\u001b[43mnewline\u001b[49m\u001b[38;5;241;43m=\u001b[39;49m\u001b[38;5;124;43m\"\u001b[39;49m\u001b[38;5;124;43m\"\u001b[39;49m\u001b[43m,\u001b[49m\n\u001b[0;32m    879\u001b[0m \u001b[43m        \u001b[49m\u001b[43m)\u001b[49m\n\u001b[0;32m    880\u001b[0m     \u001b[38;5;28;01melse\u001b[39;00m:\n\u001b[0;32m    881\u001b[0m         \u001b[38;5;66;03m# Binary mode\u001b[39;00m\n\u001b[0;32m    882\u001b[0m         handle \u001b[38;5;241m=\u001b[39m \u001b[38;5;28mopen\u001b[39m(handle, ioargs\u001b[38;5;241m.\u001b[39mmode)\n",
      "\u001b[1;31mFileNotFoundError\u001b[0m: [Errno 2] No such file or directory: '/datasets/Churn.csv'"
     ]
    }
   ],
   "source": [
    "## creating the dataframe\n",
    "df = pd.read_csv('/datasets/Churn.csv')"
   ]
  },
  {
   "cell_type": "code",
   "execution_count": null,
   "metadata": {
    "trusted": true
   },
   "outputs": [],
   "source": [
    "# looking into dataframe\n",
    "df.head()"
   ]
  },
  {
   "cell_type": "code",
   "execution_count": null,
   "metadata": {
    "trusted": true
   },
   "outputs": [],
   "source": [
    "# converting all the column into lower cases\n",
    "df.columns = df.columns.str.lower()"
   ]
  },
  {
   "cell_type": "code",
   "execution_count": null,
   "metadata": {
    "trusted": true
   },
   "outputs": [],
   "source": [
    "df.head()"
   ]
  },
  {
   "cell_type": "code",
   "execution_count": null,
   "metadata": {
    "trusted": true
   },
   "outputs": [],
   "source": [
    "# Looking all the datatypes\n",
    "df.info()"
   ]
  },
  {
   "cell_type": "code",
   "execution_count": null,
   "metadata": {
    "trusted": true
   },
   "outputs": [],
   "source": [
    "df.shape"
   ]
  },
  {
   "cell_type": "code",
   "execution_count": null,
   "metadata": {
    "trusted": true
   },
   "outputs": [],
   "source": [
    "# Looking into missing data\n",
    "df.isnull().sum()"
   ]
  },
  {
   "cell_type": "code",
   "execution_count": null,
   "metadata": {
    "trusted": true
   },
   "outputs": [],
   "source": [
    "## dropped missing data because of tenure column\n",
    "df = df.dropna()\n"
   ]
  },
  {
   "cell_type": "code",
   "execution_count": null,
   "metadata": {
    "trusted": true
   },
   "outputs": [],
   "source": [
    "df.info()"
   ]
  },
  {
   "cell_type": "code",
   "execution_count": null,
   "metadata": {
    "trusted": true
   },
   "outputs": [],
   "source": [
    "df.exited.value_counts().plot.pie(autopct ='%.2f')"
   ]
  },
  {
   "cell_type": "markdown",
   "metadata": {},
   "source": [
    "## From the above pie chart 1 denoted customers who left the bank and 0 denotes cuistomer who are still with the bank. We can see in the pie chart that  20 % of the customer who has left the bank."
   ]
  },
  {
   "cell_type": "code",
   "execution_count": null,
   "metadata": {
    "trusted": true
   },
   "outputs": [],
   "source": [
    "df.describe()"
   ]
  },
  {
   "cell_type": "code",
   "execution_count": null,
   "metadata": {
    "trusted": true
   },
   "outputs": [],
   "source": [
    "## Looking at duplicate data\n",
    "df.duplicated()"
   ]
  },
  {
   "cell_type": "code",
   "execution_count": null,
   "metadata": {
    "trusted": true
   },
   "outputs": [],
   "source": [
    "df.drop(['surname', 'rownumber','customerid'],axis=1, inplace=True)"
   ]
  },
  {
   "cell_type": "markdown",
   "metadata": {},
   "source": [
    "#### Removed the surname, row number, and customer ID columns as they do not seem to contribute value to the model training process."
   ]
  },
  {
   "cell_type": "code",
   "execution_count": null,
   "metadata": {
    "trusted": true
   },
   "outputs": [],
   "source": [
    "df.corr()['exited']"
   ]
  },
  {
   "cell_type": "markdown",
   "metadata": {},
   "source": [
    "### Customer's leaving the bank was positively correlated to the age. As age increased customer exited the bank according to this data."
   ]
  },
  {
   "cell_type": "code",
   "execution_count": null,
   "metadata": {
    "trusted": true
   },
   "outputs": [],
   "source": [
    "df_ohe = pd.get_dummies(df, drop_first=True)\n",
    "geo_dict  = {'Spain':0, 'France':1, 'Germany':2}\n",
    "df['geography'] = df['geography'].map(geo_dict)\n",
    "gen_dict = {'Male':0, 'Female':1}\n",
    "df['gender'] = df['gender'].map(gen_dict)\n",
    "\n",
    "target = df['geography']\n",
    "features = df.drop(['geography'],axis=1)\n",
    "\n",
    "target = df['gender']\n",
    "features = df.drop(['gender'],axis=1)"
   ]
  },
  {
   "cell_type": "markdown",
   "metadata": {},
   "source": [
    "#### Creating dummy variables for the categorical data gender and georaphy so that it can be easier for machine learning model analysis."
   ]
  },
  {
   "cell_type": "code",
   "execution_count": null,
   "metadata": {
    "trusted": true
   },
   "outputs": [],
   "source": [
    "## assigning variables to features and target\n",
    "features = df.drop(['exited'],axis=1)\n",
    "target = df['exited']"
   ]
  },
  {
   "cell_type": "markdown",
   "metadata": {},
   "source": [
    "## Splitting the data into train set = 80%, test set = 10% and validation set= 10%"
   ]
  },
  {
   "cell_type": "code",
   "execution_count": null,
   "metadata": {
    "trusted": true
   },
   "outputs": [],
   "source": [
    "features_train, features_test, target_train, target_test= train_test_split(features, target, test_size=0.2, random_state=42)\n",
    "features_valid, features_test, target_valid, target_test = train_test_split(features_test, target_test, test_size =0.5, random_state=42)"
   ]
  },
  {
   "cell_type": "code",
   "execution_count": null,
   "metadata": {
    "trusted": true
   },
   "outputs": [],
   "source": [
    "features_train.shape"
   ]
  },
  {
   "cell_type": "code",
   "execution_count": null,
   "metadata": {
    "trusted": true
   },
   "outputs": [],
   "source": [
    "target_train.shape"
   ]
  },
  {
   "cell_type": "code",
   "execution_count": null,
   "metadata": {
    "trusted": true
   },
   "outputs": [],
   "source": [
    "features_test.shape"
   ]
  },
  {
   "cell_type": "code",
   "execution_count": null,
   "metadata": {
    "trusted": true
   },
   "outputs": [],
   "source": [
    "target_test.shape"
   ]
  },
  {
   "cell_type": "code",
   "execution_count": null,
   "metadata": {
    "trusted": true
   },
   "outputs": [],
   "source": [
    "features_valid.shape"
   ]
  },
  {
   "cell_type": "code",
   "execution_count": null,
   "metadata": {
    "trusted": true
   },
   "outputs": [],
   "source": [
    "target_valid.shape"
   ]
  },
  {
   "cell_type": "code",
   "execution_count": null,
   "metadata": {
    "trusted": true
   },
   "outputs": [],
   "source": [
    "numeric = ['estimatedsalary','creditscore', 'age','tenure', 'balance', 'numofproducts', 'hascrcard', 'isactivemember']\n",
    "scaler = StandardScaler()\n",
    "scaler.fit(features_train[numeric])\n",
    "features_test[numeric] = scaler.transform(features_test[numeric])\n",
    "features_valid[numeric] = scaler.transform(features_valid[numeric])"
   ]
  },
  {
   "cell_type": "markdown",
   "metadata": {},
   "source": [
    "#### Standarizing all the features so all hold equal importance irespective of its values. We will fit it on training data set  then transform on testing data set and validation data set."
   ]
  },
  {
   "cell_type": "code",
   "execution_count": null,
   "metadata": {
    "trusted": true
   },
   "outputs": [],
   "source": [
    "model = DecisionTreeClassifier(random_state=12345)\n",
    "model.fit(features_train, target_train)\n",
    "model.score(features_valid, target_valid)"
   ]
  },
  {
   "cell_type": "code",
   "execution_count": null,
   "metadata": {
    "trusted": true
   },
   "outputs": [],
   "source": [
    "for depth in range (1, 10):\n",
    "    model = DecisionTreeClassifier(random_state=12345, max_depth=depth)\n",
    "    model.fit(features_train, target_train)\n",
    "    predictions_valid = model.predict(features_valid)\n",
    "    print('max_depth=', depth, ':', end=' ')\n",
    "    print(accuracy_score(target_valid, predictions_valid))"
   ]
  },
  {
   "cell_type": "code",
   "execution_count": null,
   "metadata": {
    "trusted": true
   },
   "outputs": [],
   "source": [
    "## create model via RandomForestClassifier \n",
    "model = RandomForestClassifier(random_state =12345)\n",
    "model.fit(features_train, target_train)\n",
    "y_pred = model.predict(features_valid)\n",
    "model.score(features_valid, target_valid)"
   ]
  },
  {
   "cell_type": "code",
   "execution_count": null,
   "metadata": {
    "trusted": true
   },
   "outputs": [],
   "source": [
    "best_score = 0\n",
    "best_est = 0\n",
    "for est in range(1, 20): #choosing hyper parameter\n",
    "    model = RandomForestClassifier(random_state=54321, n_estimators= est) # set number of trees\n",
    "    model.fit(features_train, target_train) # train model on training set\n",
    "    score = model.score(features_valid, target_valid) # calculate accuracy score on validation set\n",
    "    if score > best_score:\n",
    "        best_score = score # save best accuracy score on validation set\n",
    "        best_est = est # save number of estimators corresponding to best accuracy score\n",
    "\n",
    "print(\"Accuracy of the best model on the validation set (n_estimators = {}): {}\".format(best_est, best_score))"
   ]
  },
  {
   "cell_type": "code",
   "execution_count": null,
   "metadata": {
    "trusted": true
   },
   "outputs": [],
   "source": [
    "## create model via LogisticRegression\n",
    "model = LogisticRegression(random_state = 12345, solver='liblinear')\n",
    "model.fit(features, target)\n",
    "predicted_valid = model.predict(features_valid)\n",
    "model.score(features_valid, target_valid)\n",
    "print(accuracy_score(target_valid, predicted_valid))"
   ]
  },
  {
   "cell_type": "code",
   "execution_count": null,
   "metadata": {
    "trusted": true
   },
   "outputs": [],
   "source": [
    "## apply the best model on test set with RandomForestClassifier\n",
    "final_model = RandomForestClassifier(random_state=54321, n_estimators= 2) \n",
    "final_model.fit(features_train, target_train)\n",
    "final_model.score(features_test, target_test)"
   ]
  },
  {
   "cell_type": "markdown",
   "metadata": {},
   "source": [
    "### Models were initially developed using the training and validation datasets. The best performing model was then selected using the test dataset. Ultimately, the final model was built utilizing the Random Forest Classifier.\""
   ]
  },
  {
   "cell_type": "code",
   "execution_count": null,
   "metadata": {
    "trusted": true
   },
   "outputs": [],
   "source": [
    "##  making observations of a frequent class less frequent in the data\n",
    "def downsample(features, target, fraction):\n",
    "    features_zeros = features[target == 0]\n",
    "    features_ones = features[target == 1]\n",
    "    target_zeros = target[target == 0]\n",
    "    target_ones = target[target == 1]\n",
    "\n",
    "    features_downsampled = pd.concat(\n",
    "        [features_zeros.sample(frac=fraction, random_state=12345)]\n",
    "        + [features_ones]\n",
    "    )\n",
    "    target_downsampled = pd.concat(\n",
    "        [target_zeros.sample(frac=fraction, random_state=12345)]\n",
    "        + [target_ones]\n",
    "    )\n",
    "    return features_downsampled, target_downsampled\n",
    "\n",
    "\n",
    "features_downsampled, target_downsampled = downsample(\n",
    "    features_train, target_train, 0.1\n",
    ")\n"
   ]
  },
  {
   "cell_type": "markdown",
   "metadata": {},
   "source": [
    "### Downsampling is performed to reduce the frequency of observations of a predominant class in the dataset. This helps balance the dataset, ensuring that the machine learning model remains accurate and reliable."
   ]
  },
  {
   "cell_type": "code",
   "execution_count": null,
   "metadata": {
    "trusted": true
   },
   "outputs": [],
   "source": [
    "# Calculation of F1 score by RandomForestClassifier\n",
    "final_model = RandomForestClassifier(random_state=54321, n_estimators= 1, class_weight ='balanced') \n",
    "final_model.fit(features_downsampled, target_downsampled)\n",
    "y_pred = final_model.predict(features_test)\n",
    "print('F1:', f1_score(target_test, y_pred))\n"
   ]
  },
  {
   "cell_type": "code",
   "execution_count": null,
   "metadata": {
    "trusted": true
   },
   "outputs": [],
   "source": [
    "# Calculation of F1 score by LogisticRegression\n",
    "model = LogisticRegression(random_state = 12345, solver='liblinear', class_weight ='balanced')\n",
    "model.fit(features_downsampled, target_downsampled)\n",
    "y_pred = model.predict(features_test)\n",
    "print('F1:', f1_score(target_test, y_pred))\n"
   ]
  },
  {
   "cell_type": "code",
   "execution_count": null,
   "metadata": {
    "trusted": true
   },
   "outputs": [],
   "source": [
    "# Calculation of F1 score by DecisionTreeClassifier\n",
    "model = DecisionTreeClassifier(random_state=12345, class_weight ='balanced')\n",
    "model.fit(features_downsampled, target_downsampled)\n",
    "y_pred = model.predict(features_test)    \n",
    "print('F1:', f1_score(target_test, y_pred))"
   ]
  },
  {
   "cell_type": "markdown",
   "metadata": {},
   "source": [
    "### Logistic Regression model gave me highest f1 score of 0.40 when I did the calculations on test data."
   ]
  },
  {
   "cell_type": "code",
   "execution_count": null,
   "metadata": {
    "trusted": true
   },
   "outputs": [],
   "source": [
    "# Calculation of AUC-ROC score\n",
    "model = LogisticRegression(random_state = 12345, solver='liblinear')\n",
    "model.fit(features_downsampled, target_downsampled)\n",
    "probabilities_valid = model.predict_proba(features_valid)\n",
    "probabilities_one_valid = probabilities_valid[:, 1]\n",
    "\n",
    "auc_roc = roc_auc_score(target_valid, probabilities_one_valid)\n",
    "\n",
    "print(auc_roc)"
   ]
  },
  {
   "cell_type": "markdown",
   "metadata": {},
   "source": [
    "##  Auc_Roc score of 0.71 which is pretty good as it is closer to 1."
   ]
  },
  {
   "cell_type": "markdown",
   "metadata": {},
   "source": [
    "## Conclusion\n",
    "#### \n",
    "The goal of this project is to develop a machine learning model for Beta Bank to analyze customer loyalty. The model's objective is to identify customers who might be considering switching to a different financial institution. By identifying these customers, Beta Bank can explore the underlying reasons for potential customer churn and develop strategic plans to address these issues, ultimately improving customer retention.\n",
    "\n",
    "To achieve this, we created binary variables for the categorical data of gender and geography. Our data shows that 20% of the bank's customers have already left.\n",
    "\n",
    "We removed the surname, row number, and customer ID columns as they didn't seem to add value to the model's training process. Then, we standardized all the features to ensure they hold equal importance regardless of their values. This standardization was done on the training dataset and applied to both the testing and validation datasets.\n",
    "\n",
    "Models were initially developed using the training and validation datasets. The best performing model was then selected using the test dataset. Ultimately, the final model was built utilizing the Random Forest Classifier.\"\n",
    "Downsampling is performed to reduce the frequency of observations of a predominant class in the dataset. This helps balance the dataset, ensuring that the machine learning model remains accurate and reliable.\n",
    "\n",
    "The Logistic Regression model provided the highest F1 score of 0.40 based on calculations performed on the test data. Additionally, the model achieved an AUC-ROC score of 0.71, which is quite good, as it is close to 1.\n",
    "\n"
   ]
  }
 ],
 "metadata": {
  "ExecuteTimeLog": [
   {
    "duration": 519,
    "start_time": "2024-11-28T19:42:55.247Z"
   },
   {
    "duration": 12,
    "start_time": "2024-11-28T19:43:10.773Z"
   },
   {
    "duration": 491,
    "start_time": "2024-11-28T19:43:43.038Z"
   },
   {
    "duration": 5,
    "start_time": "2024-11-28T19:45:45.046Z"
   },
   {
    "duration": 2218,
    "start_time": "2024-11-28T19:46:07.331Z"
   },
   {
    "duration": 208,
    "start_time": "2024-11-28T19:46:40.276Z"
   },
   {
    "duration": 13,
    "start_time": "2024-11-28T19:46:55.293Z"
   },
   {
    "duration": 3,
    "start_time": "2024-11-28T19:47:07.033Z"
   },
   {
    "duration": 320,
    "start_time": "2024-11-28T19:48:43.881Z"
   },
   {
    "duration": 25,
    "start_time": "2024-11-28T19:48:58.385Z"
   },
   {
    "duration": 13,
    "start_time": "2024-11-28T19:50:50.887Z"
   },
   {
    "duration": 3,
    "start_time": "2024-11-28T19:51:56.298Z"
   },
   {
    "duration": 10,
    "start_time": "2024-11-28T19:52:06.669Z"
   },
   {
    "duration": 11,
    "start_time": "2024-11-28T19:53:19.173Z"
   },
   {
    "duration": 801,
    "start_time": "2024-11-28T19:59:37.860Z"
   },
   {
    "duration": 17,
    "start_time": "2024-11-28T19:59:38.663Z"
   },
   {
    "duration": 12,
    "start_time": "2024-11-28T19:59:38.682Z"
   },
   {
    "duration": 3,
    "start_time": "2024-11-28T19:59:38.696Z"
   },
   {
    "duration": 27,
    "start_time": "2024-11-28T19:59:38.701Z"
   },
   {
    "duration": 11,
    "start_time": "2024-11-28T19:59:38.729Z"
   },
   {
    "duration": 14,
    "start_time": "2024-11-28T20:08:31.038Z"
   },
   {
    "duration": 206,
    "start_time": "2024-11-28T20:08:54.624Z"
   },
   {
    "duration": 7,
    "start_time": "2024-11-28T20:09:06.732Z"
   },
   {
    "duration": 13,
    "start_time": "2024-11-28T20:10:48.265Z"
   },
   {
    "duration": 25,
    "start_time": "2024-11-28T20:11:09.997Z"
   },
   {
    "duration": 9,
    "start_time": "2024-11-28T20:11:34.662Z"
   },
   {
    "duration": 19,
    "start_time": "2024-11-28T20:11:58.128Z"
   },
   {
    "duration": 29,
    "start_time": "2024-11-28T20:12:18.145Z"
   },
   {
    "duration": 6,
    "start_time": "2024-11-28T20:13:18.422Z"
   },
   {
    "duration": 7,
    "start_time": "2024-11-28T20:13:32.474Z"
   },
   {
    "duration": 6,
    "start_time": "2024-11-28T20:13:49.257Z"
   },
   {
    "duration": 10,
    "start_time": "2024-11-28T20:15:01.166Z"
   },
   {
    "duration": 5,
    "start_time": "2024-11-28T20:15:53.177Z"
   },
   {
    "duration": 9,
    "start_time": "2024-11-28T20:15:58.338Z"
   },
   {
    "duration": 701,
    "start_time": "2024-11-28T20:16:10.101Z"
   },
   {
    "duration": 19,
    "start_time": "2024-11-28T20:16:10.805Z"
   },
   {
    "duration": 13,
    "start_time": "2024-11-28T20:16:10.825Z"
   },
   {
    "duration": 2,
    "start_time": "2024-11-28T20:16:10.840Z"
   },
   {
    "duration": 14,
    "start_time": "2024-11-28T20:16:10.844Z"
   },
   {
    "duration": 10,
    "start_time": "2024-11-28T20:16:10.859Z"
   },
   {
    "duration": 6,
    "start_time": "2024-11-28T20:16:10.870Z"
   },
   {
    "duration": 5,
    "start_time": "2024-11-28T20:16:10.878Z"
   },
   {
    "duration": 44,
    "start_time": "2024-11-28T20:16:10.884Z"
   },
   {
    "duration": 17,
    "start_time": "2024-11-28T20:16:58.810Z"
   },
   {
    "duration": 8,
    "start_time": "2024-11-28T20:17:04.924Z"
   },
   {
    "duration": 10,
    "start_time": "2024-11-28T20:18:21.436Z"
   },
   {
    "duration": 9,
    "start_time": "2024-11-28T20:18:30.073Z"
   },
   {
    "duration": 25,
    "start_time": "2024-11-28T20:18:57.897Z"
   },
   {
    "duration": 9,
    "start_time": "2024-11-28T20:19:08.589Z"
   },
   {
    "duration": 4,
    "start_time": "2024-11-28T20:21:21.164Z"
   },
   {
    "duration": 10,
    "start_time": "2024-11-28T20:21:24.561Z"
   },
   {
    "duration": 3,
    "start_time": "2024-11-28T20:23:33.701Z"
   },
   {
    "duration": 9,
    "start_time": "2024-11-28T20:23:35.493Z"
   },
   {
    "duration": 759,
    "start_time": "2024-11-28T20:24:17.594Z"
   },
   {
    "duration": 15,
    "start_time": "2024-11-28T20:24:18.356Z"
   },
   {
    "duration": 12,
    "start_time": "2024-11-28T20:24:18.372Z"
   },
   {
    "duration": 3,
    "start_time": "2024-11-28T20:24:18.387Z"
   },
   {
    "duration": 14,
    "start_time": "2024-11-28T20:24:18.391Z"
   },
   {
    "duration": 11,
    "start_time": "2024-11-28T20:24:18.424Z"
   },
   {
    "duration": 6,
    "start_time": "2024-11-28T20:24:18.436Z"
   },
   {
    "duration": 3,
    "start_time": "2024-11-28T20:24:18.445Z"
   },
   {
    "duration": 10,
    "start_time": "2024-11-28T20:24:18.449Z"
   },
   {
    "duration": 211,
    "start_time": "2024-11-28T20:26:16.633Z"
   },
   {
    "duration": 10,
    "start_time": "2024-11-28T20:26:26.665Z"
   },
   {
    "duration": 179,
    "start_time": "2024-11-28T22:11:58.767Z"
   },
   {
    "duration": 2423,
    "start_time": "2024-11-28T22:12:06.639Z"
   },
   {
    "duration": 63,
    "start_time": "2024-11-28T22:12:09.065Z"
   },
   {
    "duration": 13,
    "start_time": "2024-11-28T22:12:09.130Z"
   },
   {
    "duration": 2,
    "start_time": "2024-11-28T22:12:09.146Z"
   },
   {
    "duration": 22,
    "start_time": "2024-11-28T22:12:09.150Z"
   },
   {
    "duration": 9,
    "start_time": "2024-11-28T22:12:09.174Z"
   },
   {
    "duration": 6,
    "start_time": "2024-11-28T22:12:09.185Z"
   },
   {
    "duration": 3,
    "start_time": "2024-11-28T22:12:09.192Z"
   },
   {
    "duration": 9,
    "start_time": "2024-11-28T22:12:09.196Z"
   },
   {
    "duration": 9,
    "start_time": "2024-11-28T22:12:09.207Z"
   },
   {
    "duration": 10,
    "start_time": "2024-11-28T22:12:09.217Z"
   },
   {
    "duration": 17,
    "start_time": "2024-11-28T22:12:19.230Z"
   },
   {
    "duration": 15,
    "start_time": "2024-11-28T22:13:06.423Z"
   },
   {
    "duration": 9,
    "start_time": "2024-11-28T22:13:39.513Z"
   },
   {
    "duration": 122,
    "start_time": "2024-11-28T22:19:29.729Z"
   },
   {
    "duration": 3,
    "start_time": "2024-11-28T22:19:50.150Z"
   },
   {
    "duration": 316,
    "start_time": "2024-11-28T22:19:58.484Z"
   },
   {
    "duration": 11,
    "start_time": "2024-11-28T22:21:37.320Z"
   },
   {
    "duration": 109,
    "start_time": "2024-11-28T22:22:16.641Z"
   },
   {
    "duration": 4,
    "start_time": "2024-11-28T22:22:27.845Z"
   },
   {
    "duration": 218,
    "start_time": "2024-11-28T22:22:33.459Z"
   },
   {
    "duration": 46,
    "start_time": "2024-11-28T22:22:50.853Z"
   },
   {
    "duration": 14,
    "start_time": "2024-11-28T22:23:18.630Z"
   },
   {
    "duration": 18,
    "start_time": "2024-11-28T22:23:36.244Z"
   },
   {
    "duration": 14,
    "start_time": "2024-11-28T22:23:56.354Z"
   },
   {
    "duration": 14,
    "start_time": "2024-11-28T22:24:09.368Z"
   },
   {
    "duration": 13,
    "start_time": "2024-11-28T22:25:40.139Z"
   },
   {
    "duration": 17,
    "start_time": "2024-11-28T22:25:51.613Z"
   },
   {
    "duration": 154,
    "start_time": "2024-11-29T04:36:11.348Z"
   },
   {
    "duration": 2658,
    "start_time": "2024-11-29T04:40:17.962Z"
   },
   {
    "duration": 14,
    "start_time": "2024-11-29T04:42:51.652Z"
   },
   {
    "duration": 14,
    "start_time": "2024-11-29T04:43:54.541Z"
   },
   {
    "duration": 13,
    "start_time": "2024-11-29T04:45:14.370Z"
   },
   {
    "duration": 5,
    "start_time": "2024-11-29T04:45:25.619Z"
   },
   {
    "duration": 3,
    "start_time": "2024-11-29T04:45:55.114Z"
   },
   {
    "duration": 4,
    "start_time": "2024-11-29T04:46:01.613Z"
   },
   {
    "duration": 4,
    "start_time": "2024-11-29T04:46:18.746Z"
   },
   {
    "duration": 4,
    "start_time": "2024-11-29T04:46:40.192Z"
   },
   {
    "duration": 3,
    "start_time": "2024-11-29T04:46:58.429Z"
   },
   {
    "duration": 14,
    "start_time": "2024-11-29T04:49:16.943Z"
   },
   {
    "duration": 17,
    "start_time": "2024-11-29T04:53:56.159Z"
   },
   {
    "duration": 13,
    "start_time": "2024-11-29T04:54:39.774Z"
   },
   {
    "duration": 1165,
    "start_time": "2024-11-29T04:54:51.773Z"
   },
   {
    "duration": 0,
    "start_time": "2024-11-29T04:54:52.941Z"
   },
   {
    "duration": 0,
    "start_time": "2024-11-29T04:54:52.942Z"
   },
   {
    "duration": 0,
    "start_time": "2024-11-29T04:54:52.942Z"
   },
   {
    "duration": 0,
    "start_time": "2024-11-29T04:54:52.944Z"
   },
   {
    "duration": 0,
    "start_time": "2024-11-29T04:54:52.945Z"
   },
   {
    "duration": 0,
    "start_time": "2024-11-29T04:54:52.946Z"
   },
   {
    "duration": 0,
    "start_time": "2024-11-29T04:54:52.947Z"
   },
   {
    "duration": 0,
    "start_time": "2024-11-29T04:54:52.948Z"
   },
   {
    "duration": 0,
    "start_time": "2024-11-29T04:54:52.949Z"
   },
   {
    "duration": 0,
    "start_time": "2024-11-29T04:54:52.950Z"
   },
   {
    "duration": 0,
    "start_time": "2024-11-29T04:54:52.951Z"
   },
   {
    "duration": 0,
    "start_time": "2024-11-29T04:54:52.952Z"
   },
   {
    "duration": 0,
    "start_time": "2024-11-29T04:54:52.952Z"
   },
   {
    "duration": 0,
    "start_time": "2024-11-29T04:54:52.953Z"
   },
   {
    "duration": 45,
    "start_time": "2024-11-29T04:58:51.252Z"
   },
   {
    "duration": 27,
    "start_time": "2024-11-29T05:00:04.170Z"
   },
   {
    "duration": 3,
    "start_time": "2024-11-29T05:00:48.006Z"
   },
   {
    "duration": 1008,
    "start_time": "2024-11-29T05:00:55.772Z"
   },
   {
    "duration": 26,
    "start_time": "2024-11-29T05:00:56.783Z"
   },
   {
    "duration": 13,
    "start_time": "2024-11-29T05:00:56.812Z"
   },
   {
    "duration": 2,
    "start_time": "2024-11-29T05:00:56.827Z"
   },
   {
    "duration": 14,
    "start_time": "2024-11-29T05:00:56.833Z"
   },
   {
    "duration": 83,
    "start_time": "2024-11-29T05:00:56.850Z"
   },
   {
    "duration": 11,
    "start_time": "2024-11-29T05:00:56.935Z"
   },
   {
    "duration": 6,
    "start_time": "2024-11-29T05:00:56.948Z"
   },
   {
    "duration": 14,
    "start_time": "2024-11-29T05:00:56.955Z"
   },
   {
    "duration": 27,
    "start_time": "2024-11-29T05:00:56.971Z"
   },
   {
    "duration": 24,
    "start_time": "2024-11-29T05:00:57.000Z"
   },
   {
    "duration": 11,
    "start_time": "2024-11-29T05:00:57.026Z"
   },
   {
    "duration": 35,
    "start_time": "2024-11-29T05:00:57.039Z"
   },
   {
    "duration": 3,
    "start_time": "2024-11-29T05:00:57.086Z"
   },
   {
    "duration": 7,
    "start_time": "2024-11-29T05:00:57.092Z"
   },
   {
    "duration": 246,
    "start_time": "2024-11-29T05:02:31.586Z"
   },
   {
    "duration": 1017,
    "start_time": "2024-11-29T05:02:43.803Z"
   },
   {
    "duration": 16,
    "start_time": "2024-11-29T05:02:44.823Z"
   },
   {
    "duration": 13,
    "start_time": "2024-11-29T05:02:44.841Z"
   },
   {
    "duration": 10,
    "start_time": "2024-11-29T05:02:44.856Z"
   },
   {
    "duration": 26,
    "start_time": "2024-11-29T05:02:44.870Z"
   },
   {
    "duration": 68,
    "start_time": "2024-11-29T05:02:44.898Z"
   },
   {
    "duration": 24,
    "start_time": "2024-11-29T05:02:44.969Z"
   },
   {
    "duration": 4,
    "start_time": "2024-11-29T05:02:44.995Z"
   },
   {
    "duration": 9,
    "start_time": "2024-11-29T05:02:45.001Z"
   },
   {
    "duration": 10,
    "start_time": "2024-11-29T05:02:45.012Z"
   },
   {
    "duration": 30,
    "start_time": "2024-11-29T05:02:45.023Z"
   },
   {
    "duration": 33,
    "start_time": "2024-11-29T05:02:45.055Z"
   },
   {
    "duration": 16,
    "start_time": "2024-11-29T05:02:45.091Z"
   },
   {
    "duration": 4,
    "start_time": "2024-11-29T05:02:45.110Z"
   },
   {
    "duration": 9,
    "start_time": "2024-11-29T05:02:45.116Z"
   },
   {
    "duration": 262,
    "start_time": "2024-11-29T05:02:45.126Z"
   },
   {
    "duration": 4,
    "start_time": "2024-11-29T05:03:15.113Z"
   },
   {
    "duration": 3,
    "start_time": "2024-11-29T05:03:25.959Z"
   },
   {
    "duration": 4,
    "start_time": "2024-11-29T05:03:36.698Z"
   },
   {
    "duration": 3,
    "start_time": "2024-11-29T05:03:48.204Z"
   },
   {
    "duration": 4,
    "start_time": "2024-11-29T05:04:22.735Z"
   },
   {
    "duration": 4,
    "start_time": "2024-11-29T05:04:32.022Z"
   },
   {
    "duration": 37,
    "start_time": "2024-11-29T05:06:39.698Z"
   },
   {
    "duration": 26,
    "start_time": "2024-11-29T05:11:55.328Z"
   },
   {
    "duration": 28,
    "start_time": "2024-11-29T05:12:35.634Z"
   },
   {
    "duration": 26,
    "start_time": "2024-11-29T05:13:34.160Z"
   },
   {
    "duration": 28,
    "start_time": "2024-11-29T05:16:45.363Z"
   },
   {
    "duration": 883,
    "start_time": "2024-11-29T05:19:18.080Z"
   },
   {
    "duration": 15,
    "start_time": "2024-11-29T05:19:18.965Z"
   },
   {
    "duration": 12,
    "start_time": "2024-11-29T05:19:18.986Z"
   },
   {
    "duration": 2,
    "start_time": "2024-11-29T05:19:19.001Z"
   },
   {
    "duration": 15,
    "start_time": "2024-11-29T05:19:19.005Z"
   },
   {
    "duration": 90,
    "start_time": "2024-11-29T05:19:19.022Z"
   },
   {
    "duration": 6,
    "start_time": "2024-11-29T05:19:19.114Z"
   },
   {
    "duration": 3,
    "start_time": "2024-11-29T05:19:19.122Z"
   },
   {
    "duration": 9,
    "start_time": "2024-11-29T05:19:19.127Z"
   },
   {
    "duration": 9,
    "start_time": "2024-11-29T05:19:19.139Z"
   },
   {
    "duration": 53,
    "start_time": "2024-11-29T05:19:19.150Z"
   },
   {
    "duration": 8,
    "start_time": "2024-11-29T05:19:19.205Z"
   },
   {
    "duration": 15,
    "start_time": "2024-11-29T05:19:19.215Z"
   },
   {
    "duration": 3,
    "start_time": "2024-11-29T05:19:19.232Z"
   },
   {
    "duration": 6,
    "start_time": "2024-11-29T05:19:19.237Z"
   },
   {
    "duration": 3,
    "start_time": "2024-11-29T05:19:19.244Z"
   },
   {
    "duration": 3,
    "start_time": "2024-11-29T05:19:19.249Z"
   },
   {
    "duration": 4,
    "start_time": "2024-11-29T05:19:19.286Z"
   },
   {
    "duration": 3,
    "start_time": "2024-11-29T05:19:19.291Z"
   },
   {
    "duration": 4,
    "start_time": "2024-11-29T05:19:19.296Z"
   },
   {
    "duration": 4,
    "start_time": "2024-11-29T05:19:19.301Z"
   },
   {
    "duration": 177,
    "start_time": "2024-11-29T05:19:19.307Z"
   },
   {
    "duration": 0,
    "start_time": "2024-11-29T05:19:19.487Z"
   },
   {
    "duration": 28,
    "start_time": "2024-11-29T05:21:04.278Z"
   },
   {
    "duration": 2693,
    "start_time": "2024-11-29T14:45:55.154Z"
   },
   {
    "duration": 913,
    "start_time": "2024-11-29T14:46:05.974Z"
   },
   {
    "duration": 25,
    "start_time": "2024-11-29T14:46:06.889Z"
   },
   {
    "duration": 13,
    "start_time": "2024-11-29T14:46:06.915Z"
   },
   {
    "duration": 3,
    "start_time": "2024-11-29T14:46:06.931Z"
   },
   {
    "duration": 15,
    "start_time": "2024-11-29T14:46:06.938Z"
   },
   {
    "duration": 83,
    "start_time": "2024-11-29T14:46:06.954Z"
   },
   {
    "duration": 6,
    "start_time": "2024-11-29T14:46:07.039Z"
   },
   {
    "duration": 3,
    "start_time": "2024-11-29T14:46:07.047Z"
   },
   {
    "duration": 9,
    "start_time": "2024-11-29T14:46:07.052Z"
   },
   {
    "duration": 9,
    "start_time": "2024-11-29T14:46:07.063Z"
   },
   {
    "duration": 49,
    "start_time": "2024-11-29T14:46:07.073Z"
   },
   {
    "duration": 9,
    "start_time": "2024-11-29T14:46:07.125Z"
   },
   {
    "duration": 17,
    "start_time": "2024-11-29T14:46:07.137Z"
   },
   {
    "duration": 4,
    "start_time": "2024-11-29T14:46:07.157Z"
   },
   {
    "duration": 8,
    "start_time": "2024-11-29T14:46:07.162Z"
   },
   {
    "duration": 4,
    "start_time": "2024-11-29T14:46:07.171Z"
   },
   {
    "duration": 34,
    "start_time": "2024-11-29T14:46:07.176Z"
   },
   {
    "duration": 4,
    "start_time": "2024-11-29T14:46:07.212Z"
   },
   {
    "duration": 5,
    "start_time": "2024-11-29T14:46:07.218Z"
   },
   {
    "duration": 4,
    "start_time": "2024-11-29T14:46:07.225Z"
   },
   {
    "duration": 4,
    "start_time": "2024-11-29T14:46:07.231Z"
   },
   {
    "duration": 198,
    "start_time": "2024-11-29T14:46:07.236Z"
   },
   {
    "duration": 0,
    "start_time": "2024-11-29T14:46:07.436Z"
   },
   {
    "duration": 28,
    "start_time": "2024-11-29T14:46:54.771Z"
   },
   {
    "duration": 32,
    "start_time": "2024-11-29T14:48:01.355Z"
   },
   {
    "duration": 28,
    "start_time": "2024-11-29T14:48:07.573Z"
   },
   {
    "duration": 943,
    "start_time": "2024-11-29T14:48:17.346Z"
   },
   {
    "duration": 16,
    "start_time": "2024-11-29T14:48:18.292Z"
   },
   {
    "duration": 13,
    "start_time": "2024-11-29T14:48:18.310Z"
   },
   {
    "duration": 4,
    "start_time": "2024-11-29T14:48:18.325Z"
   },
   {
    "duration": 15,
    "start_time": "2024-11-29T14:48:18.333Z"
   },
   {
    "duration": 96,
    "start_time": "2024-11-29T14:48:18.349Z"
   },
   {
    "duration": 7,
    "start_time": "2024-11-29T14:48:18.447Z"
   },
   {
    "duration": 24,
    "start_time": "2024-11-29T14:48:18.456Z"
   },
   {
    "duration": 11,
    "start_time": "2024-11-29T14:48:18.481Z"
   },
   {
    "duration": 11,
    "start_time": "2024-11-29T14:48:18.494Z"
   },
   {
    "duration": 22,
    "start_time": "2024-11-29T14:48:18.507Z"
   },
   {
    "duration": 9,
    "start_time": "2024-11-29T14:48:18.531Z"
   },
   {
    "duration": 16,
    "start_time": "2024-11-29T14:48:18.542Z"
   },
   {
    "duration": 3,
    "start_time": "2024-11-29T14:48:18.562Z"
   },
   {
    "duration": 42,
    "start_time": "2024-11-29T14:48:18.567Z"
   },
   {
    "duration": 4,
    "start_time": "2024-11-29T14:48:18.611Z"
   },
   {
    "duration": 4,
    "start_time": "2024-11-29T14:48:18.617Z"
   },
   {
    "duration": 4,
    "start_time": "2024-11-29T14:48:18.623Z"
   },
   {
    "duration": 4,
    "start_time": "2024-11-29T14:48:18.628Z"
   },
   {
    "duration": 4,
    "start_time": "2024-11-29T14:48:18.633Z"
   },
   {
    "duration": 3,
    "start_time": "2024-11-29T14:48:18.638Z"
   },
   {
    "duration": 192,
    "start_time": "2024-11-29T14:48:18.643Z"
   },
   {
    "duration": 0,
    "start_time": "2024-11-29T14:48:18.837Z"
   },
   {
    "duration": 26,
    "start_time": "2024-11-29T14:50:12.972Z"
   },
   {
    "duration": 109,
    "start_time": "2024-11-29T14:50:45.758Z"
   },
   {
    "duration": 3,
    "start_time": "2024-11-29T14:50:51.462Z"
   },
   {
    "duration": 960,
    "start_time": "2024-11-29T14:52:41.329Z"
   },
   {
    "duration": 25,
    "start_time": "2024-11-29T14:52:42.291Z"
   },
   {
    "duration": 13,
    "start_time": "2024-11-29T14:52:42.317Z"
   },
   {
    "duration": 2,
    "start_time": "2024-11-29T14:52:42.333Z"
   },
   {
    "duration": 14,
    "start_time": "2024-11-29T14:52:42.338Z"
   },
   {
    "duration": 98,
    "start_time": "2024-11-29T14:52:42.354Z"
   },
   {
    "duration": 7,
    "start_time": "2024-11-29T14:52:42.454Z"
   },
   {
    "duration": 3,
    "start_time": "2024-11-29T14:52:42.462Z"
   },
   {
    "duration": 9,
    "start_time": "2024-11-29T14:52:42.467Z"
   },
   {
    "duration": 30,
    "start_time": "2024-11-29T14:52:42.480Z"
   },
   {
    "duration": 21,
    "start_time": "2024-11-29T14:52:42.513Z"
   },
   {
    "duration": 9,
    "start_time": "2024-11-29T14:52:42.536Z"
   },
   {
    "duration": 16,
    "start_time": "2024-11-29T14:52:42.547Z"
   },
   {
    "duration": 4,
    "start_time": "2024-11-29T14:52:42.564Z"
   },
   {
    "duration": 36,
    "start_time": "2024-11-29T14:52:42.569Z"
   },
   {
    "duration": 4,
    "start_time": "2024-11-29T14:52:42.607Z"
   },
   {
    "duration": 3,
    "start_time": "2024-11-29T14:52:42.613Z"
   },
   {
    "duration": 3,
    "start_time": "2024-11-29T14:52:42.619Z"
   },
   {
    "duration": 3,
    "start_time": "2024-11-29T14:52:42.624Z"
   },
   {
    "duration": 4,
    "start_time": "2024-11-29T14:52:42.629Z"
   },
   {
    "duration": 4,
    "start_time": "2024-11-29T14:52:42.634Z"
   },
   {
    "duration": 207,
    "start_time": "2024-11-29T14:52:42.639Z"
   },
   {
    "duration": 0,
    "start_time": "2024-11-29T14:52:42.847Z"
   },
   {
    "duration": 29,
    "start_time": "2024-11-29T14:53:21.603Z"
   },
   {
    "duration": 26,
    "start_time": "2024-11-29T14:55:47.698Z"
   },
   {
    "duration": 5,
    "start_time": "2024-11-29T15:03:56.549Z"
   },
   {
    "duration": 37,
    "start_time": "2024-11-29T15:04:12.195Z"
   },
   {
    "duration": 2568,
    "start_time": "2024-11-29T20:26:20.910Z"
   },
   {
    "duration": 26,
    "start_time": "2024-11-29T20:26:23.481Z"
   },
   {
    "duration": 11,
    "start_time": "2024-11-29T20:26:23.508Z"
   },
   {
    "duration": 3,
    "start_time": "2024-11-29T20:26:23.521Z"
   },
   {
    "duration": 14,
    "start_time": "2024-11-29T20:26:23.527Z"
   },
   {
    "duration": 10,
    "start_time": "2024-11-29T20:26:23.543Z"
   },
   {
    "duration": 6,
    "start_time": "2024-11-29T20:26:23.554Z"
   },
   {
    "duration": 3,
    "start_time": "2024-11-29T20:26:23.562Z"
   },
   {
    "duration": 43,
    "start_time": "2024-11-29T20:26:23.566Z"
   },
   {
    "duration": 8,
    "start_time": "2024-11-29T20:26:23.611Z"
   },
   {
    "duration": 20,
    "start_time": "2024-11-29T20:26:23.621Z"
   },
   {
    "duration": 10,
    "start_time": "2024-11-29T20:26:23.643Z"
   },
   {
    "duration": 17,
    "start_time": "2024-11-29T20:26:23.655Z"
   },
   {
    "duration": 3,
    "start_time": "2024-11-29T20:26:23.675Z"
   },
   {
    "duration": 7,
    "start_time": "2024-11-29T20:26:23.709Z"
   },
   {
    "duration": 3,
    "start_time": "2024-11-29T20:26:23.718Z"
   },
   {
    "duration": 4,
    "start_time": "2024-11-29T20:26:23.723Z"
   },
   {
    "duration": 4,
    "start_time": "2024-11-29T20:26:23.728Z"
   },
   {
    "duration": 3,
    "start_time": "2024-11-29T20:26:23.734Z"
   },
   {
    "duration": 3,
    "start_time": "2024-11-29T20:26:23.739Z"
   },
   {
    "duration": 3,
    "start_time": "2024-11-29T20:26:23.744Z"
   },
   {
    "duration": 194,
    "start_time": "2024-11-29T20:26:23.748Z"
   },
   {
    "duration": 0,
    "start_time": "2024-11-29T20:26:23.943Z"
   },
   {
    "duration": 0,
    "start_time": "2024-11-29T20:26:23.944Z"
   },
   {
    "duration": 29,
    "start_time": "2024-11-29T20:29:13.336Z"
   },
   {
    "duration": 28,
    "start_time": "2024-11-29T20:30:08.271Z"
   },
   {
    "duration": 27,
    "start_time": "2024-11-29T20:30:20.811Z"
   },
   {
    "duration": 31,
    "start_time": "2024-11-29T20:37:08.338Z"
   },
   {
    "duration": 29,
    "start_time": "2024-11-29T20:37:46.541Z"
   },
   {
    "duration": 28,
    "start_time": "2024-11-29T20:38:33.410Z"
   },
   {
    "duration": 173,
    "start_time": "2024-11-29T20:42:10.740Z"
   },
   {
    "duration": 29,
    "start_time": "2024-11-29T20:42:52.005Z"
   },
   {
    "duration": 15,
    "start_time": "2024-11-29T20:53:30.262Z"
   },
   {
    "duration": 29,
    "start_time": "2024-11-29T20:53:53.011Z"
   },
   {
    "duration": 889,
    "start_time": "2024-11-29T21:12:41.096Z"
   },
   {
    "duration": 16,
    "start_time": "2024-11-29T21:12:41.987Z"
   },
   {
    "duration": 14,
    "start_time": "2024-11-29T21:12:42.008Z"
   },
   {
    "duration": 3,
    "start_time": "2024-11-29T21:12:42.024Z"
   },
   {
    "duration": 15,
    "start_time": "2024-11-29T21:12:42.029Z"
   },
   {
    "duration": 80,
    "start_time": "2024-11-29T21:12:42.046Z"
   },
   {
    "duration": 6,
    "start_time": "2024-11-29T21:12:42.128Z"
   },
   {
    "duration": 4,
    "start_time": "2024-11-29T21:12:42.135Z"
   },
   {
    "duration": 9,
    "start_time": "2024-11-29T21:12:42.140Z"
   },
   {
    "duration": 8,
    "start_time": "2024-11-29T21:12:42.152Z"
   },
   {
    "duration": 48,
    "start_time": "2024-11-29T21:12:42.161Z"
   },
   {
    "duration": 10,
    "start_time": "2024-11-29T21:12:42.210Z"
   },
   {
    "duration": 16,
    "start_time": "2024-11-29T21:12:42.221Z"
   },
   {
    "duration": 4,
    "start_time": "2024-11-29T21:12:42.238Z"
   },
   {
    "duration": 7,
    "start_time": "2024-11-29T21:12:42.244Z"
   },
   {
    "duration": 4,
    "start_time": "2024-11-29T21:12:42.252Z"
   },
   {
    "duration": 4,
    "start_time": "2024-11-29T21:12:42.257Z"
   },
   {
    "duration": 4,
    "start_time": "2024-11-29T21:12:42.262Z"
   },
   {
    "duration": 43,
    "start_time": "2024-11-29T21:12:42.267Z"
   },
   {
    "duration": 4,
    "start_time": "2024-11-29T21:12:42.312Z"
   },
   {
    "duration": 4,
    "start_time": "2024-11-29T21:12:42.317Z"
   },
   {
    "duration": 258,
    "start_time": "2024-11-29T21:12:42.322Z"
   },
   {
    "duration": 0,
    "start_time": "2024-11-29T21:12:42.582Z"
   },
   {
    "duration": 0,
    "start_time": "2024-11-29T21:12:42.583Z"
   },
   {
    "duration": 0,
    "start_time": "2024-11-29T21:12:42.585Z"
   },
   {
    "duration": 0,
    "start_time": "2024-11-29T21:12:42.586Z"
   },
   {
    "duration": 0,
    "start_time": "2024-11-29T21:12:42.588Z"
   },
   {
    "duration": 935,
    "start_time": "2024-11-29T21:13:57.155Z"
   },
   {
    "duration": 17,
    "start_time": "2024-11-29T21:13:58.092Z"
   },
   {
    "duration": 14,
    "start_time": "2024-11-29T21:13:58.110Z"
   },
   {
    "duration": 2,
    "start_time": "2024-11-29T21:13:58.125Z"
   },
   {
    "duration": 13,
    "start_time": "2024-11-29T21:13:58.131Z"
   },
   {
    "duration": 75,
    "start_time": "2024-11-29T21:13:58.146Z"
   },
   {
    "duration": 7,
    "start_time": "2024-11-29T21:13:58.222Z"
   },
   {
    "duration": 3,
    "start_time": "2024-11-29T21:13:58.230Z"
   },
   {
    "duration": 9,
    "start_time": "2024-11-29T21:13:58.235Z"
   },
   {
    "duration": 9,
    "start_time": "2024-11-29T21:13:58.245Z"
   },
   {
    "duration": 56,
    "start_time": "2024-11-29T21:13:58.255Z"
   },
   {
    "duration": 9,
    "start_time": "2024-11-29T21:13:58.312Z"
   },
   {
    "duration": 17,
    "start_time": "2024-11-29T21:13:58.322Z"
   },
   {
    "duration": 3,
    "start_time": "2024-11-29T21:13:58.342Z"
   },
   {
    "duration": 7,
    "start_time": "2024-11-29T21:13:58.347Z"
   },
   {
    "duration": 4,
    "start_time": "2024-11-29T21:13:58.356Z"
   },
   {
    "duration": 4,
    "start_time": "2024-11-29T21:13:58.361Z"
   },
   {
    "duration": 4,
    "start_time": "2024-11-29T21:13:58.367Z"
   },
   {
    "duration": 5,
    "start_time": "2024-11-29T21:13:58.408Z"
   },
   {
    "duration": 4,
    "start_time": "2024-11-29T21:13:58.415Z"
   },
   {
    "duration": 3,
    "start_time": "2024-11-29T21:13:58.421Z"
   },
   {
    "duration": 17,
    "start_time": "2024-11-29T21:13:58.426Z"
   },
   {
    "duration": 246,
    "start_time": "2024-11-29T21:13:58.444Z"
   },
   {
    "duration": 0,
    "start_time": "2024-11-29T21:13:58.692Z"
   },
   {
    "duration": 0,
    "start_time": "2024-11-29T21:13:58.694Z"
   },
   {
    "duration": 0,
    "start_time": "2024-11-29T21:13:58.695Z"
   },
   {
    "duration": 0,
    "start_time": "2024-11-29T21:13:58.709Z"
   },
   {
    "duration": 39,
    "start_time": "2024-11-29T21:14:35.948Z"
   },
   {
    "duration": 32,
    "start_time": "2024-11-29T21:15:31.228Z"
   },
   {
    "duration": 14,
    "start_time": "2024-11-29T21:29:23.594Z"
   },
   {
    "duration": 27,
    "start_time": "2024-11-29T21:30:02.221Z"
   },
   {
    "duration": 7,
    "start_time": "2024-11-29T21:39:47.313Z"
   },
   {
    "duration": 20,
    "start_time": "2024-11-29T21:39:58.804Z"
   },
   {
    "duration": 15,
    "start_time": "2024-11-29T21:40:00.776Z"
   },
   {
    "duration": 20,
    "start_time": "2024-11-29T21:40:02.953Z"
   },
   {
    "duration": 16,
    "start_time": "2024-11-29T21:40:03.692Z"
   },
   {
    "duration": 29,
    "start_time": "2024-11-29T21:40:04.544Z"
   },
   {
    "duration": 16,
    "start_time": "2024-11-29T21:40:05.133Z"
   },
   {
    "duration": 34,
    "start_time": "2024-11-29T21:40:05.359Z"
   },
   {
    "duration": 3,
    "start_time": "2024-11-29T21:40:05.600Z"
   },
   {
    "duration": 31,
    "start_time": "2024-11-29T21:40:37.607Z"
   },
   {
    "duration": 34,
    "start_time": "2024-11-29T21:43:27.394Z"
   },
   {
    "duration": 28,
    "start_time": "2024-11-29T21:44:41.008Z"
   },
   {
    "duration": 884,
    "start_time": "2024-11-29T21:53:54.905Z"
   },
   {
    "duration": 18,
    "start_time": "2024-11-29T21:53:55.792Z"
   },
   {
    "duration": 13,
    "start_time": "2024-11-29T21:53:55.811Z"
   },
   {
    "duration": 2,
    "start_time": "2024-11-29T21:53:55.826Z"
   },
   {
    "duration": 14,
    "start_time": "2024-11-29T21:53:55.832Z"
   },
   {
    "duration": 78,
    "start_time": "2024-11-29T21:53:55.848Z"
   },
   {
    "duration": 7,
    "start_time": "2024-11-29T21:53:55.928Z"
   },
   {
    "duration": 3,
    "start_time": "2024-11-29T21:53:55.936Z"
   },
   {
    "duration": 9,
    "start_time": "2024-11-29T21:53:55.940Z"
   },
   {
    "duration": 8,
    "start_time": "2024-11-29T21:53:55.951Z"
   },
   {
    "duration": 49,
    "start_time": "2024-11-29T21:53:55.961Z"
   },
   {
    "duration": 11,
    "start_time": "2024-11-29T21:53:56.012Z"
   },
   {
    "duration": 17,
    "start_time": "2024-11-29T21:53:56.024Z"
   },
   {
    "duration": 3,
    "start_time": "2024-11-29T21:53:56.045Z"
   },
   {
    "duration": 6,
    "start_time": "2024-11-29T21:53:56.050Z"
   },
   {
    "duration": 3,
    "start_time": "2024-11-29T21:53:56.058Z"
   },
   {
    "duration": 4,
    "start_time": "2024-11-29T21:53:56.063Z"
   },
   {
    "duration": 4,
    "start_time": "2024-11-29T21:53:56.068Z"
   },
   {
    "duration": 3,
    "start_time": "2024-11-29T21:53:56.109Z"
   },
   {
    "duration": 3,
    "start_time": "2024-11-29T21:53:56.114Z"
   },
   {
    "duration": 4,
    "start_time": "2024-11-29T21:53:56.119Z"
   },
   {
    "duration": 5,
    "start_time": "2024-11-29T21:53:56.124Z"
   },
   {
    "duration": 17,
    "start_time": "2024-11-29T21:53:56.131Z"
   },
   {
    "duration": 180,
    "start_time": "2024-11-29T21:53:56.150Z"
   },
   {
    "duration": 0,
    "start_time": "2024-11-29T21:53:56.332Z"
   },
   {
    "duration": 0,
    "start_time": "2024-11-29T21:53:56.333Z"
   },
   {
    "duration": 0,
    "start_time": "2024-11-29T21:53:56.335Z"
   },
   {
    "duration": 0,
    "start_time": "2024-11-29T21:53:56.336Z"
   },
   {
    "duration": 30,
    "start_time": "2024-11-29T21:58:19.379Z"
   },
   {
    "duration": 29,
    "start_time": "2024-11-29T21:58:30.599Z"
   },
   {
    "duration": 27,
    "start_time": "2024-11-29T22:02:36.675Z"
   },
   {
    "duration": 31,
    "start_time": "2024-11-29T22:02:39.964Z"
   },
   {
    "duration": 28,
    "start_time": "2024-11-29T22:03:10.895Z"
   },
   {
    "duration": 28,
    "start_time": "2024-11-29T22:03:21.881Z"
   },
   {
    "duration": 6,
    "start_time": "2024-11-29T22:03:36.792Z"
   },
   {
    "duration": 29,
    "start_time": "2024-11-29T22:03:48.140Z"
   },
   {
    "duration": 30,
    "start_time": "2024-11-29T22:11:21.585Z"
   },
   {
    "duration": 16,
    "start_time": "2024-11-29T22:23:24.522Z"
   },
   {
    "duration": 27,
    "start_time": "2024-11-29T22:23:32.288Z"
   },
   {
    "duration": 105,
    "start_time": "2024-11-29T22:32:12.312Z"
   },
   {
    "duration": 322,
    "start_time": "2024-11-29T22:33:28.805Z"
   },
   {
    "duration": 36,
    "start_time": "2024-11-29T22:33:56.567Z"
   },
   {
    "duration": 15,
    "start_time": "2024-11-29T22:34:52.637Z"
   },
   {
    "duration": 123,
    "start_time": "2024-11-29T22:35:01.277Z"
   },
   {
    "duration": 158,
    "start_time": "2024-11-30T15:44:22.692Z"
   },
   {
    "duration": 2570,
    "start_time": "2024-11-30T15:44:28.664Z"
   },
   {
    "duration": 26,
    "start_time": "2024-11-30T15:44:31.236Z"
   },
   {
    "duration": 15,
    "start_time": "2024-11-30T15:44:31.263Z"
   },
   {
    "duration": 3,
    "start_time": "2024-11-30T15:44:31.280Z"
   },
   {
    "duration": 14,
    "start_time": "2024-11-30T15:44:31.287Z"
   },
   {
    "duration": 9,
    "start_time": "2024-11-30T15:44:31.309Z"
   },
   {
    "duration": 5,
    "start_time": "2024-11-30T15:44:31.320Z"
   },
   {
    "duration": 3,
    "start_time": "2024-11-30T15:44:31.327Z"
   },
   {
    "duration": 9,
    "start_time": "2024-11-30T15:44:31.332Z"
   },
   {
    "duration": 10,
    "start_time": "2024-11-30T15:44:31.342Z"
   },
   {
    "duration": 57,
    "start_time": "2024-11-30T15:44:31.353Z"
   },
   {
    "duration": 10,
    "start_time": "2024-11-30T15:44:31.412Z"
   },
   {
    "duration": 15,
    "start_time": "2024-11-30T15:44:31.424Z"
   },
   {
    "duration": 3,
    "start_time": "2024-11-30T15:44:31.443Z"
   },
   {
    "duration": 7,
    "start_time": "2024-11-30T15:44:31.447Z"
   },
   {
    "duration": 3,
    "start_time": "2024-11-30T15:44:31.456Z"
   },
   {
    "duration": 3,
    "start_time": "2024-11-30T15:44:31.461Z"
   },
   {
    "duration": 3,
    "start_time": "2024-11-30T15:44:31.466Z"
   },
   {
    "duration": 4,
    "start_time": "2024-11-30T15:44:31.509Z"
   },
   {
    "duration": 3,
    "start_time": "2024-11-30T15:44:31.514Z"
   },
   {
    "duration": 3,
    "start_time": "2024-11-30T15:44:31.519Z"
   },
   {
    "duration": 3,
    "start_time": "2024-11-30T15:44:31.524Z"
   },
   {
    "duration": 3,
    "start_time": "2024-11-30T15:44:31.528Z"
   },
   {
    "duration": 181,
    "start_time": "2024-11-30T15:44:31.533Z"
   },
   {
    "duration": 0,
    "start_time": "2024-11-30T15:44:31.716Z"
   },
   {
    "duration": 0,
    "start_time": "2024-11-30T15:44:31.718Z"
   },
   {
    "duration": 0,
    "start_time": "2024-11-30T15:44:31.719Z"
   },
   {
    "duration": 0,
    "start_time": "2024-11-30T15:44:31.720Z"
   },
   {
    "duration": 0,
    "start_time": "2024-11-30T15:44:31.721Z"
   },
   {
    "duration": 0,
    "start_time": "2024-11-30T15:44:31.722Z"
   },
   {
    "duration": 3,
    "start_time": "2024-11-30T15:45:04.495Z"
   },
   {
    "duration": 28,
    "start_time": "2024-11-30T15:45:07.032Z"
   },
   {
    "duration": 30,
    "start_time": "2024-11-30T15:45:11.597Z"
   },
   {
    "duration": 104,
    "start_time": "2024-11-30T15:57:31.243Z"
   },
   {
    "duration": 886,
    "start_time": "2024-11-30T15:57:41.285Z"
   },
   {
    "duration": 17,
    "start_time": "2024-11-30T15:57:42.173Z"
   },
   {
    "duration": 21,
    "start_time": "2024-11-30T15:57:42.191Z"
   },
   {
    "duration": 3,
    "start_time": "2024-11-30T15:57:42.213Z"
   },
   {
    "duration": 13,
    "start_time": "2024-11-30T15:57:42.219Z"
   },
   {
    "duration": 57,
    "start_time": "2024-11-30T15:57:42.234Z"
   },
   {
    "duration": 6,
    "start_time": "2024-11-30T15:57:42.309Z"
   },
   {
    "duration": 3,
    "start_time": "2024-11-30T15:57:42.316Z"
   },
   {
    "duration": 10,
    "start_time": "2024-11-30T15:57:42.321Z"
   },
   {
    "duration": 9,
    "start_time": "2024-11-30T15:57:42.332Z"
   },
   {
    "duration": 20,
    "start_time": "2024-11-30T15:57:42.342Z"
   },
   {
    "duration": 9,
    "start_time": "2024-11-30T15:57:42.364Z"
   },
   {
    "duration": 17,
    "start_time": "2024-11-30T15:57:42.409Z"
   },
   {
    "duration": 26,
    "start_time": "2024-11-30T15:57:42.430Z"
   },
   {
    "duration": 2,
    "start_time": "2024-11-30T15:57:42.458Z"
   },
   {
    "duration": 7,
    "start_time": "2024-11-30T15:57:42.462Z"
   },
   {
    "duration": 3,
    "start_time": "2024-11-30T15:57:42.470Z"
   },
   {
    "duration": 34,
    "start_time": "2024-11-30T15:57:42.475Z"
   },
   {
    "duration": 3,
    "start_time": "2024-11-30T15:57:42.511Z"
   },
   {
    "duration": 3,
    "start_time": "2024-11-30T15:57:42.516Z"
   },
   {
    "duration": 3,
    "start_time": "2024-11-30T15:57:42.521Z"
   },
   {
    "duration": 3,
    "start_time": "2024-11-30T15:57:42.526Z"
   },
   {
    "duration": 3,
    "start_time": "2024-11-30T15:57:42.530Z"
   },
   {
    "duration": 2,
    "start_time": "2024-11-30T15:57:42.535Z"
   },
   {
    "duration": 185,
    "start_time": "2024-11-30T15:57:42.538Z"
   },
   {
    "duration": 0,
    "start_time": "2024-11-30T15:57:42.725Z"
   },
   {
    "duration": 0,
    "start_time": "2024-11-30T15:57:42.726Z"
   },
   {
    "duration": 0,
    "start_time": "2024-11-30T15:57:42.727Z"
   },
   {
    "duration": 0,
    "start_time": "2024-11-30T15:57:42.729Z"
   },
   {
    "duration": 0,
    "start_time": "2024-11-30T15:57:42.730Z"
   },
   {
    "duration": 0,
    "start_time": "2024-11-30T15:57:42.731Z"
   },
   {
    "duration": 162,
    "start_time": "2024-11-30T16:31:22.218Z"
   },
   {
    "duration": 2706,
    "start_time": "2024-11-30T16:31:33.876Z"
   },
   {
    "duration": 27,
    "start_time": "2024-11-30T16:31:36.584Z"
   },
   {
    "duration": 13,
    "start_time": "2024-11-30T16:31:36.613Z"
   },
   {
    "duration": 3,
    "start_time": "2024-11-30T16:31:36.628Z"
   },
   {
    "duration": 19,
    "start_time": "2024-11-30T16:31:36.633Z"
   },
   {
    "duration": 10,
    "start_time": "2024-11-30T16:31:36.654Z"
   },
   {
    "duration": 7,
    "start_time": "2024-11-30T16:31:36.666Z"
   },
   {
    "duration": 4,
    "start_time": "2024-11-30T16:31:36.674Z"
   },
   {
    "duration": 10,
    "start_time": "2024-11-30T16:31:36.679Z"
   },
   {
    "duration": 11,
    "start_time": "2024-11-30T16:31:36.693Z"
   },
   {
    "duration": 57,
    "start_time": "2024-11-30T16:31:36.706Z"
   },
   {
    "duration": 9,
    "start_time": "2024-11-30T16:31:36.764Z"
   },
   {
    "duration": 16,
    "start_time": "2024-11-30T16:31:36.774Z"
   },
   {
    "duration": 26,
    "start_time": "2024-11-30T16:31:36.792Z"
   },
   {
    "duration": 24,
    "start_time": "2024-11-30T16:31:36.820Z"
   },
   {
    "duration": 7,
    "start_time": "2024-11-30T16:31:36.846Z"
   },
   {
    "duration": 4,
    "start_time": "2024-11-30T16:31:36.855Z"
   },
   {
    "duration": 5,
    "start_time": "2024-11-30T16:31:36.860Z"
   },
   {
    "duration": 4,
    "start_time": "2024-11-30T16:31:36.866Z"
   },
   {
    "duration": 4,
    "start_time": "2024-11-30T16:31:36.873Z"
   },
   {
    "duration": 3,
    "start_time": "2024-11-30T16:31:36.878Z"
   },
   {
    "duration": 4,
    "start_time": "2024-11-30T16:31:36.883Z"
   },
   {
    "duration": 4,
    "start_time": "2024-11-30T16:31:36.888Z"
   },
   {
    "duration": 50,
    "start_time": "2024-11-30T16:31:36.893Z"
   },
   {
    "duration": 166,
    "start_time": "2024-11-30T16:31:36.944Z"
   },
   {
    "duration": 0,
    "start_time": "2024-11-30T16:31:37.112Z"
   },
   {
    "duration": 0,
    "start_time": "2024-11-30T16:31:37.113Z"
   },
   {
    "duration": 1,
    "start_time": "2024-11-30T16:31:37.114Z"
   },
   {
    "duration": 0,
    "start_time": "2024-11-30T16:31:37.116Z"
   },
   {
    "duration": 0,
    "start_time": "2024-11-30T16:31:37.118Z"
   },
   {
    "duration": 0,
    "start_time": "2024-11-30T16:31:37.119Z"
   },
   {
    "duration": 28,
    "start_time": "2024-11-30T16:31:50.579Z"
   },
   {
    "duration": 4,
    "start_time": "2024-11-30T16:31:52.147Z"
   },
   {
    "duration": 7,
    "start_time": "2024-11-30T16:31:53.783Z"
   },
   {
    "duration": 3,
    "start_time": "2024-11-30T16:31:55.122Z"
   },
   {
    "duration": 3,
    "start_time": "2024-11-30T16:32:03.307Z"
   },
   {
    "duration": 3,
    "start_time": "2024-11-30T16:32:04.156Z"
   },
   {
    "duration": 4,
    "start_time": "2024-11-30T16:32:05.080Z"
   },
   {
    "duration": 3,
    "start_time": "2024-11-30T16:32:05.888Z"
   },
   {
    "duration": 4,
    "start_time": "2024-11-30T16:32:06.814Z"
   },
   {
    "duration": 3,
    "start_time": "2024-11-30T16:32:09.280Z"
   },
   {
    "duration": 28,
    "start_time": "2024-11-30T16:32:12.392Z"
   },
   {
    "duration": 33,
    "start_time": "2024-11-30T16:32:19.083Z"
   },
   {
    "duration": 5,
    "start_time": "2024-11-30T16:33:19.954Z"
   },
   {
    "duration": 28,
    "start_time": "2024-11-30T16:33:25.485Z"
   },
   {
    "duration": 28,
    "start_time": "2024-11-30T16:33:47.120Z"
   },
   {
    "duration": 159,
    "start_time": "2024-11-30T19:45:51.607Z"
   },
   {
    "duration": 2634,
    "start_time": "2024-11-30T19:45:57.947Z"
   },
   {
    "duration": 24,
    "start_time": "2024-11-30T19:46:00.583Z"
   },
   {
    "duration": 13,
    "start_time": "2024-11-30T19:46:00.611Z"
   },
   {
    "duration": 4,
    "start_time": "2024-11-30T19:46:00.625Z"
   },
   {
    "duration": 24,
    "start_time": "2024-11-30T19:46:00.631Z"
   },
   {
    "duration": 11,
    "start_time": "2024-11-30T19:46:00.656Z"
   },
   {
    "duration": 6,
    "start_time": "2024-11-30T19:46:00.669Z"
   },
   {
    "duration": 3,
    "start_time": "2024-11-30T19:46:00.676Z"
   },
   {
    "duration": 8,
    "start_time": "2024-11-30T19:46:00.683Z"
   },
   {
    "duration": 9,
    "start_time": "2024-11-30T19:46:00.693Z"
   },
   {
    "duration": 63,
    "start_time": "2024-11-30T19:46:00.703Z"
   },
   {
    "duration": 9,
    "start_time": "2024-11-30T19:46:00.768Z"
   },
   {
    "duration": 16,
    "start_time": "2024-11-30T19:46:00.779Z"
   },
   {
    "duration": 47,
    "start_time": "2024-11-30T19:46:00.796Z"
   },
   {
    "duration": 3,
    "start_time": "2024-11-30T19:46:00.845Z"
   },
   {
    "duration": 8,
    "start_time": "2024-11-30T19:46:00.850Z"
   },
   {
    "duration": 4,
    "start_time": "2024-11-30T19:46:00.860Z"
   },
   {
    "duration": 4,
    "start_time": "2024-11-30T19:46:00.866Z"
   },
   {
    "duration": 4,
    "start_time": "2024-11-30T19:46:00.872Z"
   },
   {
    "duration": 4,
    "start_time": "2024-11-30T19:46:00.877Z"
   },
   {
    "duration": 4,
    "start_time": "2024-11-30T19:46:00.883Z"
   },
   {
    "duration": 4,
    "start_time": "2024-11-30T19:46:00.889Z"
   },
   {
    "duration": 2,
    "start_time": "2024-11-30T19:46:00.895Z"
   },
   {
    "duration": 164,
    "start_time": "2024-11-30T19:46:00.943Z"
   },
   {
    "duration": 0,
    "start_time": "2024-11-30T19:46:01.109Z"
   },
   {
    "duration": 0,
    "start_time": "2024-11-30T19:46:01.111Z"
   },
   {
    "duration": 0,
    "start_time": "2024-11-30T19:46:01.112Z"
   },
   {
    "duration": 0,
    "start_time": "2024-11-30T19:46:01.113Z"
   },
   {
    "duration": 0,
    "start_time": "2024-11-30T19:46:01.114Z"
   },
   {
    "duration": 0,
    "start_time": "2024-11-30T19:46:01.116Z"
   },
   {
    "duration": 29,
    "start_time": "2024-11-30T19:46:08.623Z"
   },
   {
    "duration": 182,
    "start_time": "2024-11-30T19:46:12.895Z"
   },
   {
    "duration": 28,
    "start_time": "2024-11-30T19:46:17.104Z"
   },
   {
    "duration": 28,
    "start_time": "2024-11-30T19:46:21.907Z"
   },
   {
    "duration": 13,
    "start_time": "2024-11-30T19:46:27.694Z"
   },
   {
    "duration": 14,
    "start_time": "2024-11-30T19:46:50.337Z"
   },
   {
    "duration": 887,
    "start_time": "2024-11-30T19:51:38.084Z"
   },
   {
    "duration": 15,
    "start_time": "2024-11-30T19:51:38.973Z"
   },
   {
    "duration": 12,
    "start_time": "2024-11-30T19:51:38.989Z"
   },
   {
    "duration": 3,
    "start_time": "2024-11-30T19:51:39.003Z"
   },
   {
    "duration": 35,
    "start_time": "2024-11-30T19:51:39.007Z"
   },
   {
    "duration": 53,
    "start_time": "2024-11-30T19:51:39.044Z"
   },
   {
    "duration": 6,
    "start_time": "2024-11-30T19:51:39.099Z"
   },
   {
    "duration": 3,
    "start_time": "2024-11-30T19:51:39.107Z"
   },
   {
    "duration": 31,
    "start_time": "2024-11-30T19:51:39.111Z"
   },
   {
    "duration": 10,
    "start_time": "2024-11-30T19:51:39.145Z"
   },
   {
    "duration": 21,
    "start_time": "2024-11-30T19:51:39.156Z"
   },
   {
    "duration": 9,
    "start_time": "2024-11-30T19:51:39.179Z"
   },
   {
    "duration": 15,
    "start_time": "2024-11-30T19:51:39.190Z"
   },
   {
    "duration": 55,
    "start_time": "2024-11-30T19:51:39.206Z"
   },
   {
    "duration": 4,
    "start_time": "2024-11-30T19:51:39.263Z"
   },
   {
    "duration": 7,
    "start_time": "2024-11-30T19:51:39.268Z"
   },
   {
    "duration": 3,
    "start_time": "2024-11-30T19:51:39.276Z"
   },
   {
    "duration": 3,
    "start_time": "2024-11-30T19:51:39.281Z"
   },
   {
    "duration": 3,
    "start_time": "2024-11-30T19:51:39.287Z"
   },
   {
    "duration": 3,
    "start_time": "2024-11-30T19:51:39.292Z"
   },
   {
    "duration": 4,
    "start_time": "2024-11-30T19:51:39.297Z"
   },
   {
    "duration": 4,
    "start_time": "2024-11-30T19:51:39.343Z"
   },
   {
    "duration": 2,
    "start_time": "2024-11-30T19:51:39.349Z"
   },
   {
    "duration": 172,
    "start_time": "2024-11-30T19:51:39.353Z"
   },
   {
    "duration": 0,
    "start_time": "2024-11-30T19:51:39.527Z"
   },
   {
    "duration": 0,
    "start_time": "2024-11-30T19:51:39.528Z"
   },
   {
    "duration": 0,
    "start_time": "2024-11-30T19:51:39.530Z"
   },
   {
    "duration": 0,
    "start_time": "2024-11-30T19:51:39.531Z"
   },
   {
    "duration": 0,
    "start_time": "2024-11-30T19:51:39.532Z"
   },
   {
    "duration": 0,
    "start_time": "2024-11-30T19:51:39.533Z"
   },
   {
    "duration": 28,
    "start_time": "2024-11-30T19:56:19.620Z"
   },
   {
    "duration": 28,
    "start_time": "2024-11-30T19:58:08.443Z"
   },
   {
    "duration": 28,
    "start_time": "2024-11-30T19:58:42.872Z"
   },
   {
    "duration": 3,
    "start_time": "2024-11-30T20:17:53.496Z"
   },
   {
    "duration": 498,
    "start_time": "2024-11-30T20:20:25.694Z"
   },
   {
    "duration": 16,
    "start_time": "2024-11-30T20:20:49.394Z"
   },
   {
    "duration": 13,
    "start_time": "2024-11-30T20:21:08.210Z"
   },
   {
    "duration": 4,
    "start_time": "2024-11-30T20:23:08.499Z"
   },
   {
    "duration": 16,
    "start_time": "2024-11-30T20:23:23.400Z"
   },
   {
    "duration": 372,
    "start_time": "2024-11-30T20:23:46.000Z"
   },
   {
    "duration": 35,
    "start_time": "2024-11-30T20:23:56.165Z"
   },
   {
    "duration": 38,
    "start_time": "2024-11-30T20:24:17.200Z"
   },
   {
    "duration": 902,
    "start_time": "2024-11-30T20:24:25.837Z"
   },
   {
    "duration": 16,
    "start_time": "2024-11-30T20:24:26.742Z"
   },
   {
    "duration": 12,
    "start_time": "2024-11-30T20:24:26.760Z"
   },
   {
    "duration": 2,
    "start_time": "2024-11-30T20:24:26.774Z"
   },
   {
    "duration": 14,
    "start_time": "2024-11-30T20:24:26.778Z"
   },
   {
    "duration": 74,
    "start_time": "2024-11-30T20:24:26.794Z"
   },
   {
    "duration": 6,
    "start_time": "2024-11-30T20:24:26.870Z"
   },
   {
    "duration": 3,
    "start_time": "2024-11-30T20:24:26.877Z"
   },
   {
    "duration": 9,
    "start_time": "2024-11-30T20:24:26.881Z"
   },
   {
    "duration": 8,
    "start_time": "2024-11-30T20:24:26.893Z"
   },
   {
    "duration": 48,
    "start_time": "2024-11-30T20:24:26.903Z"
   },
   {
    "duration": 10,
    "start_time": "2024-11-30T20:24:26.952Z"
   },
   {
    "duration": 16,
    "start_time": "2024-11-30T20:24:26.963Z"
   },
   {
    "duration": 3,
    "start_time": "2024-11-30T20:24:26.981Z"
   },
   {
    "duration": 14,
    "start_time": "2024-11-30T20:24:26.986Z"
   },
   {
    "duration": 52,
    "start_time": "2024-11-30T20:24:27.002Z"
   },
   {
    "duration": 6,
    "start_time": "2024-11-30T20:24:27.056Z"
   },
   {
    "duration": 8,
    "start_time": "2024-11-30T20:24:27.063Z"
   },
   {
    "duration": 3,
    "start_time": "2024-11-30T20:24:27.073Z"
   },
   {
    "duration": 3,
    "start_time": "2024-11-30T20:24:27.078Z"
   },
   {
    "duration": 3,
    "start_time": "2024-11-30T20:24:27.083Z"
   },
   {
    "duration": 4,
    "start_time": "2024-11-30T20:24:27.088Z"
   },
   {
    "duration": 3,
    "start_time": "2024-11-30T20:24:27.094Z"
   },
   {
    "duration": 45,
    "start_time": "2024-11-30T20:24:27.099Z"
   },
   {
    "duration": 160,
    "start_time": "2024-11-30T20:24:27.145Z"
   },
   {
    "duration": 0,
    "start_time": "2024-11-30T20:24:27.307Z"
   },
   {
    "duration": 0,
    "start_time": "2024-11-30T20:24:27.308Z"
   },
   {
    "duration": 0,
    "start_time": "2024-11-30T20:24:27.309Z"
   },
   {
    "duration": 0,
    "start_time": "2024-11-30T20:24:27.310Z"
   },
   {
    "duration": 0,
    "start_time": "2024-11-30T20:24:27.311Z"
   },
   {
    "duration": 0,
    "start_time": "2024-11-30T20:24:27.313Z"
   },
   {
    "duration": 0,
    "start_time": "2024-11-30T20:24:27.314Z"
   },
   {
    "duration": 726,
    "start_time": "2024-11-30T20:24:48.213Z"
   },
   {
    "duration": 894,
    "start_time": "2024-11-30T20:24:56.103Z"
   },
   {
    "duration": 16,
    "start_time": "2024-11-30T20:24:57.000Z"
   },
   {
    "duration": 13,
    "start_time": "2024-11-30T20:24:57.017Z"
   },
   {
    "duration": 11,
    "start_time": "2024-11-30T20:24:57.032Z"
   },
   {
    "duration": 16,
    "start_time": "2024-11-30T20:24:57.048Z"
   },
   {
    "duration": 93,
    "start_time": "2024-11-30T20:24:57.065Z"
   },
   {
    "duration": 8,
    "start_time": "2024-11-30T20:24:57.160Z"
   },
   {
    "duration": 4,
    "start_time": "2024-11-30T20:24:57.169Z"
   },
   {
    "duration": 11,
    "start_time": "2024-11-30T20:24:57.174Z"
   },
   {
    "duration": 9,
    "start_time": "2024-11-30T20:24:57.187Z"
   },
   {
    "duration": 54,
    "start_time": "2024-11-30T20:24:57.198Z"
   },
   {
    "duration": 11,
    "start_time": "2024-11-30T20:24:57.254Z"
   },
   {
    "duration": 17,
    "start_time": "2024-11-30T20:24:57.268Z"
   },
   {
    "duration": 3,
    "start_time": "2024-11-30T20:24:57.289Z"
   },
   {
    "duration": 15,
    "start_time": "2024-11-30T20:24:57.294Z"
   },
   {
    "duration": 47,
    "start_time": "2024-11-30T20:24:57.311Z"
   },
   {
    "duration": 3,
    "start_time": "2024-11-30T20:24:57.360Z"
   },
   {
    "duration": 7,
    "start_time": "2024-11-30T20:24:57.366Z"
   },
   {
    "duration": 4,
    "start_time": "2024-11-30T20:24:57.374Z"
   },
   {
    "duration": 4,
    "start_time": "2024-11-30T20:24:57.380Z"
   },
   {
    "duration": 4,
    "start_time": "2024-11-30T20:24:57.386Z"
   },
   {
    "duration": 3,
    "start_time": "2024-11-30T20:24:57.392Z"
   },
   {
    "duration": 4,
    "start_time": "2024-11-30T20:24:57.396Z"
   },
   {
    "duration": 5,
    "start_time": "2024-11-30T20:24:57.442Z"
   },
   {
    "duration": 165,
    "start_time": "2024-11-30T20:24:57.449Z"
   },
   {
    "duration": 0,
    "start_time": "2024-11-30T20:24:57.616Z"
   },
   {
    "duration": 0,
    "start_time": "2024-11-30T20:24:57.618Z"
   },
   {
    "duration": 0,
    "start_time": "2024-11-30T20:24:57.619Z"
   },
   {
    "duration": 0,
    "start_time": "2024-11-30T20:24:57.620Z"
   },
   {
    "duration": 0,
    "start_time": "2024-11-30T20:24:57.621Z"
   },
   {
    "duration": 0,
    "start_time": "2024-11-30T20:24:57.622Z"
   },
   {
    "duration": 0,
    "start_time": "2024-11-30T20:24:57.623Z"
   },
   {
    "duration": 118,
    "start_time": "2024-11-30T20:29:07.792Z"
   },
   {
    "duration": 880,
    "start_time": "2024-11-30T20:29:19.593Z"
   },
   {
    "duration": 23,
    "start_time": "2024-11-30T20:29:20.475Z"
   },
   {
    "duration": 15,
    "start_time": "2024-11-30T20:29:20.500Z"
   },
   {
    "duration": 3,
    "start_time": "2024-11-30T20:29:20.517Z"
   },
   {
    "duration": 34,
    "start_time": "2024-11-30T20:29:20.522Z"
   },
   {
    "duration": 54,
    "start_time": "2024-11-30T20:29:20.558Z"
   },
   {
    "duration": 7,
    "start_time": "2024-11-30T20:29:20.613Z"
   },
   {
    "duration": 3,
    "start_time": "2024-11-30T20:29:20.622Z"
   },
   {
    "duration": 10,
    "start_time": "2024-11-30T20:29:20.643Z"
   },
   {
    "duration": 10,
    "start_time": "2024-11-30T20:29:20.658Z"
   },
   {
    "duration": 21,
    "start_time": "2024-11-30T20:29:20.669Z"
   },
   {
    "duration": 9,
    "start_time": "2024-11-30T20:29:20.691Z"
   },
   {
    "duration": 48,
    "start_time": "2024-11-30T20:29:20.702Z"
   },
   {
    "duration": 4,
    "start_time": "2024-11-30T20:29:20.752Z"
   },
   {
    "duration": 15,
    "start_time": "2024-11-30T20:29:20.758Z"
   },
   {
    "duration": 257,
    "start_time": "2024-11-30T20:29:20.774Z"
   },
   {
    "duration": 0,
    "start_time": "2024-11-30T20:29:21.033Z"
   },
   {
    "duration": 0,
    "start_time": "2024-11-30T20:29:21.035Z"
   },
   {
    "duration": 0,
    "start_time": "2024-11-30T20:29:21.042Z"
   },
   {
    "duration": 0,
    "start_time": "2024-11-30T20:29:21.044Z"
   },
   {
    "duration": 0,
    "start_time": "2024-11-30T20:29:21.046Z"
   },
   {
    "duration": 0,
    "start_time": "2024-11-30T20:29:21.047Z"
   },
   {
    "duration": 0,
    "start_time": "2024-11-30T20:29:21.048Z"
   },
   {
    "duration": 0,
    "start_time": "2024-11-30T20:29:21.050Z"
   },
   {
    "duration": 0,
    "start_time": "2024-11-30T20:29:21.051Z"
   },
   {
    "duration": 0,
    "start_time": "2024-11-30T20:29:21.052Z"
   },
   {
    "duration": 0,
    "start_time": "2024-11-30T20:29:21.053Z"
   },
   {
    "duration": 0,
    "start_time": "2024-11-30T20:29:21.054Z"
   },
   {
    "duration": 0,
    "start_time": "2024-11-30T20:29:21.055Z"
   },
   {
    "duration": 0,
    "start_time": "2024-11-30T20:29:21.056Z"
   },
   {
    "duration": 0,
    "start_time": "2024-11-30T20:29:21.057Z"
   },
   {
    "duration": 0,
    "start_time": "2024-11-30T20:29:21.058Z"
   },
   {
    "duration": 0,
    "start_time": "2024-11-30T20:29:21.060Z"
   },
   {
    "duration": 19,
    "start_time": "2024-11-30T20:29:35.855Z"
   },
   {
    "duration": 414,
    "start_time": "2024-11-30T20:29:45.880Z"
   },
   {
    "duration": 46,
    "start_time": "2024-11-30T20:30:13.314Z"
   },
   {
    "duration": 47,
    "start_time": "2024-11-30T20:30:32.727Z"
   },
   {
    "duration": 897,
    "start_time": "2024-11-30T20:30:38.865Z"
   },
   {
    "duration": 16,
    "start_time": "2024-11-30T20:30:39.764Z"
   },
   {
    "duration": 13,
    "start_time": "2024-11-30T20:30:39.781Z"
   },
   {
    "duration": 3,
    "start_time": "2024-11-30T20:30:39.796Z"
   },
   {
    "duration": 15,
    "start_time": "2024-11-30T20:30:39.801Z"
   },
   {
    "duration": 76,
    "start_time": "2024-11-30T20:30:39.818Z"
   },
   {
    "duration": 8,
    "start_time": "2024-11-30T20:30:39.896Z"
   },
   {
    "duration": 3,
    "start_time": "2024-11-30T20:30:39.906Z"
   },
   {
    "duration": 11,
    "start_time": "2024-11-30T20:30:39.911Z"
   },
   {
    "duration": 9,
    "start_time": "2024-11-30T20:30:39.945Z"
   },
   {
    "duration": 22,
    "start_time": "2024-11-30T20:30:39.956Z"
   },
   {
    "duration": 9,
    "start_time": "2024-11-30T20:30:39.979Z"
   },
   {
    "duration": 16,
    "start_time": "2024-11-30T20:30:39.989Z"
   },
   {
    "duration": 3,
    "start_time": "2024-11-30T20:30:40.006Z"
   },
   {
    "duration": 44,
    "start_time": "2024-11-30T20:30:40.011Z"
   },
   {
    "duration": 663,
    "start_time": "2024-11-30T20:30:40.056Z"
   },
   {
    "duration": 0,
    "start_time": "2024-11-30T20:30:40.721Z"
   },
   {
    "duration": 0,
    "start_time": "2024-11-30T20:30:40.723Z"
   },
   {
    "duration": 0,
    "start_time": "2024-11-30T20:30:40.724Z"
   },
   {
    "duration": 0,
    "start_time": "2024-11-30T20:30:40.725Z"
   },
   {
    "duration": 0,
    "start_time": "2024-11-30T20:30:40.727Z"
   },
   {
    "duration": 0,
    "start_time": "2024-11-30T20:30:40.728Z"
   },
   {
    "duration": 0,
    "start_time": "2024-11-30T20:30:40.730Z"
   },
   {
    "duration": 0,
    "start_time": "2024-11-30T20:30:40.743Z"
   },
   {
    "duration": 0,
    "start_time": "2024-11-30T20:30:40.744Z"
   },
   {
    "duration": 0,
    "start_time": "2024-11-30T20:30:40.746Z"
   },
   {
    "duration": 0,
    "start_time": "2024-11-30T20:30:40.747Z"
   },
   {
    "duration": 0,
    "start_time": "2024-11-30T20:30:40.748Z"
   },
   {
    "duration": 0,
    "start_time": "2024-11-30T20:30:40.749Z"
   },
   {
    "duration": 0,
    "start_time": "2024-11-30T20:30:40.750Z"
   },
   {
    "duration": 0,
    "start_time": "2024-11-30T20:30:40.751Z"
   },
   {
    "duration": 0,
    "start_time": "2024-11-30T20:30:40.753Z"
   },
   {
    "duration": 0,
    "start_time": "2024-11-30T20:30:40.754Z"
   },
   {
    "duration": 46,
    "start_time": "2024-11-30T20:30:59.959Z"
   },
   {
    "duration": 15,
    "start_time": "2024-11-30T20:31:31.066Z"
   },
   {
    "duration": 4,
    "start_time": "2024-11-30T20:31:40.154Z"
   },
   {
    "duration": 90,
    "start_time": "2024-11-30T20:31:50.269Z"
   },
   {
    "duration": 150,
    "start_time": "2024-11-30T20:33:24.523Z"
   },
   {
    "duration": 361,
    "start_time": "2024-11-30T20:33:47.993Z"
   },
   {
    "duration": 35,
    "start_time": "2024-11-30T20:33:49.756Z"
   },
   {
    "duration": 885,
    "start_time": "2024-11-30T20:33:56.330Z"
   },
   {
    "duration": 16,
    "start_time": "2024-11-30T20:33:57.217Z"
   },
   {
    "duration": 17,
    "start_time": "2024-11-30T20:33:57.234Z"
   },
   {
    "duration": 2,
    "start_time": "2024-11-30T20:33:57.254Z"
   },
   {
    "duration": 15,
    "start_time": "2024-11-30T20:33:57.258Z"
   },
   {
    "duration": 70,
    "start_time": "2024-11-30T20:33:57.275Z"
   },
   {
    "duration": 6,
    "start_time": "2024-11-30T20:33:57.347Z"
   },
   {
    "duration": 3,
    "start_time": "2024-11-30T20:33:57.355Z"
   },
   {
    "duration": 9,
    "start_time": "2024-11-30T20:33:57.359Z"
   },
   {
    "duration": 9,
    "start_time": "2024-11-30T20:33:57.371Z"
   },
   {
    "duration": 19,
    "start_time": "2024-11-30T20:33:57.382Z"
   },
   {
    "duration": 40,
    "start_time": "2024-11-30T20:33:57.403Z"
   },
   {
    "duration": 16,
    "start_time": "2024-11-30T20:33:57.444Z"
   },
   {
    "duration": 3,
    "start_time": "2024-11-30T20:33:57.463Z"
   },
   {
    "duration": 13,
    "start_time": "2024-11-30T20:33:57.469Z"
   },
   {
    "duration": 650,
    "start_time": "2024-11-30T20:33:57.484Z"
   },
   {
    "duration": 0,
    "start_time": "2024-11-30T20:33:58.137Z"
   },
   {
    "duration": 0,
    "start_time": "2024-11-30T20:33:58.142Z"
   },
   {
    "duration": 0,
    "start_time": "2024-11-30T20:33:58.143Z"
   },
   {
    "duration": 0,
    "start_time": "2024-11-30T20:33:58.144Z"
   },
   {
    "duration": 0,
    "start_time": "2024-11-30T20:33:58.146Z"
   },
   {
    "duration": 0,
    "start_time": "2024-11-30T20:33:58.147Z"
   },
   {
    "duration": 0,
    "start_time": "2024-11-30T20:33:58.148Z"
   },
   {
    "duration": 0,
    "start_time": "2024-11-30T20:33:58.149Z"
   },
   {
    "duration": 0,
    "start_time": "2024-11-30T20:33:58.150Z"
   },
   {
    "duration": 0,
    "start_time": "2024-11-30T20:33:58.151Z"
   },
   {
    "duration": 0,
    "start_time": "2024-11-30T20:33:58.152Z"
   },
   {
    "duration": 0,
    "start_time": "2024-11-30T20:33:58.153Z"
   },
   {
    "duration": 0,
    "start_time": "2024-11-30T20:33:58.154Z"
   },
   {
    "duration": 0,
    "start_time": "2024-11-30T20:33:58.155Z"
   },
   {
    "duration": 0,
    "start_time": "2024-11-30T20:33:58.156Z"
   },
   {
    "duration": 0,
    "start_time": "2024-11-30T20:33:58.157Z"
   },
   {
    "duration": 0,
    "start_time": "2024-11-30T20:33:58.158Z"
   },
   {
    "duration": 14,
    "start_time": "2024-11-30T20:50:34.287Z"
   },
   {
    "duration": 3,
    "start_time": "2024-11-30T20:50:58.466Z"
   },
   {
    "duration": 7,
    "start_time": "2024-11-30T20:50:59.815Z"
   },
   {
    "duration": 127,
    "start_time": "2024-11-30T20:51:01.519Z"
   },
   {
    "duration": 917,
    "start_time": "2024-11-30T20:51:18.040Z"
   },
   {
    "duration": 16,
    "start_time": "2024-11-30T20:51:18.959Z"
   },
   {
    "duration": 13,
    "start_time": "2024-11-30T20:51:18.977Z"
   },
   {
    "duration": 4,
    "start_time": "2024-11-30T20:51:18.992Z"
   },
   {
    "duration": 21,
    "start_time": "2024-11-30T20:51:19.000Z"
   },
   {
    "duration": 79,
    "start_time": "2024-11-30T20:51:19.044Z"
   },
   {
    "duration": 24,
    "start_time": "2024-11-30T20:51:19.125Z"
   },
   {
    "duration": 3,
    "start_time": "2024-11-30T20:51:19.153Z"
   },
   {
    "duration": 10,
    "start_time": "2024-11-30T20:51:19.158Z"
   },
   {
    "duration": 11,
    "start_time": "2024-11-30T20:51:19.170Z"
   },
   {
    "duration": 21,
    "start_time": "2024-11-30T20:51:19.183Z"
   },
   {
    "duration": 39,
    "start_time": "2024-11-30T20:51:19.206Z"
   },
   {
    "duration": 19,
    "start_time": "2024-11-30T20:51:19.248Z"
   },
   {
    "duration": 5,
    "start_time": "2024-11-30T20:51:19.271Z"
   },
   {
    "duration": 21,
    "start_time": "2024-11-30T20:51:19.279Z"
   },
   {
    "duration": 665,
    "start_time": "2024-11-30T20:51:19.302Z"
   },
   {
    "duration": 0,
    "start_time": "2024-11-30T20:51:19.969Z"
   },
   {
    "duration": 0,
    "start_time": "2024-11-30T20:51:19.971Z"
   },
   {
    "duration": 0,
    "start_time": "2024-11-30T20:51:19.973Z"
   },
   {
    "duration": 0,
    "start_time": "2024-11-30T20:51:19.974Z"
   },
   {
    "duration": 0,
    "start_time": "2024-11-30T20:51:19.975Z"
   },
   {
    "duration": 0,
    "start_time": "2024-11-30T20:51:19.977Z"
   },
   {
    "duration": 0,
    "start_time": "2024-11-30T20:51:19.978Z"
   },
   {
    "duration": 0,
    "start_time": "2024-11-30T20:51:19.980Z"
   },
   {
    "duration": 0,
    "start_time": "2024-11-30T20:51:19.981Z"
   },
   {
    "duration": 0,
    "start_time": "2024-11-30T20:51:19.982Z"
   },
   {
    "duration": 0,
    "start_time": "2024-11-30T20:51:19.983Z"
   },
   {
    "duration": 0,
    "start_time": "2024-11-30T20:51:19.985Z"
   },
   {
    "duration": 0,
    "start_time": "2024-11-30T20:51:19.986Z"
   },
   {
    "duration": 0,
    "start_time": "2024-11-30T20:51:19.988Z"
   },
   {
    "duration": 0,
    "start_time": "2024-11-30T20:51:19.989Z"
   },
   {
    "duration": 0,
    "start_time": "2024-11-30T20:51:19.991Z"
   },
   {
    "duration": 0,
    "start_time": "2024-11-30T20:51:19.992Z"
   },
   {
    "duration": 10,
    "start_time": "2024-11-30T20:51:38.742Z"
   },
   {
    "duration": 4,
    "start_time": "2024-11-30T20:51:52.622Z"
   },
   {
    "duration": 6,
    "start_time": "2024-11-30T20:51:53.912Z"
   },
   {
    "duration": 123,
    "start_time": "2024-11-30T20:51:55.268Z"
   },
   {
    "duration": 25,
    "start_time": "2024-11-30T20:52:36.555Z"
   },
   {
    "duration": 7,
    "start_time": "2024-11-30T20:52:49.719Z"
   },
   {
    "duration": 5,
    "start_time": "2024-11-30T20:52:51.503Z"
   },
   {
    "duration": 61,
    "start_time": "2024-11-30T20:54:16.316Z"
   },
   {
    "duration": 48,
    "start_time": "2024-11-30T20:55:55.546Z"
   },
   {
    "duration": 916,
    "start_time": "2024-11-30T20:56:11.608Z"
   },
   {
    "duration": 20,
    "start_time": "2024-11-30T20:56:12.527Z"
   },
   {
    "duration": 13,
    "start_time": "2024-11-30T20:56:12.549Z"
   },
   {
    "duration": 3,
    "start_time": "2024-11-30T20:56:12.565Z"
   },
   {
    "duration": 34,
    "start_time": "2024-11-30T20:56:12.569Z"
   },
   {
    "duration": 75,
    "start_time": "2024-11-30T20:56:12.605Z"
   },
   {
    "duration": 6,
    "start_time": "2024-11-30T20:56:12.682Z"
   },
   {
    "duration": 3,
    "start_time": "2024-11-30T20:56:12.690Z"
   },
   {
    "duration": 10,
    "start_time": "2024-11-30T20:56:12.694Z"
   },
   {
    "duration": 36,
    "start_time": "2024-11-30T20:56:12.707Z"
   },
   {
    "duration": 14,
    "start_time": "2024-11-30T20:56:12.745Z"
   },
   {
    "duration": 12,
    "start_time": "2024-11-30T20:56:12.761Z"
   },
   {
    "duration": 22,
    "start_time": "2024-11-30T20:56:12.775Z"
   },
   {
    "duration": 4,
    "start_time": "2024-11-30T20:56:12.799Z"
   },
   {
    "duration": 42,
    "start_time": "2024-11-30T20:56:12.805Z"
   },
   {
    "duration": 677,
    "start_time": "2024-11-30T20:56:12.849Z"
   },
   {
    "duration": 0,
    "start_time": "2024-11-30T20:56:13.528Z"
   },
   {
    "duration": 0,
    "start_time": "2024-11-30T20:56:13.529Z"
   },
   {
    "duration": 0,
    "start_time": "2024-11-30T20:56:13.531Z"
   },
   {
    "duration": 0,
    "start_time": "2024-11-30T20:56:13.532Z"
   },
   {
    "duration": 0,
    "start_time": "2024-11-30T20:56:13.542Z"
   },
   {
    "duration": 0,
    "start_time": "2024-11-30T20:56:13.544Z"
   },
   {
    "duration": 0,
    "start_time": "2024-11-30T20:56:13.546Z"
   },
   {
    "duration": 0,
    "start_time": "2024-11-30T20:56:13.546Z"
   },
   {
    "duration": 0,
    "start_time": "2024-11-30T20:56:13.547Z"
   },
   {
    "duration": 0,
    "start_time": "2024-11-30T20:56:13.549Z"
   },
   {
    "duration": 0,
    "start_time": "2024-11-30T20:56:13.550Z"
   },
   {
    "duration": 0,
    "start_time": "2024-11-30T20:56:13.552Z"
   },
   {
    "duration": 0,
    "start_time": "2024-11-30T20:56:13.553Z"
   },
   {
    "duration": 0,
    "start_time": "2024-11-30T20:56:13.554Z"
   },
   {
    "duration": 0,
    "start_time": "2024-11-30T20:56:13.556Z"
   },
   {
    "duration": 0,
    "start_time": "2024-11-30T20:56:13.557Z"
   },
   {
    "duration": 46,
    "start_time": "2024-11-30T20:56:23.542Z"
   },
   {
    "duration": 6,
    "start_time": "2024-11-30T21:07:51.971Z"
   },
   {
    "duration": 2,
    "start_time": "2024-11-30T21:08:05.602Z"
   },
   {
    "duration": 6,
    "start_time": "2024-11-30T21:08:07.411Z"
   },
   {
    "duration": 3,
    "start_time": "2024-11-30T21:08:36.019Z"
   },
   {
    "duration": 24,
    "start_time": "2024-11-30T21:08:58.545Z"
   },
   {
    "duration": 6,
    "start_time": "2024-11-30T21:16:24.178Z"
   },
   {
    "duration": 1030,
    "start_time": "2024-11-30T21:17:17.481Z"
   },
   {
    "duration": 16,
    "start_time": "2024-11-30T21:17:18.513Z"
   },
   {
    "duration": 16,
    "start_time": "2024-11-30T21:17:18.531Z"
   },
   {
    "duration": 2,
    "start_time": "2024-11-30T21:17:18.550Z"
   },
   {
    "duration": 10,
    "start_time": "2024-11-30T21:17:18.554Z"
   },
   {
    "duration": 10,
    "start_time": "2024-11-30T21:17:18.567Z"
   },
   {
    "duration": 3,
    "start_time": "2024-11-30T21:17:18.579Z"
   },
   {
    "duration": 7,
    "start_time": "2024-11-30T21:17:18.584Z"
   },
   {
    "duration": 3,
    "start_time": "2024-11-30T21:17:18.593Z"
   },
   {
    "duration": 44,
    "start_time": "2024-11-30T21:17:18.598Z"
   },
   {
    "duration": 29,
    "start_time": "2024-11-30T21:17:18.644Z"
   },
   {
    "duration": 8,
    "start_time": "2024-11-30T21:17:18.675Z"
   },
   {
    "duration": 4,
    "start_time": "2024-11-30T21:17:18.685Z"
   },
   {
    "duration": 14,
    "start_time": "2024-11-30T21:17:18.690Z"
   },
   {
    "duration": 42,
    "start_time": "2024-11-30T21:17:18.705Z"
   },
   {
    "duration": 663,
    "start_time": "2024-11-30T21:17:18.748Z"
   },
   {
    "duration": 0,
    "start_time": "2024-11-30T21:17:19.413Z"
   },
   {
    "duration": 0,
    "start_time": "2024-11-30T21:17:19.414Z"
   },
   {
    "duration": 0,
    "start_time": "2024-11-30T21:17:19.415Z"
   },
   {
    "duration": 0,
    "start_time": "2024-11-30T21:17:19.417Z"
   },
   {
    "duration": 0,
    "start_time": "2024-11-30T21:17:19.418Z"
   },
   {
    "duration": 0,
    "start_time": "2024-11-30T21:17:19.419Z"
   },
   {
    "duration": 0,
    "start_time": "2024-11-30T21:17:19.420Z"
   },
   {
    "duration": 0,
    "start_time": "2024-11-30T21:17:19.421Z"
   },
   {
    "duration": 0,
    "start_time": "2024-11-30T21:17:19.422Z"
   },
   {
    "duration": 0,
    "start_time": "2024-11-30T21:17:19.443Z"
   },
   {
    "duration": 0,
    "start_time": "2024-11-30T21:17:19.444Z"
   },
   {
    "duration": 0,
    "start_time": "2024-11-30T21:17:19.445Z"
   },
   {
    "duration": 0,
    "start_time": "2024-11-30T21:17:19.445Z"
   },
   {
    "duration": 0,
    "start_time": "2024-11-30T21:17:19.446Z"
   },
   {
    "duration": 0,
    "start_time": "2024-11-30T21:17:19.447Z"
   },
   {
    "duration": 0,
    "start_time": "2024-11-30T21:17:19.449Z"
   },
   {
    "duration": 248,
    "start_time": "2024-11-30T21:21:39.187Z"
   },
   {
    "duration": 242,
    "start_time": "2024-11-30T21:22:43.676Z"
   },
   {
    "duration": 23,
    "start_time": "2024-11-30T21:24:15.513Z"
   },
   {
    "duration": 240,
    "start_time": "2024-11-30T21:24:23.973Z"
   },
   {
    "duration": 145,
    "start_time": "2024-11-30T21:25:33.418Z"
   },
   {
    "duration": 2,
    "start_time": "2024-11-30T21:27:06.009Z"
   },
   {
    "duration": 14,
    "start_time": "2024-11-30T21:27:08.161Z"
   },
   {
    "duration": 1006,
    "start_time": "2024-11-30T21:27:17.405Z"
   },
   {
    "duration": 15,
    "start_time": "2024-11-30T21:27:18.414Z"
   },
   {
    "duration": 20,
    "start_time": "2024-11-30T21:27:18.431Z"
   },
   {
    "duration": 3,
    "start_time": "2024-11-30T21:27:18.453Z"
   },
   {
    "duration": 10,
    "start_time": "2024-11-30T21:27:18.458Z"
   },
   {
    "duration": 10,
    "start_time": "2024-11-30T21:27:18.470Z"
   },
   {
    "duration": 5,
    "start_time": "2024-11-30T21:27:18.481Z"
   },
   {
    "duration": 6,
    "start_time": "2024-11-30T21:27:18.488Z"
   },
   {
    "duration": 2,
    "start_time": "2024-11-30T21:27:18.496Z"
   },
   {
    "duration": 265,
    "start_time": "2024-11-30T21:27:18.501Z"
   },
   {
    "duration": 0,
    "start_time": "2024-11-30T21:27:18.768Z"
   },
   {
    "duration": 0,
    "start_time": "2024-11-30T21:27:18.769Z"
   },
   {
    "duration": 0,
    "start_time": "2024-11-30T21:27:18.771Z"
   },
   {
    "duration": 0,
    "start_time": "2024-11-30T21:27:18.772Z"
   },
   {
    "duration": 0,
    "start_time": "2024-11-30T21:27:18.774Z"
   },
   {
    "duration": 0,
    "start_time": "2024-11-30T21:27:18.775Z"
   },
   {
    "duration": 0,
    "start_time": "2024-11-30T21:27:18.777Z"
   },
   {
    "duration": 0,
    "start_time": "2024-11-30T21:27:18.779Z"
   },
   {
    "duration": 0,
    "start_time": "2024-11-30T21:27:18.780Z"
   },
   {
    "duration": 0,
    "start_time": "2024-11-30T21:27:18.782Z"
   },
   {
    "duration": 0,
    "start_time": "2024-11-30T21:27:18.783Z"
   },
   {
    "duration": 0,
    "start_time": "2024-11-30T21:27:18.784Z"
   },
   {
    "duration": 0,
    "start_time": "2024-11-30T21:27:18.786Z"
   },
   {
    "duration": 0,
    "start_time": "2024-11-30T21:27:18.787Z"
   },
   {
    "duration": 0,
    "start_time": "2024-11-30T21:27:18.788Z"
   },
   {
    "duration": 0,
    "start_time": "2024-11-30T21:27:18.790Z"
   },
   {
    "duration": 0,
    "start_time": "2024-11-30T21:27:18.791Z"
   },
   {
    "duration": 0,
    "start_time": "2024-11-30T21:27:18.792Z"
   },
   {
    "duration": 0,
    "start_time": "2024-11-30T21:27:18.794Z"
   },
   {
    "duration": 0,
    "start_time": "2024-11-30T21:27:18.795Z"
   },
   {
    "duration": 0,
    "start_time": "2024-11-30T21:27:18.796Z"
   },
   {
    "duration": 0,
    "start_time": "2024-11-30T21:27:18.798Z"
   },
   {
    "duration": 0,
    "start_time": "2024-11-30T21:27:18.843Z"
   },
   {
    "duration": 0,
    "start_time": "2024-11-30T21:27:18.844Z"
   },
   {
    "duration": 0,
    "start_time": "2024-11-30T21:27:18.845Z"
   },
   {
    "duration": 13,
    "start_time": "2024-11-30T21:27:34.655Z"
   },
   {
    "duration": 12,
    "start_time": "2024-11-30T21:27:38.510Z"
   },
   {
    "duration": 1019,
    "start_time": "2024-11-30T21:27:44.223Z"
   },
   {
    "duration": 14,
    "start_time": "2024-11-30T21:27:45.245Z"
   },
   {
    "duration": 13,
    "start_time": "2024-11-30T21:27:45.261Z"
   },
   {
    "duration": 3,
    "start_time": "2024-11-30T21:27:45.275Z"
   },
   {
    "duration": 10,
    "start_time": "2024-11-30T21:27:45.280Z"
   },
   {
    "duration": 11,
    "start_time": "2024-11-30T21:27:45.291Z"
   },
   {
    "duration": 3,
    "start_time": "2024-11-30T21:27:45.304Z"
   },
   {
    "duration": 7,
    "start_time": "2024-11-30T21:27:45.343Z"
   },
   {
    "duration": 2,
    "start_time": "2024-11-30T21:27:45.351Z"
   },
   {
    "duration": 245,
    "start_time": "2024-11-30T21:27:45.355Z"
   },
   {
    "duration": 0,
    "start_time": "2024-11-30T21:27:45.603Z"
   },
   {
    "duration": 0,
    "start_time": "2024-11-30T21:27:45.604Z"
   },
   {
    "duration": 0,
    "start_time": "2024-11-30T21:27:45.605Z"
   },
   {
    "duration": 0,
    "start_time": "2024-11-30T21:27:45.606Z"
   },
   {
    "duration": 0,
    "start_time": "2024-11-30T21:27:45.608Z"
   },
   {
    "duration": 0,
    "start_time": "2024-11-30T21:27:45.609Z"
   },
   {
    "duration": 0,
    "start_time": "2024-11-30T21:27:45.611Z"
   },
   {
    "duration": 0,
    "start_time": "2024-11-30T21:27:45.612Z"
   },
   {
    "duration": 0,
    "start_time": "2024-11-30T21:27:45.613Z"
   },
   {
    "duration": 0,
    "start_time": "2024-11-30T21:27:45.614Z"
   },
   {
    "duration": 0,
    "start_time": "2024-11-30T21:27:45.615Z"
   },
   {
    "duration": 0,
    "start_time": "2024-11-30T21:27:45.617Z"
   },
   {
    "duration": 0,
    "start_time": "2024-11-30T21:27:45.618Z"
   },
   {
    "duration": 0,
    "start_time": "2024-11-30T21:27:45.619Z"
   },
   {
    "duration": 0,
    "start_time": "2024-11-30T21:27:45.643Z"
   },
   {
    "duration": 0,
    "start_time": "2024-11-30T21:27:45.644Z"
   },
   {
    "duration": 0,
    "start_time": "2024-11-30T21:27:45.645Z"
   },
   {
    "duration": 0,
    "start_time": "2024-11-30T21:27:45.646Z"
   },
   {
    "duration": 0,
    "start_time": "2024-11-30T21:27:45.646Z"
   },
   {
    "duration": 0,
    "start_time": "2024-11-30T21:27:45.647Z"
   },
   {
    "duration": 0,
    "start_time": "2024-11-30T21:27:45.648Z"
   },
   {
    "duration": 0,
    "start_time": "2024-11-30T21:27:45.649Z"
   },
   {
    "duration": 0,
    "start_time": "2024-11-30T21:27:45.650Z"
   },
   {
    "duration": 0,
    "start_time": "2024-11-30T21:27:45.651Z"
   },
   {
    "duration": 0,
    "start_time": "2024-11-30T21:27:45.652Z"
   },
   {
    "duration": 16,
    "start_time": "2024-11-30T21:28:40.075Z"
   },
   {
    "duration": 14,
    "start_time": "2024-11-30T21:28:50.333Z"
   },
   {
    "duration": 4,
    "start_time": "2024-11-30T21:29:00.034Z"
   },
   {
    "duration": 15,
    "start_time": "2024-11-30T21:29:02.281Z"
   },
   {
    "duration": 4,
    "start_time": "2024-11-30T21:29:03.692Z"
   },
   {
    "duration": 15,
    "start_time": "2024-11-30T21:29:03.950Z"
   },
   {
    "duration": 9,
    "start_time": "2024-11-30T21:29:04.192Z"
   },
   {
    "duration": 3,
    "start_time": "2024-11-30T21:29:04.424Z"
   },
   {
    "duration": 10,
    "start_time": "2024-11-30T21:29:04.635Z"
   },
   {
    "duration": 10,
    "start_time": "2024-11-30T21:29:04.863Z"
   },
   {
    "duration": 3,
    "start_time": "2024-11-30T21:29:05.070Z"
   },
   {
    "duration": 6,
    "start_time": "2024-11-30T21:29:05.311Z"
   },
   {
    "duration": 2,
    "start_time": "2024-11-30T21:29:05.539Z"
   },
   {
    "duration": 14,
    "start_time": "2024-11-30T21:29:05.782Z"
   },
   {
    "duration": 12,
    "start_time": "2024-11-30T21:29:06.516Z"
   },
   {
    "duration": 13,
    "start_time": "2024-11-30T21:29:07.363Z"
   },
   {
    "duration": 11,
    "start_time": "2024-11-30T21:29:08.101Z"
   },
   {
    "duration": 17,
    "start_time": "2024-11-30T21:29:09.134Z"
   },
   {
    "duration": 62,
    "start_time": "2024-11-30T21:29:11.277Z"
   },
   {
    "duration": 32,
    "start_time": "2024-11-30T21:29:13.258Z"
   },
   {
    "duration": 91,
    "start_time": "2024-11-30T21:29:14.100Z"
   },
   {
    "duration": 13,
    "start_time": "2024-11-30T21:29:15.328Z"
   },
   {
    "duration": 16,
    "start_time": "2024-11-30T21:29:16.444Z"
   },
   {
    "duration": 14,
    "start_time": "2024-11-30T21:29:17.354Z"
   },
   {
    "duration": 15,
    "start_time": "2024-11-30T21:29:18.807Z"
   },
   {
    "duration": 12,
    "start_time": "2024-11-30T21:29:19.498Z"
   },
   {
    "duration": 13,
    "start_time": "2024-11-30T21:29:20.047Z"
   },
   {
    "duration": 13,
    "start_time": "2024-11-30T21:29:20.855Z"
   },
   {
    "duration": 13,
    "start_time": "2024-11-30T21:29:21.321Z"
   },
   {
    "duration": 14,
    "start_time": "2024-11-30T21:29:21.582Z"
   },
   {
    "duration": 73,
    "start_time": "2024-11-30T21:29:21.818Z"
   },
   {
    "duration": 15,
    "start_time": "2024-11-30T21:29:22.047Z"
   },
   {
    "duration": 14,
    "start_time": "2024-11-30T21:29:22.261Z"
   },
   {
    "duration": 17,
    "start_time": "2024-11-30T21:29:22.493Z"
   },
   {
    "duration": 13,
    "start_time": "2024-11-30T21:29:22.742Z"
   },
   {
    "duration": 16,
    "start_time": "2024-11-30T21:29:23.020Z"
   },
   {
    "duration": 15,
    "start_time": "2024-11-30T21:29:23.286Z"
   },
   {
    "duration": 3,
    "start_time": "2024-11-30T21:29:23.521Z"
   },
   {
    "duration": 15,
    "start_time": "2024-11-30T21:29:34.451Z"
   },
   {
    "duration": 14,
    "start_time": "2024-11-30T21:29:35.319Z"
   },
   {
    "duration": 10,
    "start_time": "2024-11-30T21:29:36.755Z"
   },
   {
    "duration": 3,
    "start_time": "2024-11-30T21:29:41.190Z"
   },
   {
    "duration": 11,
    "start_time": "2024-11-30T21:29:42.251Z"
   },
   {
    "duration": 11,
    "start_time": "2024-11-30T21:29:43.970Z"
   },
   {
    "duration": 3,
    "start_time": "2024-11-30T21:29:46.603Z"
   },
   {
    "duration": 6,
    "start_time": "2024-11-30T21:29:48.003Z"
   },
   {
    "duration": 3,
    "start_time": "2024-11-30T21:29:50.472Z"
   },
   {
    "duration": 13,
    "start_time": "2024-11-30T21:29:52.348Z"
   },
   {
    "duration": 13,
    "start_time": "2024-11-30T21:30:03.708Z"
   },
   {
    "duration": 13,
    "start_time": "2024-11-30T21:30:35.489Z"
   },
   {
    "duration": 13,
    "start_time": "2024-11-30T21:30:38.028Z"
   },
   {
    "duration": 11,
    "start_time": "2024-11-30T21:30:57.452Z"
   },
   {
    "duration": 1025,
    "start_time": "2024-11-30T21:31:12.599Z"
   },
   {
    "duration": 17,
    "start_time": "2024-11-30T21:31:13.626Z"
   },
   {
    "duration": 13,
    "start_time": "2024-11-30T21:31:13.644Z"
   },
   {
    "duration": 3,
    "start_time": "2024-11-30T21:31:13.659Z"
   },
   {
    "duration": 9,
    "start_time": "2024-11-30T21:31:13.665Z"
   },
   {
    "duration": 11,
    "start_time": "2024-11-30T21:31:13.676Z"
   },
   {
    "duration": 3,
    "start_time": "2024-11-30T21:31:13.688Z"
   },
   {
    "duration": 6,
    "start_time": "2024-11-30T21:31:13.693Z"
   },
   {
    "duration": 54,
    "start_time": "2024-11-30T21:31:13.700Z"
   },
   {
    "duration": 37,
    "start_time": "2024-11-30T21:31:13.755Z"
   },
   {
    "duration": 9,
    "start_time": "2024-11-30T21:31:13.795Z"
   },
   {
    "duration": 4,
    "start_time": "2024-11-30T21:31:13.805Z"
   },
   {
    "duration": 41,
    "start_time": "2024-11-30T21:31:13.811Z"
   },
   {
    "duration": 7,
    "start_time": "2024-11-30T21:31:13.855Z"
   },
   {
    "duration": 283,
    "start_time": "2024-11-30T21:31:13.863Z"
   },
   {
    "duration": 259,
    "start_time": "2024-11-30T21:31:14.148Z"
   },
   {
    "duration": 642,
    "start_time": "2024-11-30T21:31:14.409Z"
   },
   {
    "duration": 0,
    "start_time": "2024-11-30T21:31:15.053Z"
   },
   {
    "duration": 0,
    "start_time": "2024-11-30T21:31:15.055Z"
   },
   {
    "duration": 0,
    "start_time": "2024-11-30T21:31:15.057Z"
   },
   {
    "duration": 0,
    "start_time": "2024-11-30T21:31:15.058Z"
   },
   {
    "duration": 0,
    "start_time": "2024-11-30T21:31:15.060Z"
   },
   {
    "duration": 0,
    "start_time": "2024-11-30T21:31:15.061Z"
   },
   {
    "duration": 0,
    "start_time": "2024-11-30T21:31:15.063Z"
   },
   {
    "duration": 0,
    "start_time": "2024-11-30T21:31:15.064Z"
   },
   {
    "duration": 0,
    "start_time": "2024-11-30T21:31:15.066Z"
   },
   {
    "duration": 0,
    "start_time": "2024-11-30T21:31:15.067Z"
   },
   {
    "duration": 0,
    "start_time": "2024-11-30T21:31:15.068Z"
   },
   {
    "duration": 0,
    "start_time": "2024-11-30T21:31:15.069Z"
   },
   {
    "duration": 0,
    "start_time": "2024-11-30T21:31:15.070Z"
   },
   {
    "duration": 0,
    "start_time": "2024-11-30T21:31:15.071Z"
   },
   {
    "duration": 0,
    "start_time": "2024-11-30T21:31:15.073Z"
   },
   {
    "duration": 0,
    "start_time": "2024-11-30T21:31:15.074Z"
   },
   {
    "duration": 0,
    "start_time": "2024-11-30T21:31:15.075Z"
   },
   {
    "duration": 6,
    "start_time": "2024-11-30T21:31:45.811Z"
   },
   {
    "duration": 24,
    "start_time": "2024-11-30T21:31:47.686Z"
   },
   {
    "duration": 10,
    "start_time": "2024-11-30T21:32:03.924Z"
   },
   {
    "duration": 24,
    "start_time": "2024-11-30T21:32:08.368Z"
   },
   {
    "duration": 8,
    "start_time": "2024-11-30T21:32:10.350Z"
   },
   {
    "duration": 366,
    "start_time": "2024-11-30T21:32:12.546Z"
   },
   {
    "duration": 1026,
    "start_time": "2024-11-30T21:32:25.091Z"
   },
   {
    "duration": 15,
    "start_time": "2024-11-30T21:32:26.119Z"
   },
   {
    "duration": 16,
    "start_time": "2024-11-30T21:32:26.136Z"
   },
   {
    "duration": 3,
    "start_time": "2024-11-30T21:32:26.153Z"
   },
   {
    "duration": 10,
    "start_time": "2024-11-30T21:32:26.158Z"
   },
   {
    "duration": 10,
    "start_time": "2024-11-30T21:32:26.169Z"
   },
   {
    "duration": 3,
    "start_time": "2024-11-30T21:32:26.181Z"
   },
   {
    "duration": 6,
    "start_time": "2024-11-30T21:32:26.185Z"
   },
   {
    "duration": 5,
    "start_time": "2024-11-30T21:32:26.193Z"
   },
   {
    "duration": 47,
    "start_time": "2024-11-30T21:32:26.200Z"
   },
   {
    "duration": 28,
    "start_time": "2024-11-30T21:32:26.249Z"
   },
   {
    "duration": 9,
    "start_time": "2024-11-30T21:32:26.279Z"
   },
   {
    "duration": 4,
    "start_time": "2024-11-30T21:32:26.289Z"
   },
   {
    "duration": 14,
    "start_time": "2024-11-30T21:32:26.297Z"
   },
   {
    "duration": 34,
    "start_time": "2024-11-30T21:32:26.313Z"
   },
   {
    "duration": 283,
    "start_time": "2024-11-30T21:32:26.348Z"
   },
   {
    "duration": 281,
    "start_time": "2024-11-30T21:32:26.633Z"
   },
   {
    "duration": 660,
    "start_time": "2024-11-30T21:32:26.916Z"
   },
   {
    "duration": 0,
    "start_time": "2024-11-30T21:32:27.577Z"
   },
   {
    "duration": 0,
    "start_time": "2024-11-30T21:32:27.578Z"
   },
   {
    "duration": 0,
    "start_time": "2024-11-30T21:32:27.581Z"
   },
   {
    "duration": 0,
    "start_time": "2024-11-30T21:32:27.582Z"
   },
   {
    "duration": 0,
    "start_time": "2024-11-30T21:32:27.584Z"
   },
   {
    "duration": 0,
    "start_time": "2024-11-30T21:32:27.585Z"
   },
   {
    "duration": 0,
    "start_time": "2024-11-30T21:32:27.585Z"
   },
   {
    "duration": 0,
    "start_time": "2024-11-30T21:32:27.586Z"
   },
   {
    "duration": 0,
    "start_time": "2024-11-30T21:32:27.587Z"
   },
   {
    "duration": 0,
    "start_time": "2024-11-30T21:32:27.588Z"
   },
   {
    "duration": 0,
    "start_time": "2024-11-30T21:32:27.589Z"
   },
   {
    "duration": 0,
    "start_time": "2024-11-30T21:32:27.591Z"
   },
   {
    "duration": 0,
    "start_time": "2024-11-30T21:32:27.591Z"
   },
   {
    "duration": 0,
    "start_time": "2024-11-30T21:32:27.592Z"
   },
   {
    "duration": 0,
    "start_time": "2024-11-30T21:32:27.594Z"
   },
   {
    "duration": 0,
    "start_time": "2024-11-30T21:32:27.596Z"
   },
   {
    "duration": 0,
    "start_time": "2024-11-30T21:32:27.597Z"
   },
   {
    "duration": 58,
    "start_time": "2024-11-30T21:36:06.659Z"
   },
   {
    "duration": 17,
    "start_time": "2024-11-30T21:42:22.886Z"
   },
   {
    "duration": 49,
    "start_time": "2024-11-30T21:43:12.734Z"
   },
   {
    "duration": 55,
    "start_time": "2024-11-30T21:51:29.218Z"
   },
   {
    "duration": 6,
    "start_time": "2024-11-30T21:51:50.644Z"
   },
   {
    "duration": 4,
    "start_time": "2024-11-30T21:51:58.389Z"
   },
   {
    "duration": 47,
    "start_time": "2024-11-30T21:52:05.199Z"
   },
   {
    "duration": 66,
    "start_time": "2024-11-30T21:52:32.397Z"
   },
   {
    "duration": 21,
    "start_time": "2024-11-30T22:01:09.735Z"
   },
   {
    "duration": 52,
    "start_time": "2024-11-30T22:02:01.462Z"
   },
   {
    "duration": 10,
    "start_time": "2024-11-30T22:03:33.034Z"
   },
   {
    "duration": 12,
    "start_time": "2024-11-30T22:03:57.551Z"
   },
   {
    "duration": 4,
    "start_time": "2024-11-30T22:04:00.614Z"
   },
   {
    "duration": 6,
    "start_time": "2024-11-30T22:04:01.760Z"
   },
   {
    "duration": 19,
    "start_time": "2024-11-30T22:04:02.827Z"
   },
   {
    "duration": 3,
    "start_time": "2024-11-30T22:04:05.153Z"
   },
   {
    "duration": 4,
    "start_time": "2024-11-30T22:04:06.593Z"
   },
   {
    "duration": 4,
    "start_time": "2024-11-30T22:04:07.944Z"
   },
   {
    "duration": 3,
    "start_time": "2024-11-30T22:04:09.051Z"
   },
   {
    "duration": 3,
    "start_time": "2024-11-30T22:04:10.554Z"
   },
   {
    "duration": 4,
    "start_time": "2024-11-30T22:04:11.552Z"
   },
   {
    "duration": 258,
    "start_time": "2024-11-30T22:04:13.581Z"
   },
   {
    "duration": 75,
    "start_time": "2024-11-30T22:04:28.067Z"
   },
   {
    "duration": 1021,
    "start_time": "2024-11-30T22:04:37.603Z"
   },
   {
    "duration": 25,
    "start_time": "2024-11-30T22:04:38.626Z"
   },
   {
    "duration": 16,
    "start_time": "2024-11-30T22:04:38.653Z"
   },
   {
    "duration": 3,
    "start_time": "2024-11-30T22:04:38.672Z"
   },
   {
    "duration": 12,
    "start_time": "2024-11-30T22:04:38.678Z"
   },
   {
    "duration": 10,
    "start_time": "2024-11-30T22:04:38.692Z"
   },
   {
    "duration": 3,
    "start_time": "2024-11-30T22:04:38.704Z"
   },
   {
    "duration": 35,
    "start_time": "2024-11-30T22:04:38.708Z"
   },
   {
    "duration": 6,
    "start_time": "2024-11-30T22:04:38.745Z"
   },
   {
    "duration": 11,
    "start_time": "2024-11-30T22:04:38.755Z"
   },
   {
    "duration": 27,
    "start_time": "2024-11-30T22:04:38.767Z"
   },
   {
    "duration": 9,
    "start_time": "2024-11-30T22:04:38.797Z"
   },
   {
    "duration": 3,
    "start_time": "2024-11-30T22:04:38.808Z"
   },
   {
    "duration": 14,
    "start_time": "2024-11-30T22:04:38.842Z"
   },
   {
    "duration": 7,
    "start_time": "2024-11-30T22:04:38.858Z"
   },
   {
    "duration": 278,
    "start_time": "2024-11-30T22:04:38.866Z"
   },
   {
    "duration": 280,
    "start_time": "2024-11-30T22:04:39.146Z"
   },
   {
    "duration": 135,
    "start_time": "2024-11-30T22:04:39.428Z"
   },
   {
    "duration": 654,
    "start_time": "2024-11-30T22:04:39.566Z"
   },
   {
    "duration": 0,
    "start_time": "2024-11-30T22:04:40.223Z"
   },
   {
    "duration": 0,
    "start_time": "2024-11-30T22:04:40.223Z"
   },
   {
    "duration": 0,
    "start_time": "2024-11-30T22:04:40.224Z"
   },
   {
    "duration": 0,
    "start_time": "2024-11-30T22:04:40.225Z"
   },
   {
    "duration": 0,
    "start_time": "2024-11-30T22:04:40.226Z"
   },
   {
    "duration": 0,
    "start_time": "2024-11-30T22:04:40.227Z"
   },
   {
    "duration": 0,
    "start_time": "2024-11-30T22:04:40.228Z"
   },
   {
    "duration": 0,
    "start_time": "2024-11-30T22:04:40.243Z"
   },
   {
    "duration": 0,
    "start_time": "2024-11-30T22:04:40.244Z"
   },
   {
    "duration": 0,
    "start_time": "2024-11-30T22:04:40.245Z"
   },
   {
    "duration": 0,
    "start_time": "2024-11-30T22:04:40.246Z"
   },
   {
    "duration": 0,
    "start_time": "2024-11-30T22:04:40.247Z"
   },
   {
    "duration": 0,
    "start_time": "2024-11-30T22:04:40.249Z"
   },
   {
    "duration": 0,
    "start_time": "2024-11-30T22:04:40.250Z"
   },
   {
    "duration": 0,
    "start_time": "2024-11-30T22:04:40.252Z"
   },
   {
    "duration": 0,
    "start_time": "2024-11-30T22:04:40.253Z"
   },
   {
    "duration": 11,
    "start_time": "2024-11-30T22:06:52.308Z"
   },
   {
    "duration": 3,
    "start_time": "2024-11-30T22:06:55.293Z"
   },
   {
    "duration": 6,
    "start_time": "2024-11-30T22:06:57.343Z"
   },
   {
    "duration": 18,
    "start_time": "2024-11-30T22:06:59.099Z"
   },
   {
    "duration": 3,
    "start_time": "2024-11-30T22:07:02.547Z"
   },
   {
    "duration": 4,
    "start_time": "2024-11-30T22:07:03.642Z"
   },
   {
    "duration": 3,
    "start_time": "2024-11-30T22:07:04.506Z"
   },
   {
    "duration": 4,
    "start_time": "2024-11-30T22:07:05.371Z"
   },
   {
    "duration": 3,
    "start_time": "2024-11-30T22:07:06.388Z"
   },
   {
    "duration": 3,
    "start_time": "2024-11-30T22:07:08.001Z"
   },
   {
    "duration": 260,
    "start_time": "2024-11-30T22:07:08.997Z"
   },
   {
    "duration": 8,
    "start_time": "2024-11-30T22:08:39.806Z"
   },
   {
    "duration": 4,
    "start_time": "2024-11-30T22:08:43.672Z"
   },
   {
    "duration": 3,
    "start_time": "2024-11-30T22:08:44.829Z"
   },
   {
    "duration": 13,
    "start_time": "2024-11-30T22:09:19.036Z"
   },
   {
    "duration": 3,
    "start_time": "2024-11-30T22:09:21.011Z"
   },
   {
    "duration": 1000,
    "start_time": "2024-11-30T22:09:28.845Z"
   },
   {
    "duration": 16,
    "start_time": "2024-11-30T22:09:29.848Z"
   },
   {
    "duration": 12,
    "start_time": "2024-11-30T22:09:29.865Z"
   },
   {
    "duration": 3,
    "start_time": "2024-11-30T22:09:29.879Z"
   },
   {
    "duration": 10,
    "start_time": "2024-11-30T22:09:29.884Z"
   },
   {
    "duration": 9,
    "start_time": "2024-11-30T22:09:29.896Z"
   },
   {
    "duration": 35,
    "start_time": "2024-11-30T22:09:29.907Z"
   },
   {
    "duration": 7,
    "start_time": "2024-11-30T22:09:29.944Z"
   },
   {
    "duration": 7,
    "start_time": "2024-11-30T22:09:29.953Z"
   },
   {
    "duration": 8,
    "start_time": "2024-11-30T22:09:29.963Z"
   },
   {
    "duration": 27,
    "start_time": "2024-11-30T22:09:29.972Z"
   },
   {
    "duration": 9,
    "start_time": "2024-11-30T22:09:30.001Z"
   },
   {
    "duration": 32,
    "start_time": "2024-11-30T22:09:30.011Z"
   },
   {
    "duration": 14,
    "start_time": "2024-11-30T22:09:30.044Z"
   },
   {
    "duration": 6,
    "start_time": "2024-11-30T22:09:30.060Z"
   },
   {
    "duration": 283,
    "start_time": "2024-11-30T22:09:30.067Z"
   },
   {
    "duration": 269,
    "start_time": "2024-11-30T22:09:30.354Z"
   },
   {
    "duration": 147,
    "start_time": "2024-11-30T22:09:30.625Z"
   },
   {
    "duration": 13,
    "start_time": "2024-11-30T22:09:30.774Z"
   },
   {
    "duration": 3,
    "start_time": "2024-11-30T22:09:30.788Z"
   },
   {
    "duration": 6,
    "start_time": "2024-11-30T22:09:30.793Z"
   },
   {
    "duration": 15,
    "start_time": "2024-11-30T22:09:30.800Z"
   },
   {
    "duration": 26,
    "start_time": "2024-11-30T22:09:30.818Z"
   },
   {
    "duration": 4,
    "start_time": "2024-11-30T22:09:30.846Z"
   },
   {
    "duration": 3,
    "start_time": "2024-11-30T22:09:30.852Z"
   },
   {
    "duration": 3,
    "start_time": "2024-11-30T22:09:30.858Z"
   },
   {
    "duration": 4,
    "start_time": "2024-11-30T22:09:30.863Z"
   },
   {
    "duration": 5,
    "start_time": "2024-11-30T22:09:30.872Z"
   },
   {
    "duration": 27,
    "start_time": "2024-11-30T22:09:30.879Z"
   },
   {
    "duration": 143,
    "start_time": "2024-11-30T22:09:30.909Z"
   },
   {
    "duration": 13,
    "start_time": "2024-11-30T22:09:31.054Z"
   },
   {
    "duration": 583,
    "start_time": "2024-11-30T22:09:31.069Z"
   },
   {
    "duration": 270,
    "start_time": "2024-11-30T22:09:31.654Z"
   },
   {
    "duration": 46,
    "start_time": "2024-11-30T22:09:31.925Z"
   },
   {
    "duration": 2,
    "start_time": "2024-11-30T22:09:31.973Z"
   },
   {
    "duration": 227,
    "start_time": "2024-11-30T22:10:13.644Z"
   },
   {
    "duration": 1030,
    "start_time": "2024-11-30T22:10:53.500Z"
   },
   {
    "duration": 20,
    "start_time": "2024-11-30T22:10:54.532Z"
   },
   {
    "duration": 13,
    "start_time": "2024-11-30T22:10:54.553Z"
   },
   {
    "duration": 4,
    "start_time": "2024-11-30T22:10:54.569Z"
   },
   {
    "duration": 11,
    "start_time": "2024-11-30T22:10:54.575Z"
   },
   {
    "duration": 11,
    "start_time": "2024-11-30T22:10:54.587Z"
   },
   {
    "duration": 5,
    "start_time": "2024-11-30T22:10:54.599Z"
   },
   {
    "duration": 6,
    "start_time": "2024-11-30T22:10:54.606Z"
   },
   {
    "duration": 7,
    "start_time": "2024-11-30T22:10:54.643Z"
   },
   {
    "duration": 10,
    "start_time": "2024-11-30T22:10:54.654Z"
   },
   {
    "duration": 27,
    "start_time": "2024-11-30T22:10:54.666Z"
   },
   {
    "duration": 9,
    "start_time": "2024-11-30T22:10:54.694Z"
   },
   {
    "duration": 3,
    "start_time": "2024-11-30T22:10:54.705Z"
   },
   {
    "duration": 43,
    "start_time": "2024-11-30T22:10:54.710Z"
   },
   {
    "duration": 7,
    "start_time": "2024-11-30T22:10:54.754Z"
   },
   {
    "duration": 280,
    "start_time": "2024-11-30T22:10:54.764Z"
   },
   {
    "duration": 271,
    "start_time": "2024-11-30T22:10:55.047Z"
   },
   {
    "duration": 130,
    "start_time": "2024-11-30T22:10:55.320Z"
   },
   {
    "duration": 13,
    "start_time": "2024-11-30T22:10:55.452Z"
   },
   {
    "duration": 3,
    "start_time": "2024-11-30T22:10:55.467Z"
   },
   {
    "duration": 5,
    "start_time": "2024-11-30T22:10:55.471Z"
   },
   {
    "duration": 14,
    "start_time": "2024-11-30T22:10:55.478Z"
   },
   {
    "duration": 3,
    "start_time": "2024-11-30T22:10:55.493Z"
   },
   {
    "duration": 4,
    "start_time": "2024-11-30T22:10:55.498Z"
   },
   {
    "duration": 3,
    "start_time": "2024-11-30T22:10:55.542Z"
   },
   {
    "duration": 4,
    "start_time": "2024-11-30T22:10:55.547Z"
   },
   {
    "duration": 3,
    "start_time": "2024-11-30T22:10:55.553Z"
   },
   {
    "duration": 4,
    "start_time": "2024-11-30T22:10:55.559Z"
   },
   {
    "duration": 28,
    "start_time": "2024-11-30T22:10:55.564Z"
   },
   {
    "duration": 138,
    "start_time": "2024-11-30T22:10:55.594Z"
   },
   {
    "duration": 17,
    "start_time": "2024-11-30T22:10:55.734Z"
   },
   {
    "duration": 575,
    "start_time": "2024-11-30T22:10:55.752Z"
   },
   {
    "duration": 275,
    "start_time": "2024-11-30T22:10:56.328Z"
   },
   {
    "duration": 52,
    "start_time": "2024-11-30T22:10:56.604Z"
   },
   {
    "duration": 6,
    "start_time": "2024-11-30T22:10:56.657Z"
   },
   {
    "duration": 11,
    "start_time": "2024-11-30T22:11:23.117Z"
   },
   {
    "duration": 989,
    "start_time": "2024-11-30T22:11:37.340Z"
   },
   {
    "duration": 19,
    "start_time": "2024-11-30T22:11:38.331Z"
   },
   {
    "duration": 12,
    "start_time": "2024-11-30T22:11:38.353Z"
   },
   {
    "duration": 4,
    "start_time": "2024-11-30T22:11:38.368Z"
   },
   {
    "duration": 10,
    "start_time": "2024-11-30T22:11:38.373Z"
   },
   {
    "duration": 10,
    "start_time": "2024-11-30T22:11:38.385Z"
   },
   {
    "duration": 3,
    "start_time": "2024-11-30T22:11:38.396Z"
   },
   {
    "duration": 7,
    "start_time": "2024-11-30T22:11:38.401Z"
   },
   {
    "duration": 6,
    "start_time": "2024-11-30T22:11:38.442Z"
   },
   {
    "duration": 10,
    "start_time": "2024-11-30T22:11:38.450Z"
   },
   {
    "duration": 27,
    "start_time": "2024-11-30T22:11:38.462Z"
   },
   {
    "duration": 8,
    "start_time": "2024-11-30T22:11:38.491Z"
   },
   {
    "duration": 4,
    "start_time": "2024-11-30T22:11:38.501Z"
   },
   {
    "duration": 45,
    "start_time": "2024-11-30T22:11:38.506Z"
   },
   {
    "duration": 6,
    "start_time": "2024-11-30T22:11:38.552Z"
   },
   {
    "duration": 278,
    "start_time": "2024-11-30T22:11:38.560Z"
   },
   {
    "duration": 266,
    "start_time": "2024-11-30T22:11:38.843Z"
   },
   {
    "duration": 135,
    "start_time": "2024-11-30T22:11:39.111Z"
   },
   {
    "duration": 14,
    "start_time": "2024-11-30T22:11:39.248Z"
   },
   {
    "duration": 3,
    "start_time": "2024-11-30T22:11:39.264Z"
   },
   {
    "duration": 7,
    "start_time": "2024-11-30T22:11:39.270Z"
   },
   {
    "duration": 15,
    "start_time": "2024-11-30T22:11:39.278Z"
   },
   {
    "duration": 4,
    "start_time": "2024-11-30T22:11:39.295Z"
   },
   {
    "duration": 4,
    "start_time": "2024-11-30T22:11:39.300Z"
   },
   {
    "duration": 38,
    "start_time": "2024-11-30T22:11:39.306Z"
   },
   {
    "duration": 4,
    "start_time": "2024-11-30T22:11:39.345Z"
   },
   {
    "duration": 3,
    "start_time": "2024-11-30T22:11:39.352Z"
   },
   {
    "duration": 3,
    "start_time": "2024-11-30T22:11:39.360Z"
   },
   {
    "duration": 28,
    "start_time": "2024-11-30T22:11:39.365Z"
   },
   {
    "duration": 138,
    "start_time": "2024-11-30T22:11:39.395Z"
   },
   {
    "duration": 576,
    "start_time": "2024-11-30T22:11:39.535Z"
   },
   {
    "duration": 277,
    "start_time": "2024-11-30T22:11:40.113Z"
   },
   {
    "duration": 254,
    "start_time": "2024-11-30T22:11:40.392Z"
   },
   {
    "duration": 0,
    "start_time": "2024-11-30T22:11:40.648Z"
   },
   {
    "duration": 0,
    "start_time": "2024-11-30T22:11:40.649Z"
   },
   {
    "duration": 44,
    "start_time": "2024-11-30T22:12:02.297Z"
   },
   {
    "duration": 15,
    "start_time": "2024-11-30T22:12:57.212Z"
   },
   {
    "duration": 10,
    "start_time": "2024-11-30T22:13:01.099Z"
   },
   {
    "duration": 42,
    "start_time": "2024-11-30T22:13:04.526Z"
   },
   {
    "duration": 1097,
    "start_time": "2024-11-30T22:13:59.927Z"
   },
   {
    "duration": 46,
    "start_time": "2024-11-30T22:14:36.946Z"
   },
   {
    "duration": 1077,
    "start_time": "2024-11-30T22:17:57.398Z"
   },
   {
    "duration": 49,
    "start_time": "2024-11-30T22:18:31.746Z"
   },
   {
    "duration": 40,
    "start_time": "2024-11-30T22:18:54.079Z"
   },
   {
    "duration": 1057,
    "start_time": "2024-11-30T22:18:55.467Z"
   },
   {
    "duration": 46,
    "start_time": "2024-11-30T22:18:58.434Z"
   },
   {
    "duration": 49,
    "start_time": "2024-11-30T22:20:15.172Z"
   },
   {
    "duration": 44,
    "start_time": "2024-11-30T22:20:19.102Z"
   },
   {
    "duration": 1086,
    "start_time": "2024-11-30T22:20:20.740Z"
   },
   {
    "duration": 46,
    "start_time": "2024-11-30T22:20:23.212Z"
   },
   {
    "duration": 53,
    "start_time": "2024-11-30T22:26:27.195Z"
   },
   {
    "duration": 28,
    "start_time": "2024-11-30T22:26:42.529Z"
   },
   {
    "duration": 45,
    "start_time": "2024-11-30T22:27:49.348Z"
   },
   {
    "duration": 266,
    "start_time": "2024-11-30T22:27:53.992Z"
   },
   {
    "duration": 565,
    "start_time": "2024-11-30T22:27:56.923Z"
   },
   {
    "duration": 155,
    "start_time": "2024-12-02T02:59:55.853Z"
   },
   {
    "duration": 2769,
    "start_time": "2024-12-02T03:00:11.205Z"
   },
   {
    "duration": 28,
    "start_time": "2024-12-02T03:00:13.976Z"
   },
   {
    "duration": 14,
    "start_time": "2024-12-02T03:00:14.006Z"
   },
   {
    "duration": 3,
    "start_time": "2024-12-02T03:00:14.022Z"
   },
   {
    "duration": 9,
    "start_time": "2024-12-02T03:00:14.027Z"
   },
   {
    "duration": 11,
    "start_time": "2024-12-02T03:00:14.038Z"
   },
   {
    "duration": 3,
    "start_time": "2024-12-02T03:00:14.051Z"
   },
   {
    "duration": 32,
    "start_time": "2024-12-02T03:00:14.056Z"
   },
   {
    "duration": 7,
    "start_time": "2024-12-02T03:00:14.089Z"
   },
   {
    "duration": 9,
    "start_time": "2024-12-02T03:00:14.099Z"
   },
   {
    "duration": 28,
    "start_time": "2024-12-02T03:00:14.110Z"
   },
   {
    "duration": 9,
    "start_time": "2024-12-02T03:00:14.140Z"
   },
   {
    "duration": 3,
    "start_time": "2024-12-02T03:00:14.152Z"
   },
   {
    "duration": 14,
    "start_time": "2024-12-02T03:00:14.187Z"
   },
   {
    "duration": 6,
    "start_time": "2024-12-02T03:00:14.203Z"
   },
   {
    "duration": 285,
    "start_time": "2024-12-02T03:00:14.211Z"
   },
   {
    "duration": 251,
    "start_time": "2024-12-02T03:00:14.498Z"
   },
   {
    "duration": 182,
    "start_time": "2024-12-02T03:00:14.751Z"
   },
   {
    "duration": 11,
    "start_time": "2024-12-02T03:00:14.935Z"
   },
   {
    "duration": 3,
    "start_time": "2024-12-02T03:00:14.948Z"
   },
   {
    "duration": 6,
    "start_time": "2024-12-02T03:00:14.953Z"
   },
   {
    "duration": 39,
    "start_time": "2024-12-02T03:00:14.960Z"
   },
   {
    "duration": 4,
    "start_time": "2024-12-02T03:00:15.001Z"
   },
   {
    "duration": 4,
    "start_time": "2024-12-02T03:00:15.007Z"
   },
   {
    "duration": 4,
    "start_time": "2024-12-02T03:00:15.012Z"
   },
   {
    "duration": 4,
    "start_time": "2024-12-02T03:00:15.017Z"
   },
   {
    "duration": 3,
    "start_time": "2024-12-02T03:00:15.023Z"
   },
   {
    "duration": 4,
    "start_time": "2024-12-02T03:00:15.031Z"
   },
   {
    "duration": 61,
    "start_time": "2024-12-02T03:00:15.037Z"
   },
   {
    "duration": 117,
    "start_time": "2024-12-02T03:00:15.100Z"
   },
   {
    "duration": 567,
    "start_time": "2024-12-02T03:00:15.220Z"
   },
   {
    "duration": 265,
    "start_time": "2024-12-02T03:00:15.789Z"
   },
   {
    "duration": 50,
    "start_time": "2024-12-02T03:00:16.056Z"
   },
   {
    "duration": 12,
    "start_time": "2024-12-02T03:00:16.108Z"
   },
   {
    "duration": 169,
    "start_time": "2024-12-02T03:00:16.122Z"
   },
   {
    "duration": 1138,
    "start_time": "2024-12-02T03:00:16.292Z"
   },
   {
    "duration": 57,
    "start_time": "2024-12-02T03:00:17.432Z"
   },
   {
    "duration": 399,
    "start_time": "2024-12-02T03:00:17.491Z"
   },
   {
    "duration": 1154,
    "start_time": "2024-12-02T03:02:05.806Z"
   },
   {
    "duration": 18,
    "start_time": "2024-12-02T03:02:06.962Z"
   },
   {
    "duration": 13,
    "start_time": "2024-12-02T03:02:06.982Z"
   },
   {
    "duration": 3,
    "start_time": "2024-12-02T03:02:06.999Z"
   },
   {
    "duration": 10,
    "start_time": "2024-12-02T03:02:07.003Z"
   },
   {
    "duration": 13,
    "start_time": "2024-12-02T03:02:07.015Z"
   },
   {
    "duration": 7,
    "start_time": "2024-12-02T03:02:07.029Z"
   },
   {
    "duration": 9,
    "start_time": "2024-12-02T03:02:07.037Z"
   },
   {
    "duration": 7,
    "start_time": "2024-12-02T03:02:07.049Z"
   },
   {
    "duration": 9,
    "start_time": "2024-12-02T03:02:07.086Z"
   },
   {
    "duration": 29,
    "start_time": "2024-12-02T03:02:07.097Z"
   },
   {
    "duration": 11,
    "start_time": "2024-12-02T03:02:07.128Z"
   },
   {
    "duration": 6,
    "start_time": "2024-12-02T03:02:07.140Z"
   },
   {
    "duration": 41,
    "start_time": "2024-12-02T03:02:07.147Z"
   },
   {
    "duration": 7,
    "start_time": "2024-12-02T03:02:07.190Z"
   },
   {
    "duration": 289,
    "start_time": "2024-12-02T03:02:07.200Z"
   },
   {
    "duration": 262,
    "start_time": "2024-12-02T03:02:07.490Z"
   },
   {
    "duration": 140,
    "start_time": "2024-12-02T03:02:07.754Z"
   },
   {
    "duration": 11,
    "start_time": "2024-12-02T03:02:07.896Z"
   },
   {
    "duration": 3,
    "start_time": "2024-12-02T03:02:07.909Z"
   },
   {
    "duration": 5,
    "start_time": "2024-12-02T03:02:07.913Z"
   },
   {
    "duration": 13,
    "start_time": "2024-12-02T03:02:07.920Z"
   },
   {
    "duration": 4,
    "start_time": "2024-12-02T03:02:07.935Z"
   },
   {
    "duration": 3,
    "start_time": "2024-12-02T03:02:07.941Z"
   },
   {
    "duration": 4,
    "start_time": "2024-12-02T03:02:07.945Z"
   },
   {
    "duration": 36,
    "start_time": "2024-12-02T03:02:07.951Z"
   },
   {
    "duration": 3,
    "start_time": "2024-12-02T03:02:07.989Z"
   },
   {
    "duration": 3,
    "start_time": "2024-12-02T03:02:07.996Z"
   },
   {
    "duration": 30,
    "start_time": "2024-12-02T03:02:08.001Z"
   },
   {
    "duration": 139,
    "start_time": "2024-12-02T03:02:08.032Z"
   },
   {
    "duration": 572,
    "start_time": "2024-12-02T03:02:08.173Z"
   },
   {
    "duration": 302,
    "start_time": "2024-12-02T03:02:08.747Z"
   },
   {
    "duration": 65,
    "start_time": "2024-12-02T03:02:09.052Z"
   },
   {
    "duration": 16,
    "start_time": "2024-12-02T03:02:09.119Z"
   },
   {
    "duration": 118,
    "start_time": "2024-12-02T03:02:09.189Z"
   },
   {
    "duration": 1164,
    "start_time": "2024-12-02T03:02:09.309Z"
   },
   {
    "duration": 50,
    "start_time": "2024-12-02T03:02:10.475Z"
   },
   {
    "duration": 66,
    "start_time": "2024-12-02T03:02:10.527Z"
   },
   {
    "duration": 175,
    "start_time": "2024-12-02T14:38:04.878Z"
   },
   {
    "duration": 2689,
    "start_time": "2024-12-02T14:38:17.400Z"
   },
   {
    "duration": 28,
    "start_time": "2024-12-02T14:38:20.091Z"
   },
   {
    "duration": 13,
    "start_time": "2024-12-02T14:38:20.120Z"
   },
   {
    "duration": 3,
    "start_time": "2024-12-02T14:38:20.135Z"
   },
   {
    "duration": 10,
    "start_time": "2024-12-02T14:38:20.139Z"
   },
   {
    "duration": 11,
    "start_time": "2024-12-02T14:38:20.150Z"
   },
   {
    "duration": 3,
    "start_time": "2024-12-02T14:38:20.162Z"
   },
   {
    "duration": 6,
    "start_time": "2024-12-02T14:38:20.167Z"
   },
   {
    "duration": 38,
    "start_time": "2024-12-02T14:38:20.174Z"
   },
   {
    "duration": 10,
    "start_time": "2024-12-02T14:38:20.216Z"
   },
   {
    "duration": 29,
    "start_time": "2024-12-02T14:38:20.228Z"
   },
   {
    "duration": 10,
    "start_time": "2024-12-02T14:38:20.258Z"
   },
   {
    "duration": 3,
    "start_time": "2024-12-02T14:38:20.271Z"
   },
   {
    "duration": 34,
    "start_time": "2024-12-02T14:38:20.282Z"
   },
   {
    "duration": 6,
    "start_time": "2024-12-02T14:38:20.317Z"
   },
   {
    "duration": 309,
    "start_time": "2024-12-02T14:38:20.325Z"
   },
   {
    "duration": 259,
    "start_time": "2024-12-02T14:38:20.635Z"
   },
   {
    "duration": 133,
    "start_time": "2024-12-02T14:38:20.896Z"
   },
   {
    "duration": 12,
    "start_time": "2024-12-02T14:38:21.032Z"
   },
   {
    "duration": 3,
    "start_time": "2024-12-02T14:38:21.046Z"
   },
   {
    "duration": 6,
    "start_time": "2024-12-02T14:38:21.050Z"
   },
   {
    "duration": 14,
    "start_time": "2024-12-02T14:38:21.057Z"
   },
   {
    "duration": 4,
    "start_time": "2024-12-02T14:38:21.073Z"
   },
   {
    "duration": 30,
    "start_time": "2024-12-02T14:38:21.079Z"
   },
   {
    "duration": 3,
    "start_time": "2024-12-02T14:38:21.111Z"
   },
   {
    "duration": 4,
    "start_time": "2024-12-02T14:38:21.116Z"
   },
   {
    "duration": 5,
    "start_time": "2024-12-02T14:38:21.122Z"
   },
   {
    "duration": 3,
    "start_time": "2024-12-02T14:38:21.131Z"
   },
   {
    "duration": 28,
    "start_time": "2024-12-02T14:38:21.136Z"
   },
   {
    "duration": 141,
    "start_time": "2024-12-02T14:38:21.165Z"
   },
   {
    "duration": 562,
    "start_time": "2024-12-02T14:38:21.309Z"
   },
   {
    "duration": 270,
    "start_time": "2024-12-02T14:38:21.873Z"
   },
   {
    "duration": 66,
    "start_time": "2024-12-02T14:38:22.144Z"
   },
   {
    "duration": 236,
    "start_time": "2024-12-02T14:38:22.213Z"
   },
   {
    "duration": 0,
    "start_time": "2024-12-02T14:38:22.451Z"
   },
   {
    "duration": 0,
    "start_time": "2024-12-02T14:38:22.452Z"
   },
   {
    "duration": 0,
    "start_time": "2024-12-02T14:38:22.453Z"
   },
   {
    "duration": 0,
    "start_time": "2024-12-02T14:38:22.455Z"
   },
   {
    "duration": 11,
    "start_time": "2024-12-02T14:39:15.159Z"
   },
   {
    "duration": 13,
    "start_time": "2024-12-02T14:39:18.537Z"
   },
   {
    "duration": 194,
    "start_time": "2024-12-02T14:39:24.340Z"
   },
   {
    "duration": 13,
    "start_time": "2024-12-02T14:39:26.642Z"
   },
   {
    "duration": 12,
    "start_time": "2024-12-02T14:39:34.521Z"
   },
   {
    "duration": 4,
    "start_time": "2024-12-02T15:00:28.695Z"
   },
   {
    "duration": 15,
    "start_time": "2024-12-02T15:00:45.813Z"
   },
   {
    "duration": 5,
    "start_time": "2024-12-02T15:00:57.319Z"
   },
   {
    "duration": 4,
    "start_time": "2024-12-02T15:01:09.663Z"
   },
   {
    "duration": 187,
    "start_time": "2024-12-02T15:01:26.444Z"
   },
   {
    "duration": 5,
    "start_time": "2024-12-02T15:01:48.145Z"
   },
   {
    "duration": 5,
    "start_time": "2024-12-02T15:09:03.915Z"
   },
   {
    "duration": 4,
    "start_time": "2024-12-02T15:09:10.566Z"
   },
   {
    "duration": 4,
    "start_time": "2024-12-02T15:09:28.539Z"
   },
   {
    "duration": 123951,
    "start_time": "2024-12-02T15:09:39.006Z"
   },
   {
    "duration": 0,
    "start_time": "2024-12-02T15:11:42.979Z"
   },
   {
    "duration": 3,
    "start_time": "2024-12-02T15:12:06.841Z"
   },
   {
    "duration": 5,
    "start_time": "2024-12-02T15:12:11.523Z"
   },
   {
    "duration": 61,
    "start_time": "2024-12-02T15:12:22.892Z"
   },
   {
    "duration": 1067,
    "start_time": "2024-12-02T15:13:04.029Z"
   },
   {
    "duration": 16,
    "start_time": "2024-12-02T15:13:05.099Z"
   },
   {
    "duration": 12,
    "start_time": "2024-12-02T15:13:05.116Z"
   },
   {
    "duration": 3,
    "start_time": "2024-12-02T15:13:05.131Z"
   },
   {
    "duration": 10,
    "start_time": "2024-12-02T15:13:05.136Z"
   },
   {
    "duration": 10,
    "start_time": "2024-12-02T15:13:05.148Z"
   },
   {
    "duration": 5,
    "start_time": "2024-12-02T15:13:05.159Z"
   },
   {
    "duration": 7,
    "start_time": "2024-12-02T15:13:05.165Z"
   },
   {
    "duration": 40,
    "start_time": "2024-12-02T15:13:05.174Z"
   },
   {
    "duration": 10,
    "start_time": "2024-12-02T15:13:05.216Z"
   },
   {
    "duration": 6,
    "start_time": "2024-12-02T15:13:05.228Z"
   },
   {
    "duration": 159,
    "start_time": "2024-12-02T15:13:05.235Z"
   },
   {
    "duration": 67,
    "start_time": "2024-12-02T15:13:05.396Z"
   },
   {
    "duration": 27,
    "start_time": "2024-12-02T15:13:05.467Z"
   },
   {
    "duration": 11,
    "start_time": "2024-12-02T15:13:05.509Z"
   },
   {
    "duration": 3,
    "start_time": "2024-12-02T15:13:05.522Z"
   },
   {
    "duration": 13,
    "start_time": "2024-12-02T15:13:05.527Z"
   },
   {
    "duration": 6,
    "start_time": "2024-12-02T15:13:05.541Z"
   },
   {
    "duration": 270,
    "start_time": "2024-12-02T15:13:05.548Z"
   },
   {
    "duration": 264,
    "start_time": "2024-12-02T15:13:05.821Z"
   },
   {
    "duration": 24,
    "start_time": "2024-12-02T15:13:06.087Z"
   },
   {
    "duration": 3,
    "start_time": "2024-12-02T15:13:06.113Z"
   },
   {
    "duration": 6,
    "start_time": "2024-12-02T15:13:06.118Z"
   },
   {
    "duration": 15,
    "start_time": "2024-12-02T15:13:06.126Z"
   },
   {
    "duration": 3,
    "start_time": "2024-12-02T15:13:06.143Z"
   },
   {
    "duration": 4,
    "start_time": "2024-12-02T15:13:06.148Z"
   },
   {
    "duration": 4,
    "start_time": "2024-12-02T15:13:06.153Z"
   },
   {
    "duration": 3,
    "start_time": "2024-12-02T15:13:06.159Z"
   },
   {
    "duration": 48,
    "start_time": "2024-12-02T15:13:06.164Z"
   },
   {
    "duration": 3,
    "start_time": "2024-12-02T15:13:06.214Z"
   },
   {
    "duration": 29,
    "start_time": "2024-12-02T15:13:06.218Z"
   },
   {
    "duration": 128,
    "start_time": "2024-12-02T15:13:06.250Z"
   },
   {
    "duration": 567,
    "start_time": "2024-12-02T15:13:06.380Z"
   },
   {
    "duration": 277,
    "start_time": "2024-12-02T15:13:06.948Z"
   },
   {
    "duration": 49,
    "start_time": "2024-12-02T15:13:07.228Z"
   },
   {
    "duration": 4,
    "start_time": "2024-12-02T15:13:07.313Z"
   },
   {
    "duration": 331,
    "start_time": "2024-12-02T15:13:07.318Z"
   },
   {
    "duration": 0,
    "start_time": "2024-12-02T15:13:07.651Z"
   },
   {
    "duration": 0,
    "start_time": "2024-12-02T15:13:07.653Z"
   },
   {
    "duration": 0,
    "start_time": "2024-12-02T15:13:07.654Z"
   },
   {
    "duration": 126,
    "start_time": "2024-12-02T15:13:10.265Z"
   },
   {
    "duration": 1037,
    "start_time": "2024-12-02T15:14:00.184Z"
   },
   {
    "duration": 16,
    "start_time": "2024-12-02T15:14:01.224Z"
   },
   {
    "duration": 14,
    "start_time": "2024-12-02T15:14:01.241Z"
   },
   {
    "duration": 3,
    "start_time": "2024-12-02T15:14:01.257Z"
   },
   {
    "duration": 11,
    "start_time": "2024-12-02T15:14:01.263Z"
   },
   {
    "duration": 40,
    "start_time": "2024-12-02T15:14:01.276Z"
   },
   {
    "duration": 5,
    "start_time": "2024-12-02T15:14:01.319Z"
   },
   {
    "duration": 8,
    "start_time": "2024-12-02T15:14:01.326Z"
   },
   {
    "duration": 6,
    "start_time": "2024-12-02T15:14:01.337Z"
   },
   {
    "duration": 10,
    "start_time": "2024-12-02T15:14:01.345Z"
   },
   {
    "duration": 5,
    "start_time": "2024-12-02T15:14:01.357Z"
   },
   {
    "duration": 172,
    "start_time": "2024-12-02T15:14:01.365Z"
   },
   {
    "duration": 76,
    "start_time": "2024-12-02T15:14:01.540Z"
   },
   {
    "duration": 30,
    "start_time": "2024-12-02T15:14:01.620Z"
   },
   {
    "duration": 10,
    "start_time": "2024-12-02T15:14:01.652Z"
   },
   {
    "duration": 3,
    "start_time": "2024-12-02T15:14:01.664Z"
   },
   {
    "duration": 44,
    "start_time": "2024-12-02T15:14:01.669Z"
   },
   {
    "duration": 6,
    "start_time": "2024-12-02T15:14:01.716Z"
   },
   {
    "duration": 13,
    "start_time": "2024-12-02T15:14:01.724Z"
   },
   {
    "duration": 3,
    "start_time": "2024-12-02T15:14:01.739Z"
   },
   {
    "duration": 7,
    "start_time": "2024-12-02T15:14:01.744Z"
   },
   {
    "duration": 15,
    "start_time": "2024-12-02T15:14:01.752Z"
   },
   {
    "duration": 3,
    "start_time": "2024-12-02T15:14:01.769Z"
   },
   {
    "duration": 4,
    "start_time": "2024-12-02T15:14:01.810Z"
   },
   {
    "duration": 4,
    "start_time": "2024-12-02T15:14:01.817Z"
   },
   {
    "duration": 4,
    "start_time": "2024-12-02T15:14:01.822Z"
   },
   {
    "duration": 3,
    "start_time": "2024-12-02T15:14:01.828Z"
   },
   {
    "duration": 3,
    "start_time": "2024-12-02T15:14:01.833Z"
   },
   {
    "duration": 29,
    "start_time": "2024-12-02T15:14:01.838Z"
   },
   {
    "duration": 153,
    "start_time": "2024-12-02T15:14:01.869Z"
   },
   {
    "duration": 568,
    "start_time": "2024-12-02T15:14:02.024Z"
   },
   {
    "duration": 271,
    "start_time": "2024-12-02T15:14:02.594Z"
   },
   {
    "duration": 50,
    "start_time": "2024-12-02T15:14:02.867Z"
   },
   {
    "duration": 6,
    "start_time": "2024-12-02T15:14:02.919Z"
   },
   {
    "duration": 335,
    "start_time": "2024-12-02T15:14:02.926Z"
   },
   {
    "duration": 0,
    "start_time": "2024-12-02T15:14:03.263Z"
   },
   {
    "duration": 0,
    "start_time": "2024-12-02T15:14:03.264Z"
   },
   {
    "duration": 0,
    "start_time": "2024-12-02T15:14:03.266Z"
   },
   {
    "duration": 1077,
    "start_time": "2024-12-02T15:15:04.929Z"
   },
   {
    "duration": 16,
    "start_time": "2024-12-02T15:15:06.009Z"
   },
   {
    "duration": 13,
    "start_time": "2024-12-02T15:15:06.027Z"
   },
   {
    "duration": 3,
    "start_time": "2024-12-02T15:15:06.042Z"
   },
   {
    "duration": 10,
    "start_time": "2024-12-02T15:15:06.046Z"
   },
   {
    "duration": 10,
    "start_time": "2024-12-02T15:15:06.058Z"
   },
   {
    "duration": 3,
    "start_time": "2024-12-02T15:15:06.070Z"
   },
   {
    "duration": 8,
    "start_time": "2024-12-02T15:15:06.109Z"
   },
   {
    "duration": 7,
    "start_time": "2024-12-02T15:15:06.118Z"
   },
   {
    "duration": 8,
    "start_time": "2024-12-02T15:15:06.128Z"
   },
   {
    "duration": 4,
    "start_time": "2024-12-02T15:15:06.138Z"
   },
   {
    "duration": 155,
    "start_time": "2024-12-02T15:15:06.144Z"
   },
   {
    "duration": 66,
    "start_time": "2024-12-02T15:15:06.301Z"
   },
   {
    "duration": 45,
    "start_time": "2024-12-02T15:15:06.369Z"
   },
   {
    "duration": 10,
    "start_time": "2024-12-02T15:15:06.416Z"
   },
   {
    "duration": 4,
    "start_time": "2024-12-02T15:15:06.428Z"
   },
   {
    "duration": 15,
    "start_time": "2024-12-02T15:15:06.433Z"
   },
   {
    "duration": 6,
    "start_time": "2024-12-02T15:15:06.450Z"
   },
   {
    "duration": 12,
    "start_time": "2024-12-02T15:15:06.458Z"
   },
   {
    "duration": 3,
    "start_time": "2024-12-02T15:15:06.472Z"
   },
   {
    "duration": 7,
    "start_time": "2024-12-02T15:15:06.510Z"
   },
   {
    "duration": 15,
    "start_time": "2024-12-02T15:15:06.519Z"
   },
   {
    "duration": 4,
    "start_time": "2024-12-02T15:15:06.535Z"
   },
   {
    "duration": 4,
    "start_time": "2024-12-02T15:15:06.540Z"
   },
   {
    "duration": 4,
    "start_time": "2024-12-02T15:15:06.545Z"
   },
   {
    "duration": 3,
    "start_time": "2024-12-02T15:15:06.551Z"
   },
   {
    "duration": 4,
    "start_time": "2024-12-02T15:15:06.556Z"
   },
   {
    "duration": 46,
    "start_time": "2024-12-02T15:15:06.563Z"
   },
   {
    "duration": 28,
    "start_time": "2024-12-02T15:15:06.611Z"
   },
   {
    "duration": 121,
    "start_time": "2024-12-02T15:15:06.641Z"
   },
   {
    "duration": 581,
    "start_time": "2024-12-02T15:15:06.765Z"
   },
   {
    "duration": 283,
    "start_time": "2024-12-02T15:15:07.348Z"
   },
   {
    "duration": 44,
    "start_time": "2024-12-02T15:15:07.632Z"
   },
   {
    "duration": 33,
    "start_time": "2024-12-02T15:15:07.677Z"
   },
   {
    "duration": 321,
    "start_time": "2024-12-02T15:15:07.713Z"
   },
   {
    "duration": 0,
    "start_time": "2024-12-02T15:15:08.036Z"
   },
   {
    "duration": 0,
    "start_time": "2024-12-02T15:15:08.037Z"
   },
   {
    "duration": 0,
    "start_time": "2024-12-02T15:15:08.038Z"
   },
   {
    "duration": 1081,
    "start_time": "2024-12-02T15:15:46.388Z"
   },
   {
    "duration": 16,
    "start_time": "2024-12-02T15:15:47.471Z"
   },
   {
    "duration": 21,
    "start_time": "2024-12-02T15:15:47.489Z"
   },
   {
    "duration": 4,
    "start_time": "2024-12-02T15:15:47.513Z"
   },
   {
    "duration": 10,
    "start_time": "2024-12-02T15:15:47.520Z"
   },
   {
    "duration": 10,
    "start_time": "2024-12-02T15:15:47.532Z"
   },
   {
    "duration": 6,
    "start_time": "2024-12-02T15:15:47.543Z"
   },
   {
    "duration": 6,
    "start_time": "2024-12-02T15:15:47.551Z"
   },
   {
    "duration": 7,
    "start_time": "2024-12-02T15:15:47.558Z"
   },
   {
    "duration": 43,
    "start_time": "2024-12-02T15:15:47.567Z"
   },
   {
    "duration": 6,
    "start_time": "2024-12-02T15:15:47.611Z"
   },
   {
    "duration": 150,
    "start_time": "2024-12-02T15:15:47.618Z"
   },
   {
    "duration": 72,
    "start_time": "2024-12-02T15:15:47.770Z"
   },
   {
    "duration": 27,
    "start_time": "2024-12-02T15:15:47.846Z"
   },
   {
    "duration": 9,
    "start_time": "2024-12-02T15:15:47.875Z"
   },
   {
    "duration": 3,
    "start_time": "2024-12-02T15:15:47.887Z"
   },
   {
    "duration": 31,
    "start_time": "2024-12-02T15:15:47.892Z"
   },
   {
    "duration": 6,
    "start_time": "2024-12-02T15:15:47.925Z"
   },
   {
    "duration": 14,
    "start_time": "2024-12-02T15:15:47.933Z"
   },
   {
    "duration": 3,
    "start_time": "2024-12-02T15:15:47.949Z"
   },
   {
    "duration": 6,
    "start_time": "2024-12-02T15:15:47.953Z"
   },
   {
    "duration": 16,
    "start_time": "2024-12-02T15:15:47.960Z"
   },
   {
    "duration": 33,
    "start_time": "2024-12-02T15:15:47.977Z"
   },
   {
    "duration": 4,
    "start_time": "2024-12-02T15:15:48.012Z"
   },
   {
    "duration": 3,
    "start_time": "2024-12-02T15:15:48.018Z"
   },
   {
    "duration": 4,
    "start_time": "2024-12-02T15:15:48.023Z"
   },
   {
    "duration": 4,
    "start_time": "2024-12-02T15:15:48.028Z"
   },
   {
    "duration": 4,
    "start_time": "2024-12-02T15:15:48.033Z"
   },
   {
    "duration": 28,
    "start_time": "2024-12-02T15:15:48.039Z"
   },
   {
    "duration": 150,
    "start_time": "2024-12-02T15:15:48.069Z"
   },
   {
    "duration": 574,
    "start_time": "2024-12-02T15:15:48.222Z"
   },
   {
    "duration": 269,
    "start_time": "2024-12-02T15:15:48.799Z"
   },
   {
    "duration": 53,
    "start_time": "2024-12-02T15:15:49.071Z"
   },
   {
    "duration": 6,
    "start_time": "2024-12-02T15:15:49.126Z"
   },
   {
    "duration": 4,
    "start_time": "2024-12-02T15:15:49.135Z"
   },
   {
    "duration": 71,
    "start_time": "2024-12-02T15:15:49.140Z"
   },
   {
    "duration": 3,
    "start_time": "2024-12-02T15:15:49.213Z"
   },
   {
    "duration": 4,
    "start_time": "2024-12-02T15:15:49.218Z"
   },
   {
    "duration": 1015,
    "start_time": "2024-12-02T15:17:48.300Z"
   },
   {
    "duration": 16,
    "start_time": "2024-12-02T15:17:49.317Z"
   },
   {
    "duration": 24,
    "start_time": "2024-12-02T15:17:49.335Z"
   },
   {
    "duration": 6,
    "start_time": "2024-12-02T15:17:49.361Z"
   },
   {
    "duration": 23,
    "start_time": "2024-12-02T15:17:49.370Z"
   },
   {
    "duration": 24,
    "start_time": "2024-12-02T15:17:49.395Z"
   },
   {
    "duration": 6,
    "start_time": "2024-12-02T15:17:49.420Z"
   },
   {
    "duration": 21,
    "start_time": "2024-12-02T15:17:49.427Z"
   },
   {
    "duration": 14,
    "start_time": "2024-12-02T15:17:49.450Z"
   },
   {
    "duration": 10,
    "start_time": "2024-12-02T15:17:49.466Z"
   },
   {
    "duration": 4,
    "start_time": "2024-12-02T15:17:49.477Z"
   },
   {
    "duration": 138,
    "start_time": "2024-12-02T15:17:49.483Z"
   },
   {
    "duration": 65,
    "start_time": "2024-12-02T15:17:49.623Z"
   },
   {
    "duration": 28,
    "start_time": "2024-12-02T15:17:49.711Z"
   },
   {
    "duration": 9,
    "start_time": "2024-12-02T15:17:49.741Z"
   },
   {
    "duration": 6,
    "start_time": "2024-12-02T15:17:49.751Z"
   },
   {
    "duration": 21,
    "start_time": "2024-12-02T15:17:49.759Z"
   },
   {
    "duration": 28,
    "start_time": "2024-12-02T15:17:49.782Z"
   },
   {
    "duration": 14,
    "start_time": "2024-12-02T15:17:49.812Z"
   },
   {
    "duration": 4,
    "start_time": "2024-12-02T15:17:49.827Z"
   },
   {
    "duration": 6,
    "start_time": "2024-12-02T15:17:49.833Z"
   },
   {
    "duration": 15,
    "start_time": "2024-12-02T15:17:49.841Z"
   },
   {
    "duration": 3,
    "start_time": "2024-12-02T15:17:49.858Z"
   },
   {
    "duration": 3,
    "start_time": "2024-12-02T15:17:49.863Z"
   },
   {
    "duration": 39,
    "start_time": "2024-12-02T15:17:49.869Z"
   },
   {
    "duration": 5,
    "start_time": "2024-12-02T15:17:49.911Z"
   },
   {
    "duration": 3,
    "start_time": "2024-12-02T15:17:49.918Z"
   },
   {
    "duration": 3,
    "start_time": "2024-12-02T15:17:49.923Z"
   },
   {
    "duration": 28,
    "start_time": "2024-12-02T15:17:49.929Z"
   },
   {
    "duration": 142,
    "start_time": "2024-12-02T15:17:49.960Z"
   },
   {
    "duration": 566,
    "start_time": "2024-12-02T15:17:50.104Z"
   },
   {
    "duration": 276,
    "start_time": "2024-12-02T15:17:50.672Z"
   },
   {
    "duration": 62,
    "start_time": "2024-12-02T15:17:50.950Z"
   },
   {
    "duration": 11,
    "start_time": "2024-12-02T15:17:51.015Z"
   },
   {
    "duration": 86,
    "start_time": "2024-12-02T15:17:51.031Z"
   },
   {
    "duration": 296,
    "start_time": "2024-12-02T15:17:51.120Z"
   },
   {
    "duration": 13,
    "start_time": "2024-12-02T15:17:51.418Z"
   },
   {
    "duration": 12,
    "start_time": "2024-12-02T15:17:51.433Z"
   },
   {
    "duration": 15,
    "start_time": "2024-12-02T15:19:09.305Z"
   },
   {
    "duration": 60,
    "start_time": "2024-12-02T15:22:35.004Z"
   },
   {
    "duration": 65,
    "start_time": "2024-12-02T15:23:12.607Z"
   },
   {
    "duration": 1040,
    "start_time": "2024-12-02T15:24:04.571Z"
   },
   {
    "duration": 16,
    "start_time": "2024-12-02T15:24:05.613Z"
   },
   {
    "duration": 12,
    "start_time": "2024-12-02T15:24:05.630Z"
   },
   {
    "duration": 2,
    "start_time": "2024-12-02T15:24:05.644Z"
   },
   {
    "duration": 9,
    "start_time": "2024-12-02T15:24:05.649Z"
   },
   {
    "duration": 10,
    "start_time": "2024-12-02T15:24:05.659Z"
   },
   {
    "duration": 3,
    "start_time": "2024-12-02T15:24:05.670Z"
   },
   {
    "duration": 6,
    "start_time": "2024-12-02T15:24:05.708Z"
   },
   {
    "duration": 6,
    "start_time": "2024-12-02T15:24:05.716Z"
   },
   {
    "duration": 10,
    "start_time": "2024-12-02T15:24:05.723Z"
   },
   {
    "duration": 5,
    "start_time": "2024-12-02T15:24:05.734Z"
   },
   {
    "duration": 151,
    "start_time": "2024-12-02T15:24:05.741Z"
   },
   {
    "duration": 36,
    "start_time": "2024-12-02T15:24:05.894Z"
   },
   {
    "duration": 13,
    "start_time": "2024-12-02T15:24:05.933Z"
   },
   {
    "duration": 78,
    "start_time": "2024-12-02T15:24:05.947Z"
   },
   {
    "duration": 3,
    "start_time": "2024-12-02T15:24:06.027Z"
   },
   {
    "duration": 14,
    "start_time": "2024-12-02T15:24:06.032Z"
   },
   {
    "duration": 6,
    "start_time": "2024-12-02T15:24:06.048Z"
   },
   {
    "duration": 12,
    "start_time": "2024-12-02T15:24:06.055Z"
   },
   {
    "duration": 3,
    "start_time": "2024-12-02T15:24:06.068Z"
   },
   {
    "duration": 37,
    "start_time": "2024-12-02T15:24:06.073Z"
   },
   {
    "duration": 3,
    "start_time": "2024-12-02T15:24:06.111Z"
   },
   {
    "duration": 3,
    "start_time": "2024-12-02T15:24:06.117Z"
   },
   {
    "duration": 4,
    "start_time": "2024-12-02T15:24:06.122Z"
   },
   {
    "duration": 3,
    "start_time": "2024-12-02T15:24:06.128Z"
   },
   {
    "duration": 3,
    "start_time": "2024-12-02T15:24:06.133Z"
   },
   {
    "duration": 4,
    "start_time": "2024-12-02T15:24:06.137Z"
   },
   {
    "duration": 14,
    "start_time": "2024-12-02T15:24:06.143Z"
   },
   {
    "duration": 65,
    "start_time": "2024-12-02T15:24:06.159Z"
   },
   {
    "duration": 116,
    "start_time": "2024-12-02T15:24:06.226Z"
   },
   {
    "duration": 570,
    "start_time": "2024-12-02T15:24:06.344Z"
   },
   {
    "duration": 280,
    "start_time": "2024-12-02T15:24:06.916Z"
   },
   {
    "duration": 55,
    "start_time": "2024-12-02T15:24:07.198Z"
   },
   {
    "duration": 65,
    "start_time": "2024-12-02T15:24:07.255Z"
   },
   {
    "duration": 93,
    "start_time": "2024-12-02T15:24:07.322Z"
   },
   {
    "duration": 288,
    "start_time": "2024-12-02T15:24:07.418Z"
   },
   {
    "duration": 14,
    "start_time": "2024-12-02T15:24:07.708Z"
   },
   {
    "duration": 14,
    "start_time": "2024-12-02T15:24:07.724Z"
   },
   {
    "duration": 71,
    "start_time": "2024-12-02T15:25:31.748Z"
   },
   {
    "duration": 5,
    "start_time": "2024-12-02T15:26:03.499Z"
   },
   {
    "duration": 69,
    "start_time": "2024-12-02T15:26:11.530Z"
   },
   {
    "duration": 65,
    "start_time": "2024-12-02T15:26:44.036Z"
   },
   {
    "duration": 5,
    "start_time": "2024-12-02T15:27:49.582Z"
   },
   {
    "duration": 66,
    "start_time": "2024-12-02T15:32:02.660Z"
   },
   {
    "duration": 324,
    "start_time": "2024-12-02T15:32:59.747Z"
   },
   {
    "duration": 1100,
    "start_time": "2024-12-02T15:33:12.122Z"
   },
   {
    "duration": 16,
    "start_time": "2024-12-02T15:33:13.226Z"
   },
   {
    "duration": 13,
    "start_time": "2024-12-02T15:33:13.244Z"
   },
   {
    "duration": 2,
    "start_time": "2024-12-02T15:33:13.259Z"
   },
   {
    "duration": 11,
    "start_time": "2024-12-02T15:33:13.264Z"
   },
   {
    "duration": 35,
    "start_time": "2024-12-02T15:33:13.276Z"
   },
   {
    "duration": 5,
    "start_time": "2024-12-02T15:33:13.313Z"
   },
   {
    "duration": 6,
    "start_time": "2024-12-02T15:33:13.320Z"
   },
   {
    "duration": 7,
    "start_time": "2024-12-02T15:33:13.328Z"
   },
   {
    "duration": 8,
    "start_time": "2024-12-02T15:33:13.337Z"
   },
   {
    "duration": 4,
    "start_time": "2024-12-02T15:33:13.347Z"
   },
   {
    "duration": 167,
    "start_time": "2024-12-02T15:33:13.353Z"
   },
   {
    "duration": 28,
    "start_time": "2024-12-02T15:33:13.522Z"
   },
   {
    "duration": 9,
    "start_time": "2024-12-02T15:33:13.554Z"
   },
   {
    "duration": 90,
    "start_time": "2024-12-02T15:33:13.565Z"
   },
   {
    "duration": 4,
    "start_time": "2024-12-02T15:33:13.657Z"
   },
   {
    "duration": 14,
    "start_time": "2024-12-02T15:33:13.662Z"
   },
   {
    "duration": 7,
    "start_time": "2024-12-02T15:33:13.678Z"
   },
   {
    "duration": 33,
    "start_time": "2024-12-02T15:33:13.686Z"
   },
   {
    "duration": 3,
    "start_time": "2024-12-02T15:33:13.721Z"
   },
   {
    "duration": 6,
    "start_time": "2024-12-02T15:33:13.726Z"
   },
   {
    "duration": 4,
    "start_time": "2024-12-02T15:33:13.733Z"
   },
   {
    "duration": 4,
    "start_time": "2024-12-02T15:33:13.739Z"
   },
   {
    "duration": 4,
    "start_time": "2024-12-02T15:33:13.744Z"
   },
   {
    "duration": 5,
    "start_time": "2024-12-02T15:33:13.749Z"
   },
   {
    "duration": 4,
    "start_time": "2024-12-02T15:33:13.755Z"
   },
   {
    "duration": 49,
    "start_time": "2024-12-02T15:33:13.761Z"
   },
   {
    "duration": 15,
    "start_time": "2024-12-02T15:33:13.812Z"
   },
   {
    "duration": 29,
    "start_time": "2024-12-02T15:33:13.828Z"
   },
   {
    "duration": 127,
    "start_time": "2024-12-02T15:33:13.858Z"
   },
   {
    "duration": 571,
    "start_time": "2024-12-02T15:33:13.987Z"
   },
   {
    "duration": 276,
    "start_time": "2024-12-02T15:33:14.560Z"
   },
   {
    "duration": 71,
    "start_time": "2024-12-02T15:33:14.838Z"
   },
   {
    "duration": 10,
    "start_time": "2024-12-02T15:33:14.912Z"
   },
   {
    "duration": 308,
    "start_time": "2024-12-02T15:33:14.924Z"
   },
   {
    "duration": 0,
    "start_time": "2024-12-02T15:33:15.234Z"
   },
   {
    "duration": 0,
    "start_time": "2024-12-02T15:33:15.235Z"
   },
   {
    "duration": 0,
    "start_time": "2024-12-02T15:33:15.236Z"
   },
   {
    "duration": 0,
    "start_time": "2024-12-02T15:33:15.237Z"
   },
   {
    "duration": 0,
    "start_time": "2024-12-02T15:33:15.238Z"
   },
   {
    "duration": 14,
    "start_time": "2024-12-02T15:33:26.286Z"
   },
   {
    "duration": 17,
    "start_time": "2024-12-02T15:33:47.368Z"
   },
   {
    "duration": 17,
    "start_time": "2024-12-02T15:33:51.893Z"
   },
   {
    "duration": 18,
    "start_time": "2024-12-02T15:34:07.217Z"
   },
   {
    "duration": 16,
    "start_time": "2024-12-02T15:34:08.719Z"
   },
   {
    "duration": 15,
    "start_time": "2024-12-02T15:35:31.238Z"
   },
   {
    "duration": 16,
    "start_time": "2024-12-02T15:35:47.251Z"
   },
   {
    "duration": 15,
    "start_time": "2024-12-02T15:36:03.824Z"
   },
   {
    "duration": 15,
    "start_time": "2024-12-02T15:36:12.221Z"
   },
   {
    "duration": 1095,
    "start_time": "2024-12-02T16:03:16.818Z"
   },
   {
    "duration": 17,
    "start_time": "2024-12-02T16:03:17.916Z"
   },
   {
    "duration": 13,
    "start_time": "2024-12-02T16:03:17.935Z"
   },
   {
    "duration": 2,
    "start_time": "2024-12-02T16:03:17.950Z"
   },
   {
    "duration": 10,
    "start_time": "2024-12-02T16:03:17.955Z"
   },
   {
    "duration": 11,
    "start_time": "2024-12-02T16:03:17.966Z"
   },
   {
    "duration": 31,
    "start_time": "2024-12-02T16:03:17.978Z"
   },
   {
    "duration": 9,
    "start_time": "2024-12-02T16:03:18.012Z"
   },
   {
    "duration": 8,
    "start_time": "2024-12-02T16:03:18.023Z"
   },
   {
    "duration": 11,
    "start_time": "2024-12-02T16:03:18.034Z"
   },
   {
    "duration": 5,
    "start_time": "2024-12-02T16:03:18.047Z"
   },
   {
    "duration": 164,
    "start_time": "2024-12-02T16:03:18.053Z"
   },
   {
    "duration": 29,
    "start_time": "2024-12-02T16:03:18.219Z"
   },
   {
    "duration": 10,
    "start_time": "2024-12-02T16:03:18.252Z"
   },
   {
    "duration": 93,
    "start_time": "2024-12-02T16:03:18.264Z"
   },
   {
    "duration": 4,
    "start_time": "2024-12-02T16:03:18.359Z"
   },
   {
    "duration": 16,
    "start_time": "2024-12-02T16:03:18.365Z"
   },
   {
    "duration": 32,
    "start_time": "2024-12-02T16:03:18.382Z"
   },
   {
    "duration": 14,
    "start_time": "2024-12-02T16:03:18.416Z"
   },
   {
    "duration": 5,
    "start_time": "2024-12-02T16:03:18.432Z"
   },
   {
    "duration": 8,
    "start_time": "2024-12-02T16:03:18.438Z"
   },
   {
    "duration": 4,
    "start_time": "2024-12-02T16:03:18.447Z"
   },
   {
    "duration": 4,
    "start_time": "2024-12-02T16:03:18.453Z"
   },
   {
    "duration": 4,
    "start_time": "2024-12-02T16:03:18.459Z"
   },
   {
    "duration": 4,
    "start_time": "2024-12-02T16:03:18.464Z"
   },
   {
    "duration": 41,
    "start_time": "2024-12-02T16:03:18.470Z"
   },
   {
    "duration": 4,
    "start_time": "2024-12-02T16:03:18.513Z"
   },
   {
    "duration": 15,
    "start_time": "2024-12-02T16:03:18.519Z"
   },
   {
    "duration": 29,
    "start_time": "2024-12-02T16:03:18.536Z"
   },
   {
    "duration": 135,
    "start_time": "2024-12-02T16:03:18.567Z"
   },
   {
    "duration": 573,
    "start_time": "2024-12-02T16:03:18.704Z"
   },
   {
    "duration": 274,
    "start_time": "2024-12-02T16:03:19.278Z"
   },
   {
    "duration": 57,
    "start_time": "2024-12-02T16:03:19.555Z"
   },
   {
    "duration": 11,
    "start_time": "2024-12-02T16:03:19.616Z"
   },
   {
    "duration": 319,
    "start_time": "2024-12-02T16:03:19.630Z"
   },
   {
    "duration": 0,
    "start_time": "2024-12-02T16:03:19.951Z"
   },
   {
    "duration": 0,
    "start_time": "2024-12-02T16:03:19.952Z"
   },
   {
    "duration": 0,
    "start_time": "2024-12-02T16:03:19.953Z"
   },
   {
    "duration": 0,
    "start_time": "2024-12-02T16:03:19.954Z"
   },
   {
    "duration": 0,
    "start_time": "2024-12-02T16:03:19.956Z"
   },
   {
    "duration": 75,
    "start_time": "2024-12-02T16:03:57.247Z"
   },
   {
    "duration": 64,
    "start_time": "2024-12-02T16:04:04.138Z"
   },
   {
    "duration": 20784,
    "start_time": "2024-12-02T16:04:25.009Z"
   },
   {
    "duration": 1076,
    "start_time": "2024-12-02T16:05:24.826Z"
   },
   {
    "duration": 18,
    "start_time": "2024-12-02T16:05:25.904Z"
   },
   {
    "duration": 12,
    "start_time": "2024-12-02T16:05:25.924Z"
   },
   {
    "duration": 3,
    "start_time": "2024-12-02T16:05:25.938Z"
   },
   {
    "duration": 10,
    "start_time": "2024-12-02T16:05:25.944Z"
   },
   {
    "duration": 11,
    "start_time": "2024-12-02T16:05:25.956Z"
   },
   {
    "duration": 3,
    "start_time": "2024-12-02T16:05:25.969Z"
   },
   {
    "duration": 6,
    "start_time": "2024-12-02T16:05:26.008Z"
   },
   {
    "duration": 7,
    "start_time": "2024-12-02T16:05:26.015Z"
   },
   {
    "duration": 9,
    "start_time": "2024-12-02T16:05:26.023Z"
   },
   {
    "duration": 4,
    "start_time": "2024-12-02T16:05:26.034Z"
   },
   {
    "duration": 154,
    "start_time": "2024-12-02T16:05:26.040Z"
   },
   {
    "duration": 35,
    "start_time": "2024-12-02T16:05:26.196Z"
   },
   {
    "duration": 11,
    "start_time": "2024-12-02T16:05:26.235Z"
   },
   {
    "duration": 86,
    "start_time": "2024-12-02T16:05:26.248Z"
   },
   {
    "duration": 4,
    "start_time": "2024-12-02T16:05:26.336Z"
   },
   {
    "duration": 15,
    "start_time": "2024-12-02T16:05:26.342Z"
   },
   {
    "duration": 7,
    "start_time": "2024-12-02T16:05:26.359Z"
   },
   {
    "duration": 14,
    "start_time": "2024-12-02T16:05:26.367Z"
   },
   {
    "duration": 4,
    "start_time": "2024-12-02T16:05:26.409Z"
   },
   {
    "duration": 7,
    "start_time": "2024-12-02T16:05:26.415Z"
   },
   {
    "duration": 4,
    "start_time": "2024-12-02T16:05:26.424Z"
   },
   {
    "duration": 4,
    "start_time": "2024-12-02T16:05:26.429Z"
   },
   {
    "duration": 4,
    "start_time": "2024-12-02T16:05:26.435Z"
   },
   {
    "duration": 3,
    "start_time": "2024-12-02T16:05:26.441Z"
   },
   {
    "duration": 3,
    "start_time": "2024-12-02T16:05:26.446Z"
   },
   {
    "duration": 4,
    "start_time": "2024-12-02T16:05:26.451Z"
   },
   {
    "duration": 62,
    "start_time": "2024-12-02T16:05:26.456Z"
   },
   {
    "duration": 28,
    "start_time": "2024-12-02T16:05:26.520Z"
   },
   {
    "duration": 123,
    "start_time": "2024-12-02T16:05:26.550Z"
   },
   {
    "duration": 575,
    "start_time": "2024-12-02T16:05:26.675Z"
   },
   {
    "duration": 286,
    "start_time": "2024-12-02T16:05:27.252Z"
   },
   {
    "duration": 72,
    "start_time": "2024-12-02T16:05:27.540Z"
   },
   {
    "duration": 16,
    "start_time": "2024-12-02T16:05:27.613Z"
   },
   {
    "duration": 337,
    "start_time": "2024-12-02T16:05:27.631Z"
   },
   {
    "duration": 0,
    "start_time": "2024-12-02T16:05:27.970Z"
   },
   {
    "duration": 0,
    "start_time": "2024-12-02T16:05:27.971Z"
   },
   {
    "duration": 0,
    "start_time": "2024-12-02T16:05:27.973Z"
   },
   {
    "duration": 0,
    "start_time": "2024-12-02T16:05:27.974Z"
   },
   {
    "duration": 14,
    "start_time": "2024-12-02T16:05:53.158Z"
   },
   {
    "duration": 198,
    "start_time": "2024-12-02T16:05:53.364Z"
   },
   {
    "duration": 12,
    "start_time": "2024-12-02T16:05:53.645Z"
   },
   {
    "duration": 17,
    "start_time": "2024-12-02T16:05:53.874Z"
   },
   {
    "duration": 18,
    "start_time": "2024-12-02T16:10:49.814Z"
   },
   {
    "duration": 13,
    "start_time": "2024-12-02T16:11:00.015Z"
   },
   {
    "duration": 8,
    "start_time": "2024-12-02T16:12:17.866Z"
   },
   {
    "duration": 10,
    "start_time": "2024-12-02T16:12:19.789Z"
   },
   {
    "duration": 125,
    "start_time": "2024-12-02T16:14:33.082Z"
   },
   {
    "duration": 30,
    "start_time": "2024-12-02T16:18:17.051Z"
   },
   {
    "duration": 23,
    "start_time": "2024-12-02T16:21:11.025Z"
   },
   {
    "duration": 15,
    "start_time": "2024-12-02T16:21:32.670Z"
   },
   {
    "duration": 10,
    "start_time": "2024-12-02T16:22:42.578Z"
   },
   {
    "duration": 126,
    "start_time": "2024-12-02T16:23:45.274Z"
   },
   {
    "duration": 12,
    "start_time": "2024-12-02T16:24:58.362Z"
   },
   {
    "duration": 12,
    "start_time": "2024-12-02T16:26:22.187Z"
   },
   {
    "duration": 13,
    "start_time": "2024-12-02T16:26:29.330Z"
   },
   {
    "duration": 13,
    "start_time": "2024-12-02T16:26:35.384Z"
   },
   {
    "duration": 19,
    "start_time": "2024-12-02T16:26:44.205Z"
   },
   {
    "duration": 18,
    "start_time": "2024-12-02T16:26:49.225Z"
   },
   {
    "duration": 15,
    "start_time": "2024-12-02T16:26:56.313Z"
   },
   {
    "duration": 12,
    "start_time": "2024-12-02T16:27:25.587Z"
   },
   {
    "duration": 20,
    "start_time": "2024-12-02T16:27:31.588Z"
   },
   {
    "duration": 11,
    "start_time": "2024-12-02T16:27:38.612Z"
   },
   {
    "duration": 19,
    "start_time": "2024-12-02T16:27:44.241Z"
   },
   {
    "duration": 14,
    "start_time": "2024-12-02T16:29:18.987Z"
   },
   {
    "duration": 23,
    "start_time": "2024-12-02T16:29:25.250Z"
   },
   {
    "duration": 12,
    "start_time": "2024-12-02T16:29:31.137Z"
   },
   {
    "duration": 49,
    "start_time": "2024-12-02T17:01:23.880Z"
   },
   {
    "duration": 48,
    "start_time": "2024-12-02T17:01:55.286Z"
   },
   {
    "duration": 10,
    "start_time": "2024-12-02T17:02:51.541Z"
   },
   {
    "duration": 32,
    "start_time": "2024-12-02T17:03:38.356Z"
   },
   {
    "duration": 31,
    "start_time": "2024-12-02T17:06:13.873Z"
   },
   {
    "duration": 21,
    "start_time": "2024-12-02T17:06:22.883Z"
   },
   {
    "duration": 10,
    "start_time": "2024-12-02T17:11:44.026Z"
   },
   {
    "duration": 10,
    "start_time": "2024-12-02T17:11:57.459Z"
   },
   {
    "duration": 254,
    "start_time": "2024-12-02T17:12:51.650Z"
   },
   {
    "duration": 67,
    "start_time": "2024-12-02T17:13:15.781Z"
   },
   {
    "duration": 13,
    "start_time": "2024-12-02T17:13:25.975Z"
   },
   {
    "duration": 10,
    "start_time": "2024-12-02T17:15:25.431Z"
   },
   {
    "duration": 12,
    "start_time": "2024-12-02T17:17:25.116Z"
   },
   {
    "duration": 10,
    "start_time": "2024-12-02T17:17:26.831Z"
   },
   {
    "duration": 10,
    "start_time": "2024-12-02T17:17:35.918Z"
   },
   {
    "duration": 42,
    "start_time": "2024-12-02T17:18:44.494Z"
   },
   {
    "duration": 12,
    "start_time": "2024-12-02T17:19:59.174Z"
   },
   {
    "duration": 13,
    "start_time": "2024-12-02T17:20:04.778Z"
   },
   {
    "duration": 10,
    "start_time": "2024-12-02T17:20:49.652Z"
   },
   {
    "duration": 47,
    "start_time": "2024-12-02T17:21:48.361Z"
   },
   {
    "duration": 20,
    "start_time": "2024-12-02T17:21:51.190Z"
   },
   {
    "duration": 41,
    "start_time": "2024-12-02T17:21:53.085Z"
   },
   {
    "duration": 20,
    "start_time": "2024-12-02T17:39:57.129Z"
   },
   {
    "duration": 14,
    "start_time": "2024-12-02T17:40:04.409Z"
   },
   {
    "duration": 11,
    "start_time": "2024-12-02T17:40:13.311Z"
   },
   {
    "duration": 10,
    "start_time": "2024-12-02T17:40:21.341Z"
   },
   {
    "duration": 11,
    "start_time": "2024-12-02T17:40:38.417Z"
   },
   {
    "duration": 12,
    "start_time": "2024-12-02T17:40:39.658Z"
   },
   {
    "duration": 14,
    "start_time": "2024-12-02T17:40:50.113Z"
   },
   {
    "duration": 12,
    "start_time": "2024-12-02T17:40:55.810Z"
   },
   {
    "duration": 28,
    "start_time": "2024-12-02T17:41:10.290Z"
   },
   {
    "duration": 1058,
    "start_time": "2024-12-02T17:41:33.465Z"
   },
   {
    "duration": 12,
    "start_time": "2024-12-02T17:43:10.072Z"
   },
   {
    "duration": 11,
    "start_time": "2024-12-02T17:44:31.209Z"
   },
   {
    "duration": 20,
    "start_time": "2024-12-02T17:45:01.787Z"
   },
   {
    "duration": 14,
    "start_time": "2024-12-02T18:00:41.330Z"
   },
   {
    "duration": 12,
    "start_time": "2024-12-02T18:01:05.401Z"
   },
   {
    "duration": 9,
    "start_time": "2024-12-02T18:01:28.404Z"
   },
   {
    "duration": 5,
    "start_time": "2024-12-02T18:18:20.492Z"
   },
   {
    "duration": 6,
    "start_time": "2024-12-02T18:19:20.918Z"
   },
   {
    "duration": 6,
    "start_time": "2024-12-02T18:19:37.555Z"
   },
   {
    "duration": 1057,
    "start_time": "2024-12-02T18:19:44.464Z"
   },
   {
    "duration": 18,
    "start_time": "2024-12-02T18:19:45.523Z"
   },
   {
    "duration": 13,
    "start_time": "2024-12-02T18:19:45.542Z"
   },
   {
    "duration": 3,
    "start_time": "2024-12-02T18:19:45.557Z"
   },
   {
    "duration": 10,
    "start_time": "2024-12-02T18:19:45.563Z"
   },
   {
    "duration": 34,
    "start_time": "2024-12-02T18:19:45.575Z"
   },
   {
    "duration": 4,
    "start_time": "2024-12-02T18:19:45.611Z"
   },
   {
    "duration": 7,
    "start_time": "2024-12-02T18:19:45.617Z"
   },
   {
    "duration": 6,
    "start_time": "2024-12-02T18:19:45.626Z"
   },
   {
    "duration": 10,
    "start_time": "2024-12-02T18:19:45.634Z"
   },
   {
    "duration": 4,
    "start_time": "2024-12-02T18:19:45.646Z"
   },
   {
    "duration": 168,
    "start_time": "2024-12-02T18:19:45.651Z"
   },
   {
    "duration": 36,
    "start_time": "2024-12-02T18:19:45.821Z"
   },
   {
    "duration": 12,
    "start_time": "2024-12-02T18:19:45.862Z"
   },
   {
    "duration": 96,
    "start_time": "2024-12-02T18:19:45.875Z"
   },
   {
    "duration": 4,
    "start_time": "2024-12-02T18:19:45.973Z"
   },
   {
    "duration": 30,
    "start_time": "2024-12-02T18:19:45.979Z"
   },
   {
    "duration": 7,
    "start_time": "2024-12-02T18:19:46.011Z"
   },
   {
    "duration": 13,
    "start_time": "2024-12-02T18:19:46.020Z"
   },
   {
    "duration": 6,
    "start_time": "2024-12-02T18:19:46.034Z"
   },
   {
    "duration": 7,
    "start_time": "2024-12-02T18:19:46.042Z"
   },
   {
    "duration": 4,
    "start_time": "2024-12-02T18:19:46.051Z"
   },
   {
    "duration": 4,
    "start_time": "2024-12-02T18:19:46.057Z"
   },
   {
    "duration": 4,
    "start_time": "2024-12-02T18:19:46.062Z"
   },
   {
    "duration": 43,
    "start_time": "2024-12-02T18:19:46.068Z"
   },
   {
    "duration": 4,
    "start_time": "2024-12-02T18:19:46.113Z"
   },
   {
    "duration": 4,
    "start_time": "2024-12-02T18:19:46.119Z"
   },
   {
    "duration": 595,
    "start_time": "2024-12-02T18:19:46.125Z"
   },
   {
    "duration": 0,
    "start_time": "2024-12-02T18:19:46.722Z"
   },
   {
    "duration": 0,
    "start_time": "2024-12-02T18:19:46.724Z"
   },
   {
    "duration": 0,
    "start_time": "2024-12-02T18:19:46.726Z"
   },
   {
    "duration": 0,
    "start_time": "2024-12-02T18:19:46.727Z"
   },
   {
    "duration": 0,
    "start_time": "2024-12-02T18:19:46.729Z"
   },
   {
    "duration": 0,
    "start_time": "2024-12-02T18:19:46.731Z"
   },
   {
    "duration": 0,
    "start_time": "2024-12-02T18:19:46.732Z"
   },
   {
    "duration": 0,
    "start_time": "2024-12-02T18:19:46.733Z"
   },
   {
    "duration": 0,
    "start_time": "2024-12-02T18:19:46.735Z"
   },
   {
    "duration": 0,
    "start_time": "2024-12-02T18:19:46.736Z"
   },
   {
    "duration": 0,
    "start_time": "2024-12-02T18:19:46.737Z"
   },
   {
    "duration": 0,
    "start_time": "2024-12-02T18:19:46.738Z"
   },
   {
    "duration": 0,
    "start_time": "2024-12-02T18:19:46.739Z"
   },
   {
    "duration": 0,
    "start_time": "2024-12-02T18:19:46.740Z"
   },
   {
    "duration": 0,
    "start_time": "2024-12-02T18:19:46.740Z"
   },
   {
    "duration": 1043,
    "start_time": "2024-12-02T18:20:25.372Z"
   },
   {
    "duration": 16,
    "start_time": "2024-12-02T18:20:26.418Z"
   },
   {
    "duration": 13,
    "start_time": "2024-12-02T18:20:26.436Z"
   },
   {
    "duration": 3,
    "start_time": "2024-12-02T18:20:26.451Z"
   },
   {
    "duration": 10,
    "start_time": "2024-12-02T18:20:26.457Z"
   },
   {
    "duration": 41,
    "start_time": "2024-12-02T18:20:26.469Z"
   },
   {
    "duration": 5,
    "start_time": "2024-12-02T18:20:26.512Z"
   },
   {
    "duration": 7,
    "start_time": "2024-12-02T18:20:26.519Z"
   },
   {
    "duration": 8,
    "start_time": "2024-12-02T18:20:26.527Z"
   },
   {
    "duration": 9,
    "start_time": "2024-12-02T18:20:26.537Z"
   },
   {
    "duration": 5,
    "start_time": "2024-12-02T18:20:26.548Z"
   },
   {
    "duration": 171,
    "start_time": "2024-12-02T18:20:26.555Z"
   },
   {
    "duration": 27,
    "start_time": "2024-12-02T18:20:26.728Z"
   },
   {
    "duration": 11,
    "start_time": "2024-12-02T18:20:26.759Z"
   },
   {
    "duration": 90,
    "start_time": "2024-12-02T18:20:26.772Z"
   },
   {
    "duration": 5,
    "start_time": "2024-12-02T18:20:26.864Z"
   },
   {
    "duration": 19,
    "start_time": "2024-12-02T18:20:26.871Z"
   },
   {
    "duration": 24,
    "start_time": "2024-12-02T18:20:26.892Z"
   },
   {
    "duration": 12,
    "start_time": "2024-12-02T18:20:26.918Z"
   },
   {
    "duration": 4,
    "start_time": "2024-12-02T18:20:26.932Z"
   },
   {
    "duration": 6,
    "start_time": "2024-12-02T18:20:26.937Z"
   },
   {
    "duration": 4,
    "start_time": "2024-12-02T18:20:26.945Z"
   },
   {
    "duration": 4,
    "start_time": "2024-12-02T18:20:26.951Z"
   },
   {
    "duration": 3,
    "start_time": "2024-12-02T18:20:26.958Z"
   },
   {
    "duration": 47,
    "start_time": "2024-12-02T18:20:26.962Z"
   },
   {
    "duration": 4,
    "start_time": "2024-12-02T18:20:27.011Z"
   },
   {
    "duration": 4,
    "start_time": "2024-12-02T18:20:27.016Z"
   },
   {
    "duration": 15,
    "start_time": "2024-12-02T18:20:27.021Z"
   },
   {
    "duration": 28,
    "start_time": "2024-12-02T18:20:27.037Z"
   },
   {
    "duration": 145,
    "start_time": "2024-12-02T18:20:27.067Z"
   },
   {
    "duration": 585,
    "start_time": "2024-12-02T18:20:27.215Z"
   },
   {
    "duration": 1077,
    "start_time": "2024-12-02T18:20:27.809Z"
   },
   {
    "duration": 38,
    "start_time": "2024-12-02T18:20:28.888Z"
   },
   {
    "duration": 86,
    "start_time": "2024-12-02T18:20:28.929Z"
   },
   {
    "duration": 10,
    "start_time": "2024-12-02T18:20:29.020Z"
   },
   {
    "duration": 14,
    "start_time": "2024-12-02T18:20:29.032Z"
   },
   {
    "duration": 71,
    "start_time": "2024-12-02T18:20:29.048Z"
   },
   {
    "duration": 11,
    "start_time": "2024-12-02T18:20:29.121Z"
   },
   {
    "duration": 75,
    "start_time": "2024-12-02T18:20:29.134Z"
   },
   {
    "duration": 15,
    "start_time": "2024-12-02T18:20:29.211Z"
   },
   {
    "duration": 180,
    "start_time": "2024-12-02T18:20:29.232Z"
   },
   {
    "duration": 96,
    "start_time": "2024-12-02T18:20:29.414Z"
   },
   {
    "duration": 42,
    "start_time": "2024-12-02T18:20:29.512Z"
   },
   {
    "duration": 1055,
    "start_time": "2024-12-02T18:21:04.565Z"
   },
   {
    "duration": 16,
    "start_time": "2024-12-02T18:21:05.623Z"
   },
   {
    "duration": 12,
    "start_time": "2024-12-02T18:21:05.640Z"
   },
   {
    "duration": 2,
    "start_time": "2024-12-02T18:21:05.655Z"
   },
   {
    "duration": 11,
    "start_time": "2024-12-02T18:21:05.659Z"
   },
   {
    "duration": 10,
    "start_time": "2024-12-02T18:21:05.671Z"
   },
   {
    "duration": 27,
    "start_time": "2024-12-02T18:21:05.683Z"
   },
   {
    "duration": 7,
    "start_time": "2024-12-02T18:21:05.712Z"
   },
   {
    "duration": 6,
    "start_time": "2024-12-02T18:21:05.720Z"
   },
   {
    "duration": 8,
    "start_time": "2024-12-02T18:21:05.730Z"
   },
   {
    "duration": 5,
    "start_time": "2024-12-02T18:21:05.740Z"
   },
   {
    "duration": 175,
    "start_time": "2024-12-02T18:21:05.746Z"
   },
   {
    "duration": 29,
    "start_time": "2024-12-02T18:21:05.923Z"
   },
   {
    "duration": 10,
    "start_time": "2024-12-02T18:21:05.953Z"
   },
   {
    "duration": 85,
    "start_time": "2024-12-02T18:21:05.965Z"
   },
   {
    "duration": 4,
    "start_time": "2024-12-02T18:21:06.052Z"
   },
   {
    "duration": 14,
    "start_time": "2024-12-02T18:21:06.057Z"
   },
   {
    "duration": 7,
    "start_time": "2024-12-02T18:21:06.072Z"
   },
   {
    "duration": 35,
    "start_time": "2024-12-02T18:21:06.080Z"
   },
   {
    "duration": 3,
    "start_time": "2024-12-02T18:21:06.117Z"
   },
   {
    "duration": 6,
    "start_time": "2024-12-02T18:21:06.121Z"
   },
   {
    "duration": 3,
    "start_time": "2024-12-02T18:21:06.129Z"
   },
   {
    "duration": 3,
    "start_time": "2024-12-02T18:21:06.134Z"
   },
   {
    "duration": 4,
    "start_time": "2024-12-02T18:21:06.139Z"
   },
   {
    "duration": 4,
    "start_time": "2024-12-02T18:21:06.145Z"
   },
   {
    "duration": 4,
    "start_time": "2024-12-02T18:21:06.150Z"
   },
   {
    "duration": 3,
    "start_time": "2024-12-02T18:21:06.156Z"
   },
   {
    "duration": 57,
    "start_time": "2024-12-02T18:21:06.163Z"
   },
   {
    "duration": 27,
    "start_time": "2024-12-02T18:21:06.222Z"
   },
   {
    "duration": 126,
    "start_time": "2024-12-02T18:21:06.251Z"
   },
   {
    "duration": 567,
    "start_time": "2024-12-02T18:21:06.379Z"
   },
   {
    "duration": 1101,
    "start_time": "2024-12-02T18:21:06.948Z"
   },
   {
    "duration": 30,
    "start_time": "2024-12-02T18:21:08.051Z"
   },
   {
    "duration": 19,
    "start_time": "2024-12-02T18:21:08.112Z"
   },
   {
    "duration": 81,
    "start_time": "2024-12-02T18:21:08.134Z"
   },
   {
    "duration": 13,
    "start_time": "2024-12-02T18:21:08.217Z"
   },
   {
    "duration": 13,
    "start_time": "2024-12-02T18:21:08.231Z"
   },
   {
    "duration": 13,
    "start_time": "2024-12-02T18:21:08.245Z"
   },
   {
    "duration": 53,
    "start_time": "2024-12-02T18:21:08.260Z"
   },
   {
    "duration": 14,
    "start_time": "2024-12-02T18:21:08.315Z"
   },
   {
    "duration": 179,
    "start_time": "2024-12-02T18:21:08.330Z"
   },
   {
    "duration": 98,
    "start_time": "2024-12-02T18:21:08.512Z"
   },
   {
    "duration": 42,
    "start_time": "2024-12-02T18:21:08.611Z"
   },
   {
    "duration": 10,
    "start_time": "2024-12-02T18:21:24.779Z"
   },
   {
    "duration": 12,
    "start_time": "2024-12-02T18:21:26.380Z"
   },
   {
    "duration": 17,
    "start_time": "2024-12-02T18:21:29.882Z"
   },
   {
    "duration": 14,
    "start_time": "2024-12-02T18:21:32.594Z"
   },
   {
    "duration": 12,
    "start_time": "2024-12-02T18:21:36.422Z"
   },
   {
    "duration": 11,
    "start_time": "2024-12-02T18:22:04.985Z"
   },
   {
    "duration": 11,
    "start_time": "2024-12-02T18:22:08.960Z"
   },
   {
    "duration": 12,
    "start_time": "2024-12-02T18:22:11.081Z"
   },
   {
    "duration": 13,
    "start_time": "2024-12-02T18:22:13.425Z"
   },
   {
    "duration": 12,
    "start_time": "2024-12-02T18:23:01.680Z"
   },
   {
    "duration": 11,
    "start_time": "2024-12-02T18:23:03.457Z"
   },
   {
    "duration": 13,
    "start_time": "2024-12-02T18:23:05.696Z"
   },
   {
    "duration": 1035,
    "start_time": "2024-12-02T18:24:00.474Z"
   },
   {
    "duration": 16,
    "start_time": "2024-12-02T18:24:01.513Z"
   },
   {
    "duration": 13,
    "start_time": "2024-12-02T18:24:01.530Z"
   },
   {
    "duration": 2,
    "start_time": "2024-12-02T18:24:01.546Z"
   },
   {
    "duration": 10,
    "start_time": "2024-12-02T18:24:01.550Z"
   },
   {
    "duration": 10,
    "start_time": "2024-12-02T18:24:01.562Z"
   },
   {
    "duration": 4,
    "start_time": "2024-12-02T18:24:01.573Z"
   },
   {
    "duration": 37,
    "start_time": "2024-12-02T18:24:01.579Z"
   },
   {
    "duration": 8,
    "start_time": "2024-12-02T18:24:01.618Z"
   },
   {
    "duration": 11,
    "start_time": "2024-12-02T18:24:01.630Z"
   },
   {
    "duration": 5,
    "start_time": "2024-12-02T18:24:01.642Z"
   },
   {
    "duration": 178,
    "start_time": "2024-12-02T18:24:01.649Z"
   },
   {
    "duration": 30,
    "start_time": "2024-12-02T18:24:01.829Z"
   },
   {
    "duration": 10,
    "start_time": "2024-12-02T18:24:01.861Z"
   },
   {
    "duration": 88,
    "start_time": "2024-12-02T18:24:01.873Z"
   },
   {
    "duration": 4,
    "start_time": "2024-12-02T18:24:01.962Z"
   },
   {
    "duration": 14,
    "start_time": "2024-12-02T18:24:01.968Z"
   },
   {
    "duration": 6,
    "start_time": "2024-12-02T18:24:01.983Z"
   },
   {
    "duration": 12,
    "start_time": "2024-12-02T18:24:02.008Z"
   },
   {
    "duration": 3,
    "start_time": "2024-12-02T18:24:02.021Z"
   },
   {
    "duration": 5,
    "start_time": "2024-12-02T18:24:02.027Z"
   },
   {
    "duration": 4,
    "start_time": "2024-12-02T18:24:02.034Z"
   },
   {
    "duration": 3,
    "start_time": "2024-12-02T18:24:02.040Z"
   },
   {
    "duration": 4,
    "start_time": "2024-12-02T18:24:02.044Z"
   },
   {
    "duration": 3,
    "start_time": "2024-12-02T18:24:02.050Z"
   },
   {
    "duration": 4,
    "start_time": "2024-12-02T18:24:02.055Z"
   },
   {
    "duration": 50,
    "start_time": "2024-12-02T18:24:02.060Z"
   },
   {
    "duration": 15,
    "start_time": "2024-12-02T18:24:02.114Z"
   },
   {
    "duration": 29,
    "start_time": "2024-12-02T18:24:02.131Z"
   },
   {
    "duration": 131,
    "start_time": "2024-12-02T18:24:02.162Z"
   },
   {
    "duration": 572,
    "start_time": "2024-12-02T18:24:02.295Z"
   },
   {
    "duration": 1057,
    "start_time": "2024-12-02T18:24:02.869Z"
   },
   {
    "duration": 28,
    "start_time": "2024-12-02T18:24:03.928Z"
   },
   {
    "duration": 60,
    "start_time": "2024-12-02T18:24:03.958Z"
   },
   {
    "duration": 10,
    "start_time": "2024-12-02T18:24:04.020Z"
   },
   {
    "duration": 82,
    "start_time": "2024-12-02T18:24:04.031Z"
   },
   {
    "duration": 10,
    "start_time": "2024-12-02T18:24:04.115Z"
   },
   {
    "duration": 12,
    "start_time": "2024-12-02T18:24:04.126Z"
   },
   {
    "duration": 71,
    "start_time": "2024-12-02T18:24:04.139Z"
   },
   {
    "duration": 18,
    "start_time": "2024-12-02T18:24:04.212Z"
   },
   {
    "duration": 102,
    "start_time": "2024-12-02T18:24:04.310Z"
   },
   {
    "duration": 95,
    "start_time": "2024-12-02T18:24:04.414Z"
   },
   {
    "duration": 40,
    "start_time": "2024-12-02T18:24:04.512Z"
   },
   {
    "duration": 17,
    "start_time": "2024-12-02T18:25:05.369Z"
   },
   {
    "duration": 12,
    "start_time": "2024-12-02T18:25:09.812Z"
   },
   {
    "duration": 11,
    "start_time": "2024-12-02T18:25:12.327Z"
   },
   {
    "duration": 11,
    "start_time": "2024-12-02T18:25:20.752Z"
   },
   {
    "duration": 48,
    "start_time": "2024-12-02T18:25:50.554Z"
   },
   {
    "duration": 12,
    "start_time": "2024-12-02T18:26:46.963Z"
   },
   {
    "duration": 11,
    "start_time": "2024-12-02T18:26:48.555Z"
   },
   {
    "duration": 14,
    "start_time": "2024-12-02T18:26:50.000Z"
   },
   {
    "duration": 13,
    "start_time": "2024-12-02T18:26:51.937Z"
   },
   {
    "duration": 12,
    "start_time": "2024-12-02T18:26:53.788Z"
   },
   {
    "duration": 21,
    "start_time": "2024-12-02T18:27:18.269Z"
   },
   {
    "duration": 42,
    "start_time": "2024-12-02T18:27:28.225Z"
   },
   {
    "duration": 22,
    "start_time": "2024-12-02T18:27:59.462Z"
   },
   {
    "duration": 43,
    "start_time": "2024-12-02T18:28:00.978Z"
   },
   {
    "duration": 47,
    "start_time": "2024-12-02T18:28:48.719Z"
   },
   {
    "duration": 50,
    "start_time": "2024-12-02T18:28:51.731Z"
   },
   {
    "duration": 11,
    "start_time": "2024-12-02T18:41:37.992Z"
   },
   {
    "duration": 23,
    "start_time": "2024-12-02T18:45:57.178Z"
   },
   {
    "duration": 5,
    "start_time": "2024-12-02T18:46:23.664Z"
   },
   {
    "duration": 13,
    "start_time": "2024-12-02T18:47:33.441Z"
   },
   {
    "duration": 14,
    "start_time": "2024-12-02T18:47:35.424Z"
   },
   {
    "duration": 12,
    "start_time": "2024-12-02T18:48:40.597Z"
   },
   {
    "duration": 15,
    "start_time": "2024-12-02T18:48:42.375Z"
   },
   {
    "duration": 12,
    "start_time": "2024-12-02T18:48:51.418Z"
   },
   {
    "duration": 14,
    "start_time": "2024-12-02T18:48:53.472Z"
   },
   {
    "duration": 11,
    "start_time": "2024-12-02T18:49:02.992Z"
   },
   {
    "duration": 15,
    "start_time": "2024-12-02T18:49:04.513Z"
   },
   {
    "duration": 1144,
    "start_time": "2024-12-02T18:49:23.992Z"
   },
   {
    "duration": 18,
    "start_time": "2024-12-02T18:49:25.139Z"
   },
   {
    "duration": 13,
    "start_time": "2024-12-02T18:49:25.159Z"
   },
   {
    "duration": 3,
    "start_time": "2024-12-02T18:49:25.175Z"
   },
   {
    "duration": 27,
    "start_time": "2024-12-02T18:49:25.182Z"
   },
   {
    "duration": 11,
    "start_time": "2024-12-02T18:49:25.211Z"
   },
   {
    "duration": 4,
    "start_time": "2024-12-02T18:49:25.223Z"
   },
   {
    "duration": 7,
    "start_time": "2024-12-02T18:49:25.229Z"
   },
   {
    "duration": 6,
    "start_time": "2024-12-02T18:49:25.238Z"
   },
   {
    "duration": 10,
    "start_time": "2024-12-02T18:49:25.248Z"
   },
   {
    "duration": 6,
    "start_time": "2024-12-02T18:49:25.260Z"
   },
   {
    "duration": 187,
    "start_time": "2024-12-02T18:49:25.268Z"
   },
   {
    "duration": 27,
    "start_time": "2024-12-02T18:49:25.457Z"
   },
   {
    "duration": 23,
    "start_time": "2024-12-02T18:49:25.486Z"
   },
   {
    "duration": 80,
    "start_time": "2024-12-02T18:49:25.511Z"
   },
   {
    "duration": 17,
    "start_time": "2024-12-02T18:49:25.593Z"
   },
   {
    "duration": 23,
    "start_time": "2024-12-02T18:49:25.612Z"
   },
   {
    "duration": 7,
    "start_time": "2024-12-02T18:49:25.638Z"
   },
   {
    "duration": 13,
    "start_time": "2024-12-02T18:49:25.649Z"
   },
   {
    "duration": 14,
    "start_time": "2024-12-02T18:49:25.664Z"
   },
   {
    "duration": 29,
    "start_time": "2024-12-02T18:49:25.680Z"
   },
   {
    "duration": 8,
    "start_time": "2024-12-02T18:49:25.711Z"
   },
   {
    "duration": 6,
    "start_time": "2024-12-02T18:49:25.722Z"
   },
   {
    "duration": 5,
    "start_time": "2024-12-02T18:49:25.729Z"
   },
   {
    "duration": 4,
    "start_time": "2024-12-02T18:49:25.736Z"
   },
   {
    "duration": 5,
    "start_time": "2024-12-02T18:49:25.742Z"
   },
   {
    "duration": 5,
    "start_time": "2024-12-02T18:49:25.749Z"
   },
   {
    "duration": 4,
    "start_time": "2024-12-02T18:49:25.758Z"
   },
   {
    "duration": 56,
    "start_time": "2024-12-02T18:49:25.763Z"
   },
   {
    "duration": 29,
    "start_time": "2024-12-02T18:49:25.821Z"
   },
   {
    "duration": 136,
    "start_time": "2024-12-02T18:49:25.853Z"
   },
   {
    "duration": 553,
    "start_time": "2024-12-02T18:49:25.991Z"
   },
   {
    "duration": 1125,
    "start_time": "2024-12-02T18:49:26.547Z"
   },
   {
    "duration": 40,
    "start_time": "2024-12-02T18:49:27.674Z"
   },
   {
    "duration": 15,
    "start_time": "2024-12-02T18:49:27.718Z"
   },
   {
    "duration": 79,
    "start_time": "2024-12-02T18:49:27.736Z"
   },
   {
    "duration": 11,
    "start_time": "2024-12-02T18:49:27.817Z"
   },
   {
    "duration": 9,
    "start_time": "2024-12-02T18:49:27.830Z"
   },
   {
    "duration": 11,
    "start_time": "2024-12-02T18:49:27.841Z"
   },
   {
    "duration": 81,
    "start_time": "2024-12-02T18:49:27.854Z"
   },
   {
    "duration": 77,
    "start_time": "2024-12-02T18:49:27.937Z"
   },
   {
    "duration": 123,
    "start_time": "2024-12-02T18:49:28.016Z"
   },
   {
    "duration": 69,
    "start_time": "2024-12-02T18:49:28.141Z"
   },
   {
    "duration": 123,
    "start_time": "2024-12-02T18:49:28.211Z"
   },
   {
    "duration": 185,
    "start_time": "2024-12-02T18:49:28.337Z"
   },
   {
    "duration": 4,
    "start_time": "2024-12-02T18:50:08.936Z"
   },
   {
    "duration": 8,
    "start_time": "2024-12-02T18:50:13.963Z"
   },
   {
    "duration": 4,
    "start_time": "2024-12-02T18:50:36.504Z"
   },
   {
    "duration": 7,
    "start_time": "2024-12-02T18:50:37.520Z"
   },
   {
    "duration": 6,
    "start_time": "2024-12-02T18:50:38.459Z"
   },
   {
    "duration": 5,
    "start_time": "2024-12-02T18:50:42.386Z"
   },
   {
    "duration": 15,
    "start_time": "2024-12-02T18:51:24.756Z"
   },
   {
    "duration": 1035,
    "start_time": "2024-12-02T18:51:43.980Z"
   },
   {
    "duration": 16,
    "start_time": "2024-12-02T18:51:45.018Z"
   },
   {
    "duration": 12,
    "start_time": "2024-12-02T18:51:45.036Z"
   },
   {
    "duration": 2,
    "start_time": "2024-12-02T18:51:45.050Z"
   },
   {
    "duration": 10,
    "start_time": "2024-12-02T18:51:45.054Z"
   },
   {
    "duration": 10,
    "start_time": "2024-12-02T18:51:45.065Z"
   },
   {
    "duration": 35,
    "start_time": "2024-12-02T18:51:45.076Z"
   },
   {
    "duration": 5,
    "start_time": "2024-12-02T18:51:45.113Z"
   },
   {
    "duration": 7,
    "start_time": "2024-12-02T18:51:45.120Z"
   },
   {
    "duration": 10,
    "start_time": "2024-12-02T18:51:45.128Z"
   },
   {
    "duration": 4,
    "start_time": "2024-12-02T18:51:45.140Z"
   },
   {
    "duration": 163,
    "start_time": "2024-12-02T18:51:45.146Z"
   },
   {
    "duration": 28,
    "start_time": "2024-12-02T18:51:45.311Z"
   },
   {
    "duration": 9,
    "start_time": "2024-12-02T18:51:45.342Z"
   },
   {
    "duration": 87,
    "start_time": "2024-12-02T18:51:45.352Z"
   },
   {
    "duration": 4,
    "start_time": "2024-12-02T18:51:45.440Z"
   },
   {
    "duration": 14,
    "start_time": "2024-12-02T18:51:45.447Z"
   },
   {
    "duration": 6,
    "start_time": "2024-12-02T18:51:45.463Z"
   },
   {
    "duration": 12,
    "start_time": "2024-12-02T18:51:45.471Z"
   },
   {
    "duration": 3,
    "start_time": "2024-12-02T18:51:45.508Z"
   },
   {
    "duration": 6,
    "start_time": "2024-12-02T18:51:45.513Z"
   },
   {
    "duration": 4,
    "start_time": "2024-12-02T18:51:45.520Z"
   },
   {
    "duration": 4,
    "start_time": "2024-12-02T18:51:45.526Z"
   },
   {
    "duration": 4,
    "start_time": "2024-12-02T18:51:45.531Z"
   },
   {
    "duration": 4,
    "start_time": "2024-12-02T18:51:45.537Z"
   },
   {
    "duration": 4,
    "start_time": "2024-12-02T18:51:45.542Z"
   },
   {
    "duration": 3,
    "start_time": "2024-12-02T18:51:45.548Z"
   },
   {
    "duration": 61,
    "start_time": "2024-12-02T18:51:45.553Z"
   },
   {
    "duration": 29,
    "start_time": "2024-12-02T18:51:45.615Z"
   },
   {
    "duration": 124,
    "start_time": "2024-12-02T18:51:45.646Z"
   },
   {
    "duration": 570,
    "start_time": "2024-12-02T18:51:45.772Z"
   },
   {
    "duration": 1097,
    "start_time": "2024-12-02T18:51:46.344Z"
   },
   {
    "duration": 28,
    "start_time": "2024-12-02T18:51:47.443Z"
   },
   {
    "duration": 55,
    "start_time": "2024-12-02T18:51:47.473Z"
   },
   {
    "duration": 77,
    "start_time": "2024-12-02T18:51:47.532Z"
   },
   {
    "duration": 15,
    "start_time": "2024-12-02T18:51:47.612Z"
   },
   {
    "duration": 11,
    "start_time": "2024-12-02T18:51:47.629Z"
   },
   {
    "duration": 13,
    "start_time": "2024-12-02T18:51:47.642Z"
   },
   {
    "duration": 64,
    "start_time": "2024-12-02T18:51:47.658Z"
   },
   {
    "duration": 91,
    "start_time": "2024-12-02T18:51:47.724Z"
   },
   {
    "duration": 130,
    "start_time": "2024-12-02T18:51:47.820Z"
   },
   {
    "duration": 76,
    "start_time": "2024-12-02T18:51:47.953Z"
   },
   {
    "duration": 116,
    "start_time": "2024-12-02T18:51:48.031Z"
   },
   {
    "duration": 178,
    "start_time": "2024-12-02T18:51:48.149Z"
   },
   {
    "duration": 11,
    "start_time": "2024-12-02T18:57:40.168Z"
   },
   {
    "duration": 11,
    "start_time": "2024-12-02T18:57:59.811Z"
   },
   {
    "duration": 12,
    "start_time": "2024-12-02T18:59:37.880Z"
   },
   {
    "duration": 13,
    "start_time": "2024-12-02T18:59:40.225Z"
   },
   {
    "duration": 25,
    "start_time": "2024-12-02T18:59:41.427Z"
   },
   {
    "duration": 14,
    "start_time": "2024-12-02T18:59:42.949Z"
   },
   {
    "duration": 11,
    "start_time": "2024-12-02T18:59:46.018Z"
   },
   {
    "duration": 6,
    "start_time": "2024-12-02T19:13:41.770Z"
   },
   {
    "duration": 3,
    "start_time": "2024-12-02T19:14:12.987Z"
   },
   {
    "duration": 1026,
    "start_time": "2024-12-02T19:14:20.906Z"
   },
   {
    "duration": 17,
    "start_time": "2024-12-02T19:14:21.934Z"
   },
   {
    "duration": 12,
    "start_time": "2024-12-02T19:14:21.953Z"
   },
   {
    "duration": 4,
    "start_time": "2024-12-02T19:14:21.966Z"
   },
   {
    "duration": 11,
    "start_time": "2024-12-02T19:14:21.973Z"
   },
   {
    "duration": 28,
    "start_time": "2024-12-02T19:14:21.985Z"
   },
   {
    "duration": 4,
    "start_time": "2024-12-02T19:14:22.014Z"
   },
   {
    "duration": 6,
    "start_time": "2024-12-02T19:14:22.020Z"
   },
   {
    "duration": 4,
    "start_time": "2024-12-02T19:14:22.028Z"
   },
   {
    "duration": 10,
    "start_time": "2024-12-02T19:14:22.034Z"
   },
   {
    "duration": 5,
    "start_time": "2024-12-02T19:14:22.046Z"
   },
   {
    "duration": 182,
    "start_time": "2024-12-02T19:14:22.052Z"
   },
   {
    "duration": 28,
    "start_time": "2024-12-02T19:14:22.236Z"
   },
   {
    "duration": 9,
    "start_time": "2024-12-02T19:14:22.268Z"
   },
   {
    "duration": 85,
    "start_time": "2024-12-02T19:14:22.279Z"
   },
   {
    "duration": 4,
    "start_time": "2024-12-02T19:14:22.366Z"
   },
   {
    "duration": 15,
    "start_time": "2024-12-02T19:14:22.372Z"
   },
   {
    "duration": 25,
    "start_time": "2024-12-02T19:14:22.389Z"
   },
   {
    "duration": 13,
    "start_time": "2024-12-02T19:14:22.416Z"
   },
   {
    "duration": 3,
    "start_time": "2024-12-02T19:14:22.431Z"
   },
   {
    "duration": 6,
    "start_time": "2024-12-02T19:14:22.437Z"
   },
   {
    "duration": 3,
    "start_time": "2024-12-02T19:14:22.445Z"
   },
   {
    "duration": 4,
    "start_time": "2024-12-02T19:14:22.450Z"
   },
   {
    "duration": 4,
    "start_time": "2024-12-02T19:14:22.456Z"
   },
   {
    "duration": 47,
    "start_time": "2024-12-02T19:14:22.462Z"
   },
   {
    "duration": 4,
    "start_time": "2024-12-02T19:14:22.511Z"
   },
   {
    "duration": 4,
    "start_time": "2024-12-02T19:14:22.516Z"
   },
   {
    "duration": 16,
    "start_time": "2024-12-02T19:14:22.522Z"
   },
   {
    "duration": 31,
    "start_time": "2024-12-02T19:14:22.539Z"
   },
   {
    "duration": 146,
    "start_time": "2024-12-02T19:14:22.572Z"
   },
   {
    "duration": 617,
    "start_time": "2024-12-02T19:14:22.721Z"
   },
   {
    "duration": 1159,
    "start_time": "2024-12-02T19:14:23.340Z"
   },
   {
    "duration": 50,
    "start_time": "2024-12-02T19:14:24.501Z"
   },
   {
    "duration": 63,
    "start_time": "2024-12-02T19:14:24.561Z"
   },
   {
    "duration": 86,
    "start_time": "2024-12-02T19:14:24.626Z"
   },
   {
    "duration": 13,
    "start_time": "2024-12-02T19:14:24.714Z"
   },
   {
    "duration": 11,
    "start_time": "2024-12-02T19:14:24.728Z"
   },
   {
    "duration": 12,
    "start_time": "2024-12-02T19:14:24.741Z"
   },
   {
    "duration": 65,
    "start_time": "2024-12-02T19:14:24.755Z"
   },
   {
    "duration": 90,
    "start_time": "2024-12-02T19:14:24.822Z"
   },
   {
    "duration": 143,
    "start_time": "2024-12-02T19:14:24.916Z"
   },
   {
    "duration": 71,
    "start_time": "2024-12-02T19:14:25.061Z"
   },
   {
    "duration": 46,
    "start_time": "2024-12-02T19:14:25.209Z"
   },
   {
    "duration": 175,
    "start_time": "2024-12-02T19:14:25.257Z"
   },
   {
    "duration": 8,
    "start_time": "2024-12-02T19:21:31.911Z"
   },
   {
    "duration": 1018,
    "start_time": "2024-12-02T19:21:53.589Z"
   },
   {
    "duration": 16,
    "start_time": "2024-12-02T19:21:54.609Z"
   },
   {
    "duration": 13,
    "start_time": "2024-12-02T19:21:54.626Z"
   },
   {
    "duration": 2,
    "start_time": "2024-12-02T19:21:54.641Z"
   },
   {
    "duration": 9,
    "start_time": "2024-12-02T19:21:54.646Z"
   },
   {
    "duration": 11,
    "start_time": "2024-12-02T19:21:54.657Z"
   },
   {
    "duration": 3,
    "start_time": "2024-12-02T19:21:54.670Z"
   },
   {
    "duration": 39,
    "start_time": "2024-12-02T19:21:54.675Z"
   },
   {
    "duration": 7,
    "start_time": "2024-12-02T19:21:54.715Z"
   },
   {
    "duration": 13,
    "start_time": "2024-12-02T19:21:54.724Z"
   },
   {
    "duration": 5,
    "start_time": "2024-12-02T19:21:54.738Z"
   },
   {
    "duration": 165,
    "start_time": "2024-12-02T19:21:54.745Z"
   },
   {
    "duration": 67,
    "start_time": "2024-12-02T19:21:54.912Z"
   },
   {
    "duration": 44,
    "start_time": "2024-12-02T19:21:54.982Z"
   },
   {
    "duration": 9,
    "start_time": "2024-12-02T19:21:55.028Z"
   },
   {
    "duration": 3,
    "start_time": "2024-12-02T19:21:55.039Z"
   },
   {
    "duration": 8,
    "start_time": "2024-12-02T19:21:55.044Z"
   },
   {
    "duration": 13,
    "start_time": "2024-12-02T19:21:55.054Z"
   },
   {
    "duration": 4,
    "start_time": "2024-12-02T19:21:55.068Z"
   },
   {
    "duration": 35,
    "start_time": "2024-12-02T19:21:55.074Z"
   },
   {
    "duration": 5,
    "start_time": "2024-12-02T19:21:55.112Z"
   },
   {
    "duration": 4,
    "start_time": "2024-12-02T19:21:55.118Z"
   },
   {
    "duration": 4,
    "start_time": "2024-12-02T19:21:55.124Z"
   },
   {
    "duration": 4,
    "start_time": "2024-12-02T19:21:55.130Z"
   },
   {
    "duration": 4,
    "start_time": "2024-12-02T19:21:55.136Z"
   },
   {
    "duration": 4,
    "start_time": "2024-12-02T19:21:55.142Z"
   },
   {
    "duration": 18,
    "start_time": "2024-12-02T19:21:55.148Z"
   },
   {
    "duration": 71,
    "start_time": "2024-12-02T19:21:55.169Z"
   },
   {
    "duration": 137,
    "start_time": "2024-12-02T19:21:55.242Z"
   },
   {
    "duration": 645,
    "start_time": "2024-12-02T19:21:55.381Z"
   },
   {
    "duration": 1221,
    "start_time": "2024-12-02T19:21:56.028Z"
   },
   {
    "duration": 64,
    "start_time": "2024-12-02T19:21:57.252Z"
   },
   {
    "duration": 87,
    "start_time": "2024-12-02T19:21:57.329Z"
   },
   {
    "duration": 12,
    "start_time": "2024-12-02T19:21:57.418Z"
   },
   {
    "duration": 11,
    "start_time": "2024-12-02T19:21:57.431Z"
   },
   {
    "duration": 10,
    "start_time": "2024-12-02T19:21:57.444Z"
   },
   {
    "duration": 13,
    "start_time": "2024-12-02T19:21:57.456Z"
   },
   {
    "duration": 54,
    "start_time": "2024-12-02T19:21:57.471Z"
   },
   {
    "duration": 94,
    "start_time": "2024-12-02T19:21:57.527Z"
   },
   {
    "duration": 136,
    "start_time": "2024-12-02T19:21:57.625Z"
   },
   {
    "duration": 99,
    "start_time": "2024-12-02T19:21:57.811Z"
   },
   {
    "duration": 50,
    "start_time": "2024-12-02T19:21:57.912Z"
   },
   {
    "duration": 169,
    "start_time": "2024-12-02T19:21:57.965Z"
   },
   {
    "duration": 1050,
    "start_time": "2024-12-02T19:22:23.656Z"
   },
   {
    "duration": 15,
    "start_time": "2024-12-02T19:22:24.708Z"
   },
   {
    "duration": 13,
    "start_time": "2024-12-02T19:22:24.725Z"
   },
   {
    "duration": 3,
    "start_time": "2024-12-02T19:22:24.740Z"
   },
   {
    "duration": 10,
    "start_time": "2024-12-02T19:22:24.745Z"
   },
   {
    "duration": 12,
    "start_time": "2024-12-02T19:22:24.757Z"
   },
   {
    "duration": 4,
    "start_time": "2024-12-02T19:22:24.771Z"
   },
   {
    "duration": 40,
    "start_time": "2024-12-02T19:22:24.776Z"
   },
   {
    "duration": 7,
    "start_time": "2024-12-02T19:22:24.818Z"
   },
   {
    "duration": 9,
    "start_time": "2024-12-02T19:22:24.828Z"
   },
   {
    "duration": 5,
    "start_time": "2024-12-02T19:22:24.838Z"
   },
   {
    "duration": 172,
    "start_time": "2024-12-02T19:22:24.845Z"
   },
   {
    "duration": 68,
    "start_time": "2024-12-02T19:22:25.019Z"
   },
   {
    "duration": 45,
    "start_time": "2024-12-02T19:22:25.088Z"
   },
   {
    "duration": 9,
    "start_time": "2024-12-02T19:22:25.135Z"
   },
   {
    "duration": 3,
    "start_time": "2024-12-02T19:22:25.146Z"
   },
   {
    "duration": 5,
    "start_time": "2024-12-02T19:22:25.151Z"
   },
   {
    "duration": 12,
    "start_time": "2024-12-02T19:22:25.159Z"
   },
   {
    "duration": 4,
    "start_time": "2024-12-02T19:22:25.173Z"
   },
   {
    "duration": 34,
    "start_time": "2024-12-02T19:22:25.178Z"
   },
   {
    "duration": 4,
    "start_time": "2024-12-02T19:22:25.213Z"
   },
   {
    "duration": 4,
    "start_time": "2024-12-02T19:22:25.218Z"
   },
   {
    "duration": 4,
    "start_time": "2024-12-02T19:22:25.223Z"
   },
   {
    "duration": 4,
    "start_time": "2024-12-02T19:22:25.228Z"
   },
   {
    "duration": 4,
    "start_time": "2024-12-02T19:22:25.234Z"
   },
   {
    "duration": 4,
    "start_time": "2024-12-02T19:22:25.239Z"
   },
   {
    "duration": 16,
    "start_time": "2024-12-02T19:22:25.245Z"
   },
   {
    "duration": 78,
    "start_time": "2024-12-02T19:22:25.265Z"
   },
   {
    "duration": 151,
    "start_time": "2024-12-02T19:22:25.345Z"
   },
   {
    "duration": 722,
    "start_time": "2024-12-02T19:22:25.498Z"
   },
   {
    "duration": 1390,
    "start_time": "2024-12-02T19:22:26.222Z"
   },
   {
    "duration": 33,
    "start_time": "2024-12-02T19:22:27.613Z"
   },
   {
    "duration": 15,
    "start_time": "2024-12-02T19:22:27.648Z"
   },
   {
    "duration": 8,
    "start_time": "2024-12-02T19:22:27.666Z"
   },
   {
    "duration": 38,
    "start_time": "2024-12-02T19:22:27.676Z"
   },
   {
    "duration": 11,
    "start_time": "2024-12-02T19:22:27.716Z"
   },
   {
    "duration": 13,
    "start_time": "2024-12-02T19:22:27.728Z"
   },
   {
    "duration": 13,
    "start_time": "2024-12-02T19:22:27.742Z"
   },
   {
    "duration": 11,
    "start_time": "2024-12-02T19:22:27.757Z"
   },
   {
    "duration": 93,
    "start_time": "2024-12-02T19:22:27.769Z"
   },
   {
    "duration": 26,
    "start_time": "2024-12-02T19:22:27.865Z"
   },
   {
    "duration": 69,
    "start_time": "2024-12-02T19:22:27.894Z"
   },
   {
    "duration": 75,
    "start_time": "2024-12-02T19:22:27.964Z"
   },
   {
    "duration": 1070,
    "start_time": "2024-12-02T19:23:32.533Z"
   },
   {
    "duration": 17,
    "start_time": "2024-12-02T19:23:33.606Z"
   },
   {
    "duration": 13,
    "start_time": "2024-12-02T19:23:33.624Z"
   },
   {
    "duration": 3,
    "start_time": "2024-12-02T19:23:33.639Z"
   },
   {
    "duration": 10,
    "start_time": "2024-12-02T19:23:33.644Z"
   },
   {
    "duration": 12,
    "start_time": "2024-12-02T19:23:33.656Z"
   },
   {
    "duration": 5,
    "start_time": "2024-12-02T19:23:33.669Z"
   },
   {
    "duration": 8,
    "start_time": "2024-12-02T19:23:33.708Z"
   },
   {
    "duration": 7,
    "start_time": "2024-12-02T19:23:33.718Z"
   },
   {
    "duration": 11,
    "start_time": "2024-12-02T19:23:33.727Z"
   },
   {
    "duration": 7,
    "start_time": "2024-12-02T19:23:33.739Z"
   },
   {
    "duration": 171,
    "start_time": "2024-12-02T19:23:33.748Z"
   },
   {
    "duration": 64,
    "start_time": "2024-12-02T19:23:33.921Z"
   },
   {
    "duration": 39,
    "start_time": "2024-12-02T19:23:33.988Z"
   },
   {
    "duration": 9,
    "start_time": "2024-12-02T19:23:34.029Z"
   },
   {
    "duration": 3,
    "start_time": "2024-12-02T19:23:34.039Z"
   },
   {
    "duration": 6,
    "start_time": "2024-12-02T19:23:34.044Z"
   },
   {
    "duration": 12,
    "start_time": "2024-12-02T19:23:34.051Z"
   },
   {
    "duration": 3,
    "start_time": "2024-12-02T19:23:34.064Z"
   },
   {
    "duration": 40,
    "start_time": "2024-12-02T19:23:34.069Z"
   },
   {
    "duration": 4,
    "start_time": "2024-12-02T19:23:34.110Z"
   },
   {
    "duration": 4,
    "start_time": "2024-12-02T19:23:34.116Z"
   },
   {
    "duration": 3,
    "start_time": "2024-12-02T19:23:34.121Z"
   },
   {
    "duration": 4,
    "start_time": "2024-12-02T19:23:34.126Z"
   },
   {
    "duration": 3,
    "start_time": "2024-12-02T19:23:34.131Z"
   },
   {
    "duration": 4,
    "start_time": "2024-12-02T19:23:34.136Z"
   },
   {
    "duration": 14,
    "start_time": "2024-12-02T19:23:34.141Z"
   },
   {
    "duration": 76,
    "start_time": "2024-12-02T19:23:34.156Z"
   },
   {
    "duration": 145,
    "start_time": "2024-12-02T19:23:34.234Z"
   },
   {
    "duration": 723,
    "start_time": "2024-12-02T19:23:34.381Z"
   },
   {
    "duration": 1370,
    "start_time": "2024-12-02T19:23:35.110Z"
   },
   {
    "duration": 38,
    "start_time": "2024-12-02T19:23:36.482Z"
   },
   {
    "duration": 16,
    "start_time": "2024-12-02T19:23:36.521Z"
   },
   {
    "duration": 8,
    "start_time": "2024-12-02T19:23:36.538Z"
   },
   {
    "duration": 12,
    "start_time": "2024-12-02T19:23:36.548Z"
   },
   {
    "duration": 11,
    "start_time": "2024-12-02T19:23:36.561Z"
   },
   {
    "duration": 43,
    "start_time": "2024-12-02T19:23:36.574Z"
   },
   {
    "duration": 14,
    "start_time": "2024-12-02T19:23:36.619Z"
   },
   {
    "duration": 11,
    "start_time": "2024-12-02T19:23:36.635Z"
   },
   {
    "duration": 79,
    "start_time": "2024-12-02T19:23:36.647Z"
   },
   {
    "duration": 25,
    "start_time": "2024-12-02T19:23:36.730Z"
   },
   {
    "duration": 66,
    "start_time": "2024-12-02T19:23:36.756Z"
   },
   {
    "duration": 68,
    "start_time": "2024-12-02T19:23:36.825Z"
   },
   {
    "duration": 163,
    "start_time": "2024-12-02T21:40:03.974Z"
   },
   {
    "duration": 2659,
    "start_time": "2024-12-02T21:40:11.909Z"
   },
   {
    "duration": 26,
    "start_time": "2024-12-02T21:40:14.571Z"
   },
   {
    "duration": 13,
    "start_time": "2024-12-02T21:40:14.598Z"
   },
   {
    "duration": 3,
    "start_time": "2024-12-02T21:40:14.614Z"
   },
   {
    "duration": 10,
    "start_time": "2024-12-02T21:40:14.619Z"
   },
   {
    "duration": 10,
    "start_time": "2024-12-02T21:40:14.643Z"
   },
   {
    "duration": 3,
    "start_time": "2024-12-02T21:40:14.655Z"
   },
   {
    "duration": 6,
    "start_time": "2024-12-02T21:40:14.660Z"
   },
   {
    "duration": 7,
    "start_time": "2024-12-02T21:40:14.667Z"
   },
   {
    "duration": 9,
    "start_time": "2024-12-02T21:40:14.677Z"
   },
   {
    "duration": 5,
    "start_time": "2024-12-02T21:40:14.687Z"
   },
   {
    "duration": 164,
    "start_time": "2024-12-02T21:40:14.693Z"
   },
   {
    "duration": 130,
    "start_time": "2024-12-02T21:40:14.859Z"
   },
   {
    "duration": 27,
    "start_time": "2024-12-02T21:40:14.991Z"
   },
   {
    "duration": 25,
    "start_time": "2024-12-02T21:40:15.020Z"
   },
   {
    "duration": 3,
    "start_time": "2024-12-02T21:40:15.047Z"
   },
   {
    "duration": 6,
    "start_time": "2024-12-02T21:40:15.052Z"
   },
   {
    "duration": 13,
    "start_time": "2024-12-02T21:40:15.060Z"
   },
   {
    "duration": 4,
    "start_time": "2024-12-02T21:40:15.074Z"
   },
   {
    "duration": 5,
    "start_time": "2024-12-02T21:40:15.080Z"
   },
   {
    "duration": 4,
    "start_time": "2024-12-02T21:40:15.087Z"
   },
   {
    "duration": 3,
    "start_time": "2024-12-02T21:40:15.092Z"
   },
   {
    "duration": 46,
    "start_time": "2024-12-02T21:40:15.097Z"
   },
   {
    "duration": 4,
    "start_time": "2024-12-02T21:40:15.145Z"
   },
   {
    "duration": 4,
    "start_time": "2024-12-02T21:40:15.150Z"
   },
   {
    "duration": 4,
    "start_time": "2024-12-02T21:40:15.156Z"
   },
   {
    "duration": 25,
    "start_time": "2024-12-02T21:40:15.161Z"
   },
   {
    "duration": 59,
    "start_time": "2024-12-02T21:40:15.194Z"
   },
   {
    "duration": 147,
    "start_time": "2024-12-02T21:40:15.255Z"
   },
   {
    "duration": 729,
    "start_time": "2024-12-02T21:40:15.404Z"
   },
   {
    "duration": 1384,
    "start_time": "2024-12-02T21:40:16.135Z"
   },
   {
    "duration": 33,
    "start_time": "2024-12-02T21:40:17.521Z"
   },
   {
    "duration": 14,
    "start_time": "2024-12-02T21:40:17.556Z"
   },
   {
    "duration": 8,
    "start_time": "2024-12-02T21:40:17.572Z"
   },
   {
    "duration": 12,
    "start_time": "2024-12-02T21:40:17.581Z"
   },
   {
    "duration": 11,
    "start_time": "2024-12-02T21:40:17.595Z"
   },
   {
    "duration": 39,
    "start_time": "2024-12-02T21:40:17.607Z"
   },
   {
    "duration": 14,
    "start_time": "2024-12-02T21:40:17.647Z"
   },
   {
    "duration": 11,
    "start_time": "2024-12-02T21:40:17.662Z"
   },
   {
    "duration": 79,
    "start_time": "2024-12-02T21:40:17.675Z"
   },
   {
    "duration": 25,
    "start_time": "2024-12-02T21:40:17.756Z"
   },
   {
    "duration": 63,
    "start_time": "2024-12-02T21:40:17.782Z"
   },
   {
    "duration": 64,
    "start_time": "2024-12-02T21:40:17.848Z"
   },
   {
    "duration": 400,
    "start_time": "2024-12-02T21:40:36.342Z"
   },
   {
    "duration": 12,
    "start_time": "2024-12-02T21:40:55.759Z"
   },
   {
    "duration": 1048,
    "start_time": "2024-12-02T21:41:10.591Z"
   },
   {
    "duration": 15,
    "start_time": "2024-12-02T21:41:11.641Z"
   },
   {
    "duration": 14,
    "start_time": "2024-12-02T21:41:11.658Z"
   },
   {
    "duration": 2,
    "start_time": "2024-12-02T21:41:11.674Z"
   },
   {
    "duration": 9,
    "start_time": "2024-12-02T21:41:11.678Z"
   },
   {
    "duration": 10,
    "start_time": "2024-12-02T21:41:11.689Z"
   },
   {
    "duration": 4,
    "start_time": "2024-12-02T21:41:11.700Z"
   },
   {
    "duration": 38,
    "start_time": "2024-12-02T21:41:11.705Z"
   },
   {
    "duration": 7,
    "start_time": "2024-12-02T21:41:11.745Z"
   },
   {
    "duration": 9,
    "start_time": "2024-12-02T21:41:11.754Z"
   },
   {
    "duration": 5,
    "start_time": "2024-12-02T21:41:11.765Z"
   },
   {
    "duration": 154,
    "start_time": "2024-12-02T21:41:11.771Z"
   },
   {
    "duration": 72,
    "start_time": "2024-12-02T21:41:11.927Z"
   },
   {
    "duration": 27,
    "start_time": "2024-12-02T21:41:12.001Z"
   },
   {
    "duration": 8,
    "start_time": "2024-12-02T21:41:12.043Z"
   },
   {
    "duration": 3,
    "start_time": "2024-12-02T21:41:12.053Z"
   },
   {
    "duration": 7,
    "start_time": "2024-12-02T21:41:12.058Z"
   },
   {
    "duration": 13,
    "start_time": "2024-12-02T21:41:12.066Z"
   },
   {
    "duration": 3,
    "start_time": "2024-12-02T21:41:12.080Z"
   },
   {
    "duration": 6,
    "start_time": "2024-12-02T21:41:12.085Z"
   },
   {
    "duration": 3,
    "start_time": "2024-12-02T21:41:12.093Z"
   },
   {
    "duration": 3,
    "start_time": "2024-12-02T21:41:12.098Z"
   },
   {
    "duration": 43,
    "start_time": "2024-12-02T21:41:12.103Z"
   },
   {
    "duration": 3,
    "start_time": "2024-12-02T21:41:12.148Z"
   },
   {
    "duration": 4,
    "start_time": "2024-12-02T21:41:12.153Z"
   },
   {
    "duration": 3,
    "start_time": "2024-12-02T21:41:12.159Z"
   },
   {
    "duration": 13,
    "start_time": "2024-12-02T21:41:12.165Z"
   },
   {
    "duration": 71,
    "start_time": "2024-12-02T21:41:12.183Z"
   },
   {
    "duration": 146,
    "start_time": "2024-12-02T21:41:12.255Z"
   },
   {
    "duration": 740,
    "start_time": "2024-12-02T21:41:12.403Z"
   },
   {
    "duration": 1397,
    "start_time": "2024-12-02T21:41:13.145Z"
   },
   {
    "duration": 30,
    "start_time": "2024-12-02T21:41:14.544Z"
   },
   {
    "duration": 16,
    "start_time": "2024-12-02T21:41:14.575Z"
   },
   {
    "duration": 8,
    "start_time": "2024-12-02T21:41:14.592Z"
   },
   {
    "duration": 12,
    "start_time": "2024-12-02T21:41:14.602Z"
   },
   {
    "duration": 36,
    "start_time": "2024-12-02T21:41:14.615Z"
   },
   {
    "duration": 12,
    "start_time": "2024-12-02T21:41:14.652Z"
   },
   {
    "duration": 14,
    "start_time": "2024-12-02T21:41:14.665Z"
   },
   {
    "duration": 13,
    "start_time": "2024-12-02T21:41:14.681Z"
   },
   {
    "duration": 84,
    "start_time": "2024-12-02T21:41:14.697Z"
   },
   {
    "duration": 25,
    "start_time": "2024-12-02T21:41:14.783Z"
   },
   {
    "duration": 69,
    "start_time": "2024-12-02T21:41:14.809Z"
   },
   {
    "duration": 67,
    "start_time": "2024-12-02T21:41:14.880Z"
   },
   {
    "duration": 13,
    "start_time": "2024-12-02T21:41:42.993Z"
   },
   {
    "duration": 11,
    "start_time": "2024-12-02T21:42:08.916Z"
   },
   {
    "duration": 12,
    "start_time": "2024-12-02T21:42:15.910Z"
   },
   {
    "duration": 16,
    "start_time": "2024-12-02T21:42:42.953Z"
   },
   {
    "duration": 11,
    "start_time": "2024-12-02T21:43:16.105Z"
   },
   {
    "duration": 10,
    "start_time": "2024-12-02T21:45:19.328Z"
   },
   {
    "duration": 10,
    "start_time": "2024-12-02T21:45:38.623Z"
   },
   {
    "duration": 17,
    "start_time": "2024-12-02T21:46:14.017Z"
   },
   {
    "duration": 12,
    "start_time": "2024-12-02T21:46:28.445Z"
   },
   {
    "duration": 15,
    "start_time": "2024-12-02T21:47:19.853Z"
   },
   {
    "duration": 14,
    "start_time": "2024-12-02T21:48:12.992Z"
   },
   {
    "duration": 15,
    "start_time": "2024-12-02T21:48:20.832Z"
   },
   {
    "duration": 28,
    "start_time": "2024-12-02T21:48:24.993Z"
   },
   {
    "duration": 1075,
    "start_time": "2024-12-02T21:50:06.060Z"
   },
   {
    "duration": 20,
    "start_time": "2024-12-02T21:50:07.137Z"
   },
   {
    "duration": 13,
    "start_time": "2024-12-02T21:50:07.159Z"
   },
   {
    "duration": 2,
    "start_time": "2024-12-02T21:50:07.175Z"
   },
   {
    "duration": 10,
    "start_time": "2024-12-02T21:50:07.179Z"
   },
   {
    "duration": 10,
    "start_time": "2024-12-02T21:50:07.190Z"
   },
   {
    "duration": 4,
    "start_time": "2024-12-02T21:50:07.202Z"
   },
   {
    "duration": 39,
    "start_time": "2024-12-02T21:50:07.207Z"
   },
   {
    "duration": 6,
    "start_time": "2024-12-02T21:50:07.248Z"
   },
   {
    "duration": 11,
    "start_time": "2024-12-02T21:50:07.258Z"
   },
   {
    "duration": 5,
    "start_time": "2024-12-02T21:50:07.271Z"
   },
   {
    "duration": 153,
    "start_time": "2024-12-02T21:50:07.278Z"
   },
   {
    "duration": 73,
    "start_time": "2024-12-02T21:50:07.432Z"
   },
   {
    "duration": 41,
    "start_time": "2024-12-02T21:50:07.508Z"
   },
   {
    "duration": 9,
    "start_time": "2024-12-02T21:50:07.551Z"
   },
   {
    "duration": 4,
    "start_time": "2024-12-02T21:50:07.562Z"
   },
   {
    "duration": 6,
    "start_time": "2024-12-02T21:50:07.567Z"
   },
   {
    "duration": 12,
    "start_time": "2024-12-02T21:50:07.575Z"
   },
   {
    "duration": 3,
    "start_time": "2024-12-02T21:50:07.588Z"
   },
   {
    "duration": 6,
    "start_time": "2024-12-02T21:50:07.593Z"
   },
   {
    "duration": 42,
    "start_time": "2024-12-02T21:50:07.601Z"
   },
   {
    "duration": 3,
    "start_time": "2024-12-02T21:50:07.645Z"
   },
   {
    "duration": 4,
    "start_time": "2024-12-02T21:50:07.650Z"
   },
   {
    "duration": 6,
    "start_time": "2024-12-02T21:50:07.655Z"
   },
   {
    "duration": 3,
    "start_time": "2024-12-02T21:50:07.662Z"
   },
   {
    "duration": 4,
    "start_time": "2024-12-02T21:50:07.667Z"
   },
   {
    "duration": 18,
    "start_time": "2024-12-02T21:50:07.672Z"
   },
   {
    "duration": 72,
    "start_time": "2024-12-02T21:50:07.693Z"
   },
   {
    "duration": 146,
    "start_time": "2024-12-02T21:50:07.767Z"
   },
   {
    "duration": 765,
    "start_time": "2024-12-02T21:50:07.915Z"
   },
   {
    "duration": 1386,
    "start_time": "2024-12-02T21:50:08.682Z"
   },
   {
    "duration": 29,
    "start_time": "2024-12-02T21:50:10.070Z"
   },
   {
    "duration": 15,
    "start_time": "2024-12-02T21:50:10.101Z"
   },
   {
    "duration": 32,
    "start_time": "2024-12-02T21:50:10.117Z"
   },
   {
    "duration": 12,
    "start_time": "2024-12-02T21:50:10.151Z"
   },
   {
    "duration": 12,
    "start_time": "2024-12-02T21:50:10.165Z"
   },
   {
    "duration": 13,
    "start_time": "2024-12-02T21:50:10.178Z"
   },
   {
    "duration": 16,
    "start_time": "2024-12-02T21:50:10.193Z"
   },
   {
    "duration": 12,
    "start_time": "2024-12-02T21:50:10.242Z"
   },
   {
    "duration": 63,
    "start_time": "2024-12-02T21:50:10.255Z"
   },
   {
    "duration": 38,
    "start_time": "2024-12-02T21:50:10.319Z"
   },
   {
    "duration": 52,
    "start_time": "2024-12-02T21:50:10.359Z"
   },
   {
    "duration": 79,
    "start_time": "2024-12-02T21:50:10.413Z"
   },
   {
    "duration": 6,
    "start_time": "2024-12-02T21:51:52.097Z"
   },
   {
    "duration": 28,
    "start_time": "2024-12-02T21:53:13.802Z"
   },
   {
    "duration": 29,
    "start_time": "2024-12-02T21:53:32.578Z"
   },
   {
    "duration": 30,
    "start_time": "2024-12-02T21:53:52.818Z"
   },
   {
    "duration": 22,
    "start_time": "2024-12-02T21:55:25.257Z"
   },
   {
    "duration": 13,
    "start_time": "2024-12-02T21:55:32.925Z"
   },
   {
    "duration": 11,
    "start_time": "2024-12-02T21:55:35.559Z"
   },
   {
    "duration": 11,
    "start_time": "2024-12-02T21:55:38.506Z"
   },
   {
    "duration": 15,
    "start_time": "2024-12-02T21:55:40.697Z"
   },
   {
    "duration": 12,
    "start_time": "2024-12-02T21:55:42.990Z"
   },
   {
    "duration": 23,
    "start_time": "2024-12-02T21:56:15.734Z"
   },
   {
    "duration": 22,
    "start_time": "2024-12-02T21:56:22.090Z"
   },
   {
    "duration": 11,
    "start_time": "2024-12-02T22:09:44.536Z"
   },
   {
    "duration": 11,
    "start_time": "2024-12-02T22:21:39.008Z"
   },
   {
    "duration": 11,
    "start_time": "2024-12-02T22:22:29.801Z"
   },
   {
    "duration": 11,
    "start_time": "2024-12-02T22:23:51.180Z"
   },
   {
    "duration": 5,
    "start_time": "2024-12-02T22:25:32.557Z"
   },
   {
    "duration": 1015,
    "start_time": "2024-12-02T22:25:57.155Z"
   },
   {
    "duration": 17,
    "start_time": "2024-12-02T22:25:58.172Z"
   },
   {
    "duration": 13,
    "start_time": "2024-12-02T22:25:58.190Z"
   },
   {
    "duration": 3,
    "start_time": "2024-12-02T22:25:58.204Z"
   },
   {
    "duration": 9,
    "start_time": "2024-12-02T22:25:58.209Z"
   },
   {
    "duration": 9,
    "start_time": "2024-12-02T22:25:58.242Z"
   },
   {
    "duration": 4,
    "start_time": "2024-12-02T22:25:58.252Z"
   },
   {
    "duration": 7,
    "start_time": "2024-12-02T22:25:58.257Z"
   },
   {
    "duration": 5,
    "start_time": "2024-12-02T22:25:58.266Z"
   },
   {
    "duration": 9,
    "start_time": "2024-12-02T22:25:58.275Z"
   },
   {
    "duration": 6,
    "start_time": "2024-12-02T22:25:58.286Z"
   },
   {
    "duration": 165,
    "start_time": "2024-12-02T22:25:58.293Z"
   },
   {
    "duration": 66,
    "start_time": "2024-12-02T22:25:58.460Z"
   },
   {
    "duration": 27,
    "start_time": "2024-12-02T22:25:58.543Z"
   },
   {
    "duration": 11,
    "start_time": "2024-12-02T22:25:58.572Z"
   },
   {
    "duration": 3,
    "start_time": "2024-12-02T22:25:58.584Z"
   },
   {
    "duration": 6,
    "start_time": "2024-12-02T22:25:58.589Z"
   },
   {
    "duration": 11,
    "start_time": "2024-12-02T22:25:58.597Z"
   },
   {
    "duration": 3,
    "start_time": "2024-12-02T22:25:58.610Z"
   },
   {
    "duration": 6,
    "start_time": "2024-12-02T22:25:58.644Z"
   },
   {
    "duration": 4,
    "start_time": "2024-12-02T22:25:58.651Z"
   },
   {
    "duration": 5,
    "start_time": "2024-12-02T22:25:58.657Z"
   },
   {
    "duration": 3,
    "start_time": "2024-12-02T22:25:58.665Z"
   },
   {
    "duration": 4,
    "start_time": "2024-12-02T22:25:58.670Z"
   },
   {
    "duration": 3,
    "start_time": "2024-12-02T22:25:58.676Z"
   },
   {
    "duration": 4,
    "start_time": "2024-12-02T22:25:58.681Z"
   },
   {
    "duration": 56,
    "start_time": "2024-12-02T22:25:58.686Z"
   },
   {
    "duration": 35,
    "start_time": "2024-12-02T22:25:58.746Z"
   },
   {
    "duration": 145,
    "start_time": "2024-12-02T22:25:58.783Z"
   },
   {
    "duration": 756,
    "start_time": "2024-12-02T22:25:58.930Z"
   },
   {
    "duration": 1409,
    "start_time": "2024-12-02T22:25:59.688Z"
   },
   {
    "duration": 504,
    "start_time": "2024-12-02T22:26:01.100Z"
   },
   {
    "duration": 0,
    "start_time": "2024-12-02T22:26:01.606Z"
   },
   {
    "duration": 0,
    "start_time": "2024-12-02T22:26:01.607Z"
   },
   {
    "duration": 0,
    "start_time": "2024-12-02T22:26:01.609Z"
   },
   {
    "duration": 0,
    "start_time": "2024-12-02T22:26:01.611Z"
   },
   {
    "duration": 0,
    "start_time": "2024-12-02T22:26:01.612Z"
   },
   {
    "duration": 0,
    "start_time": "2024-12-02T22:26:01.614Z"
   },
   {
    "duration": 1,
    "start_time": "2024-12-02T22:26:01.615Z"
   },
   {
    "duration": 28,
    "start_time": "2024-12-02T22:26:25.417Z"
   },
   {
    "duration": 23,
    "start_time": "2024-12-02T22:26:27.533Z"
   },
   {
    "duration": 33,
    "start_time": "2024-12-02T22:26:30.085Z"
   },
   {
    "duration": 24,
    "start_time": "2024-12-02T22:26:30.120Z"
   },
   {
    "duration": 9,
    "start_time": "2024-12-02T22:26:30.146Z"
   },
   {
    "duration": 12,
    "start_time": "2024-12-02T22:26:30.156Z"
   },
   {
    "duration": 10,
    "start_time": "2024-12-02T22:26:30.331Z"
   },
   {
    "duration": 15,
    "start_time": "2024-12-02T22:26:30.567Z"
   },
   {
    "duration": 11,
    "start_time": "2024-12-02T22:26:31.014Z"
   },
   {
    "duration": 8,
    "start_time": "2024-12-02T22:26:32.982Z"
   },
   {
    "duration": 9,
    "start_time": "2024-12-02T22:27:18.274Z"
   },
   {
    "duration": 9,
    "start_time": "2024-12-02T22:28:01.894Z"
   },
   {
    "duration": 48,
    "start_time": "2024-12-02T22:46:31.950Z"
   },
   {
    "duration": 32,
    "start_time": "2024-12-02T22:46:37.890Z"
   },
   {
    "duration": 1313,
    "start_time": "2024-12-02T22:57:56.524Z"
   },
   {
    "duration": 28,
    "start_time": "2024-12-02T22:57:57.841Z"
   },
   {
    "duration": 21,
    "start_time": "2024-12-02T22:57:57.871Z"
   },
   {
    "duration": 4,
    "start_time": "2024-12-02T22:57:57.897Z"
   },
   {
    "duration": 16,
    "start_time": "2024-12-02T22:57:57.904Z"
   },
   {
    "duration": 19,
    "start_time": "2024-12-02T22:57:57.923Z"
   },
   {
    "duration": 4,
    "start_time": "2024-12-02T22:57:57.944Z"
   },
   {
    "duration": 8,
    "start_time": "2024-12-02T22:57:57.950Z"
   },
   {
    "duration": 9,
    "start_time": "2024-12-02T22:57:57.960Z"
   },
   {
    "duration": 11,
    "start_time": "2024-12-02T22:57:57.974Z"
   },
   {
    "duration": 107,
    "start_time": "2024-12-02T22:57:57.987Z"
   },
   {
    "duration": 30,
    "start_time": "2024-12-02T22:57:58.096Z"
   },
   {
    "duration": 25,
    "start_time": "2024-12-02T22:57:58.128Z"
   },
   {
    "duration": 3,
    "start_time": "2024-12-02T22:57:58.157Z"
   },
   {
    "duration": 7,
    "start_time": "2024-12-02T22:57:58.162Z"
   },
   {
    "duration": 14,
    "start_time": "2024-12-02T22:57:58.170Z"
   },
   {
    "duration": 3,
    "start_time": "2024-12-02T22:57:58.186Z"
   },
   {
    "duration": 6,
    "start_time": "2024-12-02T22:57:58.191Z"
   },
   {
    "duration": 6,
    "start_time": "2024-12-02T22:57:58.199Z"
   },
   {
    "duration": 4,
    "start_time": "2024-12-02T22:57:58.243Z"
   },
   {
    "duration": 3,
    "start_time": "2024-12-02T22:57:58.249Z"
   },
   {
    "duration": 4,
    "start_time": "2024-12-02T22:57:58.254Z"
   },
   {
    "duration": 5,
    "start_time": "2024-12-02T22:57:58.260Z"
   },
   {
    "duration": 9,
    "start_time": "2024-12-02T22:57:58.267Z"
   },
   {
    "duration": 17,
    "start_time": "2024-12-02T22:57:58.277Z"
   },
   {
    "duration": 74,
    "start_time": "2024-12-02T22:57:58.297Z"
   },
   {
    "duration": 159,
    "start_time": "2024-12-02T22:57:58.373Z"
   },
   {
    "duration": 755,
    "start_time": "2024-12-02T22:57:58.534Z"
   },
   {
    "duration": 1624,
    "start_time": "2024-12-02T22:57:59.290Z"
   },
   {
    "duration": 43,
    "start_time": "2024-12-02T22:58:00.917Z"
   },
   {
    "duration": 24,
    "start_time": "2024-12-02T22:58:00.962Z"
   },
   {
    "duration": 9,
    "start_time": "2024-12-02T22:58:00.989Z"
   },
   {
    "duration": 13,
    "start_time": "2024-12-02T22:58:01.000Z"
   },
   {
    "duration": 40,
    "start_time": "2024-12-02T22:58:01.015Z"
   },
   {
    "duration": 19,
    "start_time": "2024-12-02T22:58:01.057Z"
   },
   {
    "duration": 13,
    "start_time": "2024-12-02T22:58:01.078Z"
   }
  ],
  "kernelspec": {
   "display_name": "base",
   "language": "python",
   "name": "python3"
  },
  "language_info": {
   "codemirror_mode": {
    "name": "ipython",
    "version": 3
   },
   "file_extension": ".py",
   "mimetype": "text/x-python",
   "name": "python",
   "nbconvert_exporter": "python",
   "pygments_lexer": "ipython3",
   "version": "3.12.4"
  },
  "toc": {
   "base_numbering": 1,
   "nav_menu": {},
   "number_sections": true,
   "sideBar": true,
   "skip_h1_title": true,
   "title_cell": "Table of Contents",
   "title_sidebar": "Contents",
   "toc_cell": false,
   "toc_position": {},
   "toc_section_display": true,
   "toc_window_display": false
  }
 },
 "nbformat": 4,
 "nbformat_minor": 2
}
